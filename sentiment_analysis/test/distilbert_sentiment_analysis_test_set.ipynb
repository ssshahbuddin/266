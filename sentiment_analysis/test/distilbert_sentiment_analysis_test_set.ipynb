{
  "cells": [
    {
      "cell_type": "code",
      "source": [
        "!nvidia-smi"
      ],
      "metadata": {
        "colab": {
          "base_uri": "https://localhost:8080/"
        },
        "id": "afSIw4CzEAUh",
        "outputId": "8de169c8-8600-4039-da6f-b8ad4e2457aa"
      },
      "execution_count": 1,
      "outputs": [
        {
          "output_type": "stream",
          "name": "stdout",
          "text": [
            "Thu Nov 24 20:07:20 2022       \n",
            "+-----------------------------------------------------------------------------+\n",
            "| NVIDIA-SMI 460.32.03    Driver Version: 460.32.03    CUDA Version: 11.2     |\n",
            "|-------------------------------+----------------------+----------------------+\n",
            "| GPU  Name        Persistence-M| Bus-Id        Disp.A | Volatile Uncorr. ECC |\n",
            "| Fan  Temp  Perf  Pwr:Usage/Cap|         Memory-Usage | GPU-Util  Compute M. |\n",
            "|                               |                      |               MIG M. |\n",
            "|===============================+======================+======================|\n",
            "|   0  A100-SXM4-40GB      Off  | 00000000:00:04.0 Off |                    0 |\n",
            "| N/A   27C    P0    43W / 400W |      0MiB / 40536MiB |      0%      Default |\n",
            "|                               |                      |             Disabled |\n",
            "+-------------------------------+----------------------+----------------------+\n",
            "                                                                               \n",
            "+-----------------------------------------------------------------------------+\n",
            "| Processes:                                                                  |\n",
            "|  GPU   GI   CI        PID   Type   Process name                  GPU Memory |\n",
            "|        ID   ID                                                   Usage      |\n",
            "|=============================================================================|\n",
            "|  No running processes found                                                 |\n",
            "+-----------------------------------------------------------------------------+\n"
          ]
        }
      ]
    },
    {
      "cell_type": "code",
      "source": [
        "!pip install transformers datasets --quiet"
      ],
      "metadata": {
        "id": "nHPDdFkPEXEc",
        "colab": {
          "base_uri": "https://localhost:8080/"
        },
        "outputId": "c9df918e-5388-4064-b9f1-fdfb39f055a8"
      },
      "execution_count": 2,
      "outputs": [
        {
          "output_type": "stream",
          "name": "stdout",
          "text": [
            "\u001b[K     |████████████████████████████████| 5.5 MB 4.8 MB/s \n",
            "\u001b[K     |████████████████████████████████| 451 kB 70.3 MB/s \n",
            "\u001b[K     |████████████████████████████████| 7.6 MB 70.4 MB/s \n",
            "\u001b[K     |████████████████████████████████| 182 kB 78.5 MB/s \n",
            "\u001b[K     |████████████████████████████████| 115 kB 71.7 MB/s \n",
            "\u001b[K     |████████████████████████████████| 212 kB 88.7 MB/s \n",
            "\u001b[K     |████████████████████████████████| 127 kB 86.4 MB/s \n",
            "\u001b[?25h"
          ]
        }
      ]
    },
    {
      "cell_type": "code",
      "source": [
        "#@title Imports\n",
        "from transformers import pipeline, set_seed\n",
        "\n",
        "import matplotlib.pyplot as plt\n",
        "\n",
        "import pandas as pd\n",
        "from datasets import load_dataset, load_metric\n",
        "\n",
        "from transformers import AutoModelForSeq2SeqLM, AutoTokenizer\n",
        "\n",
        "from sklearn.model_selection import train_test_split\n",
        "\n",
        "import nltk\n",
        "from nltk.tokenize import sent_tokenize\n",
        "\n",
        "from tqdm import tqdm\n",
        "import torch\n",
        "\n",
        "import glob \n",
        "\n",
        "import pickle\n",
        "\n",
        "nltk.download(\"punkt\")"
      ],
      "metadata": {
        "colab": {
          "base_uri": "https://localhost:8080/"
        },
        "id": "or-s1JJeEBmk",
        "outputId": "38d7d888-d233-4fc7-daed-be17aa3c455c"
      },
      "execution_count": 3,
      "outputs": [
        {
          "output_type": "stream",
          "name": "stderr",
          "text": [
            "[nltk_data] Downloading package punkt to /root/nltk_data...\n",
            "[nltk_data]   Unzipping tokenizers/punkt.zip.\n"
          ]
        },
        {
          "output_type": "execute_result",
          "data": {
            "text/plain": [
              "True"
            ]
          },
          "metadata": {},
          "execution_count": 3
        }
      ]
    },
    {
      "cell_type": "code",
      "source": [
        "import tensorflow as tf\n",
        "from tensorflow.keras import activations, optimizers, losses\n",
        "from transformers import DistilBertTokenizer, TFDistilBertForSequenceClassification\n",
        "import pickle"
      ],
      "metadata": {
        "id": "WNtdvJGKx0lh"
      },
      "execution_count": 4,
      "outputs": []
    },
    {
      "cell_type": "code",
      "source": [
        "#@title Load Data\n",
        "imdb_dataset = load_dataset('imdb')"
      ],
      "metadata": {
        "colab": {
          "base_uri": "https://localhost:8080/",
          "height": 265,
          "referenced_widgets": [
            "1bc301522199428ebc5a95d4fcd53751",
            "12ef664d06784bec985247d3636846d3",
            "55baf4911ef44e9882b5b5d1fc117abb",
            "ce987c9fb5d244369a8a1378515c0877",
            "99e68781f0774ff6ba6b764ed46347a2",
            "59e767e6995c4023bac646be6d3b257a",
            "d990a8ed6ea647ceaa030b64f6cb21d6",
            "558ec9e0119841659e69f0c50b38c4df",
            "c94e7c5b881049c1af59cd61148cc5f9",
            "4e7b2cadc0a74a0db2a818cbba2806b4",
            "1168642de951432db2059d69f71a703f",
            "2e501265b88e487d9ee70ecaa2010414",
            "780bf0e332d94f75a648767f6776e7c9",
            "e12a51969d474e70aa18bdc5b5ed73d5",
            "97601f6466ea4c1d80aa5a9bbd80696e",
            "054ba814fb9b48c7a076e2d4b8fd2c8e",
            "4f7411d050ba4758b96b15ac1bc27f1e",
            "0a662152e85a4038855118ef18253e03",
            "f64ff3a57c5f49da8a8bfa8d43974252",
            "86ceaf4232834375a4f414411e3ce849",
            "743c8ee8c9734a46bf7e0981f4950418",
            "6b40ca3339034050800d11d3ef011214",
            "01def88a5e5241d6950e34d208648d32",
            "f8f88c69a66b4223ae419585fb79f6c7",
            "92fb6ec7cd0d42d38678b83e66f84723",
            "56445d0b26cd4254b611723564535414",
            "d1895311974441b78bc20c9bf457237d",
            "44deaea987374079898a805d7855e0d7",
            "f6d9d860bc7d452c82c0e2cc70f5646e",
            "8701a648f31b496291f2896f3362a665",
            "376918b9db674107a0196d04c333593d",
            "59f69a25ea6b464eb24e718c2e1fcf6c",
            "7ac6d1aa80b244589b808ab17f62cea1",
            "fc52edccab22447ea798344fdc374a16",
            "a8418621dd544421bea990a157bb2047",
            "c8f437bff61347f8bca4af3cfa9c018d",
            "cf27a77b759f45a8815c6e456d4f4532",
            "5182600b7cec481791d90b9e2770876f",
            "e430d413ce2147bfbf74baf781b57171",
            "e9f3d480cf214750afee2a61a5f503c5",
            "71292fe8edb7431d90788147431677e1",
            "18848791440a426d93e161a02b84252a",
            "da653e78cc3f4591af60a203fb25c9c8",
            "27d242abfe434d26bb04710068a50d08",
            "ccb38d42c5f54966bcd210ba9c4d65d8",
            "9699f8d2ab92408ea95e069817947f4d",
            "712e29d8b1c84e32abaeb698175de9cc",
            "7a6e75d73c2b4312b73fee1e005a7e4a",
            "d14f54afe5d5446ba02072249d056cef",
            "f42dfd7c7cf74427b0e806e03c6989d4",
            "b6637da9a506469191469735e719b91a",
            "73739768d6b044bea586078e5079834d",
            "4c1fe337c78b419db3e3cfe31c377a5d",
            "0a64678a0ed34411ad70483b055046de",
            "dfab2b0f28324a5485af8dd852105fde",
            "57db55eb65bd4e009a83b17734bde078",
            "4dc1fe06b50e421dbafd8ba7654689ee",
            "26bad67ca50e40f1959c5da8af99a964",
            "542b06a71ad542b482ba7cc4612710f2",
            "06a8e8bb954a43f3bf2ff806899deaed",
            "1fb296b63c8441fb853fc9a11e2b8588",
            "66ee1829858849ffaca6c93a7504960c",
            "35dcd5dc49d24500ba2bda55b2e32a88",
            "0c95ce6464ad49afb8e9ec75e926f03e",
            "6fc793f1511d425c80e8345c1ed85f8b",
            "939136c5c3cd458dbde30ab80c5b07c8",
            "68fb63b6a05f4eeab099662f621d1192",
            "bcf19b045e9c4cb1a7aae800f75d62e9",
            "0f44abd0b04b4a419695f32595024ff7",
            "2f7b26d1ffe3405ea6f304d8d0f9fac8",
            "7c4743e6a8614133af3066fc331b5e2b",
            "27cd3138ce3c4cff8c389b4a3c38c717",
            "26b501ede4b542e49253bb707cb018df",
            "38a90979344a411f807f0bca9b011d6f",
            "3bc84bfbcefd4f838b7806e3ec85e35a",
            "ae9af49ee9354e278268f8d29bec82b5",
            "24552e7f0d28450e8455517fbb43ff8a",
            "c7212a0d63164ef8a9e12b39c46f89e4",
            "bd5cc60412bf4fa3bbc6a14d8aa434ea",
            "fa0d6b8bc9f241338e12abb6fffc7381",
            "5c2269ad418640a5a14c5b908f6be4e7",
            "b2faf6f698b24a86981b711316824b1b",
            "3a26de25c0ab4da195945cfcfde842cc",
            "5fd6f8a5d8eb438d9563eb9df5710a48",
            "ab6b5f42b815499ab3f54dd317913016",
            "b064b25bd5db4ba8a600ec51732934d3",
            "2a3fbb282be14505bf2b26b9d215237f",
            "6cb0f06230834ec690678d82c677cfed"
          ]
        },
        "id": "Nhp8MdlyFdEh",
        "outputId": "99219012-71aa-47e1-b474-2d106d0be515"
      },
      "execution_count": 5,
      "outputs": [
        {
          "output_type": "display_data",
          "data": {
            "text/plain": [
              "Downloading builder script:   0%|          | 0.00/4.31k [00:00<?, ?B/s]"
            ],
            "application/vnd.jupyter.widget-view+json": {
              "version_major": 2,
              "version_minor": 0,
              "model_id": "1bc301522199428ebc5a95d4fcd53751"
            }
          },
          "metadata": {}
        },
        {
          "output_type": "display_data",
          "data": {
            "text/plain": [
              "Downloading metadata:   0%|          | 0.00/2.17k [00:00<?, ?B/s]"
            ],
            "application/vnd.jupyter.widget-view+json": {
              "version_major": 2,
              "version_minor": 0,
              "model_id": "2e501265b88e487d9ee70ecaa2010414"
            }
          },
          "metadata": {}
        },
        {
          "output_type": "display_data",
          "data": {
            "text/plain": [
              "Downloading readme:   0%|          | 0.00/7.59k [00:00<?, ?B/s]"
            ],
            "application/vnd.jupyter.widget-view+json": {
              "version_major": 2,
              "version_minor": 0,
              "model_id": "01def88a5e5241d6950e34d208648d32"
            }
          },
          "metadata": {}
        },
        {
          "output_type": "stream",
          "name": "stdout",
          "text": [
            "Downloading and preparing dataset imdb/plain_text to /root/.cache/huggingface/datasets/imdb/plain_text/1.0.0/2fdd8b9bcadd6e7055e742a706876ba43f19faee861df134affd7a3f60fc38a1...\n"
          ]
        },
        {
          "output_type": "display_data",
          "data": {
            "text/plain": [
              "Downloading data:   0%|          | 0.00/84.1M [00:00<?, ?B/s]"
            ],
            "application/vnd.jupyter.widget-view+json": {
              "version_major": 2,
              "version_minor": 0,
              "model_id": "fc52edccab22447ea798344fdc374a16"
            }
          },
          "metadata": {}
        },
        {
          "output_type": "display_data",
          "data": {
            "text/plain": [
              "Generating train split:   0%|          | 0/25000 [00:00<?, ? examples/s]"
            ],
            "application/vnd.jupyter.widget-view+json": {
              "version_major": 2,
              "version_minor": 0,
              "model_id": "ccb38d42c5f54966bcd210ba9c4d65d8"
            }
          },
          "metadata": {}
        },
        {
          "output_type": "display_data",
          "data": {
            "text/plain": [
              "Generating test split:   0%|          | 0/25000 [00:00<?, ? examples/s]"
            ],
            "application/vnd.jupyter.widget-view+json": {
              "version_major": 2,
              "version_minor": 0,
              "model_id": "57db55eb65bd4e009a83b17734bde078"
            }
          },
          "metadata": {}
        },
        {
          "output_type": "display_data",
          "data": {
            "text/plain": [
              "Generating unsupervised split:   0%|          | 0/50000 [00:00<?, ? examples/s]"
            ],
            "application/vnd.jupyter.widget-view+json": {
              "version_major": 2,
              "version_minor": 0,
              "model_id": "68fb63b6a05f4eeab099662f621d1192"
            }
          },
          "metadata": {}
        },
        {
          "output_type": "stream",
          "name": "stdout",
          "text": [
            "Dataset imdb downloaded and prepared to /root/.cache/huggingface/datasets/imdb/plain_text/1.0.0/2fdd8b9bcadd6e7055e742a706876ba43f19faee861df134affd7a3f60fc38a1. Subsequent calls will reuse this data.\n"
          ]
        },
        {
          "output_type": "display_data",
          "data": {
            "text/plain": [
              "  0%|          | 0/3 [00:00<?, ?it/s]"
            ],
            "application/vnd.jupyter.widget-view+json": {
              "version_major": 2,
              "version_minor": 0,
              "model_id": "c7212a0d63164ef8a9e12b39c46f89e4"
            }
          },
          "metadata": {}
        }
      ]
    },
    {
      "cell_type": "code",
      "source": [
        "split_lengths = [len(imdb_dataset[split])for split in imdb_dataset]\n",
        "\n",
        "print(f\"Split lengths: {split_lengths}\")\n",
        "print(f\"Features: {imdb_dataset['train'].column_names}\")"
      ],
      "metadata": {
        "colab": {
          "base_uri": "https://localhost:8080/"
        },
        "id": "9znqKyVSFl20",
        "outputId": "d25150de-dfe0-4eef-d66c-ea147aff8f67"
      },
      "execution_count": 6,
      "outputs": [
        {
          "output_type": "stream",
          "name": "stdout",
          "text": [
            "Split lengths: [25000, 25000, 50000]\n",
            "Features: ['text', 'label']\n"
          ]
        }
      ]
    },
    {
      "cell_type": "markdown",
      "source": [
        "## Load Data"
      ],
      "metadata": {
        "id": "B3MRwc8_XhTs"
      }
    },
    {
      "cell_type": "code",
      "source": [
        "#@title Create DataFrame\n",
        "imdb_train_df = pd.DataFrame(imdb_dataset['train'])\n",
        "print(imdb_train_df.shape)\n",
        "imdb_train_df.head()"
      ],
      "metadata": {
        "colab": {
          "base_uri": "https://localhost:8080/",
          "height": 224
        },
        "id": "oKNVrer5xJzj",
        "outputId": "8ece96ab-a4e6-4561-f3b8-d6637f75c9c9"
      },
      "execution_count": 7,
      "outputs": [
        {
          "output_type": "stream",
          "name": "stdout",
          "text": [
            "(25000, 2)\n"
          ]
        },
        {
          "output_type": "execute_result",
          "data": {
            "text/plain": [
              "                                                text  label\n",
              "0  I rented I AM CURIOUS-YELLOW from my video sto...      0\n",
              "1  \"I Am Curious: Yellow\" is a risible and preten...      0\n",
              "2  If only to avoid making this type of film in t...      0\n",
              "3  This film was probably inspired by Godard's Ma...      0\n",
              "4  Oh, brother...after hearing about this ridicul...      0"
            ],
            "text/html": [
              "\n",
              "  <div id=\"df-a1e7efd5-6b60-4f0c-8cc2-fcb37d3a7629\">\n",
              "    <div class=\"colab-df-container\">\n",
              "      <div>\n",
              "<style scoped>\n",
              "    .dataframe tbody tr th:only-of-type {\n",
              "        vertical-align: middle;\n",
              "    }\n",
              "\n",
              "    .dataframe tbody tr th {\n",
              "        vertical-align: top;\n",
              "    }\n",
              "\n",
              "    .dataframe thead th {\n",
              "        text-align: right;\n",
              "    }\n",
              "</style>\n",
              "<table border=\"1\" class=\"dataframe\">\n",
              "  <thead>\n",
              "    <tr style=\"text-align: right;\">\n",
              "      <th></th>\n",
              "      <th>text</th>\n",
              "      <th>label</th>\n",
              "    </tr>\n",
              "  </thead>\n",
              "  <tbody>\n",
              "    <tr>\n",
              "      <th>0</th>\n",
              "      <td>I rented I AM CURIOUS-YELLOW from my video sto...</td>\n",
              "      <td>0</td>\n",
              "    </tr>\n",
              "    <tr>\n",
              "      <th>1</th>\n",
              "      <td>\"I Am Curious: Yellow\" is a risible and preten...</td>\n",
              "      <td>0</td>\n",
              "    </tr>\n",
              "    <tr>\n",
              "      <th>2</th>\n",
              "      <td>If only to avoid making this type of film in t...</td>\n",
              "      <td>0</td>\n",
              "    </tr>\n",
              "    <tr>\n",
              "      <th>3</th>\n",
              "      <td>This film was probably inspired by Godard's Ma...</td>\n",
              "      <td>0</td>\n",
              "    </tr>\n",
              "    <tr>\n",
              "      <th>4</th>\n",
              "      <td>Oh, brother...after hearing about this ridicul...</td>\n",
              "      <td>0</td>\n",
              "    </tr>\n",
              "  </tbody>\n",
              "</table>\n",
              "</div>\n",
              "      <button class=\"colab-df-convert\" onclick=\"convertToInteractive('df-a1e7efd5-6b60-4f0c-8cc2-fcb37d3a7629')\"\n",
              "              title=\"Convert this dataframe to an interactive table.\"\n",
              "              style=\"display:none;\">\n",
              "        \n",
              "  <svg xmlns=\"http://www.w3.org/2000/svg\" height=\"24px\"viewBox=\"0 0 24 24\"\n",
              "       width=\"24px\">\n",
              "    <path d=\"M0 0h24v24H0V0z\" fill=\"none\"/>\n",
              "    <path d=\"M18.56 5.44l.94 2.06.94-2.06 2.06-.94-2.06-.94-.94-2.06-.94 2.06-2.06.94zm-11 1L8.5 8.5l.94-2.06 2.06-.94-2.06-.94L8.5 2.5l-.94 2.06-2.06.94zm10 10l.94 2.06.94-2.06 2.06-.94-2.06-.94-.94-2.06-.94 2.06-2.06.94z\"/><path d=\"M17.41 7.96l-1.37-1.37c-.4-.4-.92-.59-1.43-.59-.52 0-1.04.2-1.43.59L10.3 9.45l-7.72 7.72c-.78.78-.78 2.05 0 2.83L4 21.41c.39.39.9.59 1.41.59.51 0 1.02-.2 1.41-.59l7.78-7.78 2.81-2.81c.8-.78.8-2.07 0-2.86zM5.41 20L4 18.59l7.72-7.72 1.47 1.35L5.41 20z\"/>\n",
              "  </svg>\n",
              "      </button>\n",
              "      \n",
              "  <style>\n",
              "    .colab-df-container {\n",
              "      display:flex;\n",
              "      flex-wrap:wrap;\n",
              "      gap: 12px;\n",
              "    }\n",
              "\n",
              "    .colab-df-convert {\n",
              "      background-color: #E8F0FE;\n",
              "      border: none;\n",
              "      border-radius: 50%;\n",
              "      cursor: pointer;\n",
              "      display: none;\n",
              "      fill: #1967D2;\n",
              "      height: 32px;\n",
              "      padding: 0 0 0 0;\n",
              "      width: 32px;\n",
              "    }\n",
              "\n",
              "    .colab-df-convert:hover {\n",
              "      background-color: #E2EBFA;\n",
              "      box-shadow: 0px 1px 2px rgba(60, 64, 67, 0.3), 0px 1px 3px 1px rgba(60, 64, 67, 0.15);\n",
              "      fill: #174EA6;\n",
              "    }\n",
              "\n",
              "    [theme=dark] .colab-df-convert {\n",
              "      background-color: #3B4455;\n",
              "      fill: #D2E3FC;\n",
              "    }\n",
              "\n",
              "    [theme=dark] .colab-df-convert:hover {\n",
              "      background-color: #434B5C;\n",
              "      box-shadow: 0px 1px 3px 1px rgba(0, 0, 0, 0.15);\n",
              "      filter: drop-shadow(0px 1px 2px rgba(0, 0, 0, 0.3));\n",
              "      fill: #FFFFFF;\n",
              "    }\n",
              "  </style>\n",
              "\n",
              "      <script>\n",
              "        const buttonEl =\n",
              "          document.querySelector('#df-a1e7efd5-6b60-4f0c-8cc2-fcb37d3a7629 button.colab-df-convert');\n",
              "        buttonEl.style.display =\n",
              "          google.colab.kernel.accessAllowed ? 'block' : 'none';\n",
              "\n",
              "        async function convertToInteractive(key) {\n",
              "          const element = document.querySelector('#df-a1e7efd5-6b60-4f0c-8cc2-fcb37d3a7629');\n",
              "          const dataTable =\n",
              "            await google.colab.kernel.invokeFunction('convertToInteractive',\n",
              "                                                     [key], {});\n",
              "          if (!dataTable) return;\n",
              "\n",
              "          const docLinkHtml = 'Like what you see? Visit the ' +\n",
              "            '<a target=\"_blank\" href=https://colab.research.google.com/notebooks/data_table.ipynb>data table notebook</a>'\n",
              "            + ' to learn more about interactive tables.';\n",
              "          element.innerHTML = '';\n",
              "          dataTable['output_type'] = 'display_data';\n",
              "          await google.colab.output.renderOutput(dataTable, element);\n",
              "          const docLink = document.createElement('div');\n",
              "          docLink.innerHTML = docLinkHtml;\n",
              "          element.appendChild(docLink);\n",
              "        }\n",
              "      </script>\n",
              "    </div>\n",
              "  </div>\n",
              "  "
            ]
          },
          "metadata": {},
          "execution_count": 7
        }
      ]
    },
    {
      "cell_type": "code",
      "source": [
        "import os\n",
        "import glob"
      ],
      "metadata": {
        "id": "696Ho7mXYKBH"
      },
      "execution_count": 8,
      "outputs": []
    },
    {
      "cell_type": "code",
      "source": [
        "from google.colab import drive \n",
        "drive.mount('/content/gdrive')"
      ],
      "metadata": {
        "colab": {
          "base_uri": "https://localhost:8080/",
          "height": 35
        },
        "id": "ovyVJ2wDYZio",
        "outputId": "dc9c834c-6212-4ef2-e243-09322cc7010b"
      },
      "execution_count": 9,
      "outputs": [
        {
          "output_type": "stream",
          "name": "stdout",
          "text": [
            "Mounted at /content/gdrive\n"
          ]
        }
      ]
    },
    {
      "cell_type": "code",
      "source": [
        "!ls gdrive/MyDrive/amazon_summaries"
      ],
      "metadata": {
        "colab": {
          "base_uri": "https://localhost:8080/"
        },
        "id": "2Yszda-3YU2X",
        "outputId": "d0089d72-5df7-4e4d-b62b-0b844574b7f7"
      },
      "execution_count": 10,
      "outputs": [
        {
          "output_type": "stream",
          "name": "stdout",
          "text": [
            "finetuned_imdb_amazon_summary.csv  imdb_amazon_summary.csv  test_data\n"
          ]
        }
      ]
    },
    {
      "cell_type": "markdown",
      "source": [
        "#### Import Pegasus Data"
      ],
      "metadata": {
        "id": "t6-YCA7Gk8sq"
      }
    },
    {
      "cell_type": "code",
      "source": [
        "!ls gdrive/MyDrive/imdb_summaries/"
      ],
      "metadata": {
        "colab": {
          "base_uri": "https://localhost:8080/"
        },
        "id": "hlETZwwolC_X",
        "outputId": "a4b9bc22-488d-434b-b638-dcacebcd8950"
      },
      "execution_count": 11,
      "outputs": [
        {
          "output_type": "stream",
          "name": "stdout",
          "text": [
            "imdb_summary_100.csv  imdb_summary_18.csv  imdb_summary_5.csv\n",
            "imdb_summary_101.csv  imdb_summary_19.csv  imdb_summary_60.csv\n",
            "imdb_summary_102.csv  imdb_summary_1.csv   imdb_summary_61.csv\n",
            "imdb_summary_103.csv  imdb_summary_20.csv  imdb_summary_62.csv\n",
            "imdb_summary_104.csv  imdb_summary_21.csv  imdb_summary_63.csv\n",
            "imdb_summary_105.csv  imdb_summary_22.csv  imdb_summary_64.csv\n",
            "imdb_summary_106.csv  imdb_summary_23.csv  imdb_summary_65.csv\n",
            "imdb_summary_107.csv  imdb_summary_24.csv  imdb_summary_66.csv\n",
            "imdb_summary_108.csv  imdb_summary_25.csv  imdb_summary_67.csv\n",
            "imdb_summary_109.csv  imdb_summary_26.csv  imdb_summary_68.csv\n",
            "imdb_summary_10.csv   imdb_summary_27.csv  imdb_summary_69.csv\n",
            "imdb_summary_110.csv  imdb_summary_28.csv  imdb_summary_6.csv\n",
            "imdb_summary_111.csv  imdb_summary_29.csv  imdb_summary_70.csv\n",
            "imdb_summary_112.csv  imdb_summary_2.csv   imdb_summary_71.csv\n",
            "imdb_summary_113.csv  imdb_summary_30.csv  imdb_summary_72.csv\n",
            "imdb_summary_114.csv  imdb_summary_31.csv  imdb_summary_73.csv\n",
            "imdb_summary_115.csv  imdb_summary_32.csv  imdb_summary_74.csv\n",
            "imdb_summary_116.csv  imdb_summary_33.csv  imdb_summary_75.csv\n",
            "imdb_summary_117.csv  imdb_summary_34.csv  imdb_summary_76.csv\n",
            "imdb_summary_118.csv  imdb_summary_35.csv  imdb_summary_77.csv\n",
            "imdb_summary_119.csv  imdb_summary_36.csv  imdb_summary_78.csv\n",
            "imdb_summary_11.csv   imdb_summary_37.csv  imdb_summary_79.csv\n",
            "imdb_summary_120.csv  imdb_summary_38.csv  imdb_summary_7.csv\n",
            "imdb_summary_121.csv  imdb_summary_39.csv  imdb_summary_80.csv\n",
            "imdb_summary_122.csv  imdb_summary_3.csv   imdb_summary_81.csv\n",
            "imdb_summary_123.csv  imdb_summary_40.csv  imdb_summary_82.csv\n",
            "imdb_summary_124.csv  imdb_summary_41.csv  imdb_summary_83.csv\n",
            "imdb_summary_125.csv  imdb_summary_42.csv  imdb_summary_84.csv\n",
            "imdb_summary_126.csv  imdb_summary_43.csv  imdb_summary_85.csv\n",
            "imdb_summary_127.csv  imdb_summary_44.csv  imdb_summary_86.csv\n",
            "imdb_summary_128.csv  imdb_summary_45.csv  imdb_summary_87.csv\n",
            "imdb_summary_129.csv  imdb_summary_46.csv  imdb_summary_88.csv\n",
            "imdb_summary_12.csv   imdb_summary_47.csv  imdb_summary_89.csv\n",
            "imdb_summary_130.csv  imdb_summary_48.csv  imdb_summary_8.csv\n",
            "imdb_summary_131.csv  imdb_summary_49.csv  imdb_summary_90.csv\n",
            "imdb_summary_132.csv  imdb_summary_4.csv   imdb_summary_91.csv\n",
            "imdb_summary_133.csv  imdb_summary_50.csv  imdb_summary_92.csv\n",
            "imdb_summary_134.csv  imdb_summary_51.csv  imdb_summary_93.csv\n",
            "imdb_summary_135.csv  imdb_summary_52.csv  imdb_summary_94.csv\n",
            "imdb_summary_136.csv  imdb_summary_53.csv  imdb_summary_95.csv\n",
            "imdb_summary_137.csv  imdb_summary_54.csv  imdb_summary_96.csv\n",
            "imdb_summary_13.csv   imdb_summary_55.csv  imdb_summary_97.csv\n",
            "imdb_summary_14.csv   imdb_summary_56.csv  imdb_summary_98.csv\n",
            "imdb_summary_15.csv   imdb_summary_57.csv  imdb_summary_99.csv\n",
            "imdb_summary_16.csv   imdb_summary_58.csv  imdb_summary_9.csv\n",
            "imdb_summary_17.csv   imdb_summary_59.csv\n"
          ]
        }
      ]
    },
    {
      "cell_type": "code",
      "source": [
        "files = os.path.join('/content/gdrive/MyDrive/imdb_summaries/', 'imdb_summary_*.csv')\n",
        "files = glob.glob(files)"
      ],
      "metadata": {
        "id": "9kaGH_-5lGpK"
      },
      "execution_count": 12,
      "outputs": []
    },
    {
      "cell_type": "code",
      "source": [
        "#@title Create Pegasus DF\n",
        "pegasus_df = pd.concat(map(pd.read_csv, files), ignore_index = True)"
      ],
      "metadata": {
        "id": "aU8-iqH2kpLw"
      },
      "execution_count": 13,
      "outputs": []
    },
    {
      "cell_type": "code",
      "source": [
        "#@title Create Pegasus Amazon DF\n",
        "pegasus_amazon_df = pd.read_csv('gdrive/MyDrive/amazon_summaries/imdb_amazon_summary.csv')"
      ],
      "metadata": {
        "id": "CAqy2EIPV229"
      },
      "execution_count": 14,
      "outputs": []
    },
    {
      "cell_type": "code",
      "source": [
        "#@title Create Pegasus Amazon FineTune DF\n",
        "pft_amazon_df = pd.read_csv('gdrive/MyDrive/amazon_summaries/finetuned_imdb_amazon_summary.csv')"
      ],
      "metadata": {
        "id": "Jzhf6WcTlWso"
      },
      "execution_count": 15,
      "outputs": []
    },
    {
      "cell_type": "code",
      "source": [
        "#@title Merge Pegasus DF\n",
        "merge_df = pd.merge(imdb_train_df, pegasus_df, left_index=True, right_index=True)\n",
        "merge_df = merge_df.drop(['Unnamed: 0'], axis=1)\n",
        "merge_df = merge_df.rename(columns={\"summary\": \"pegasus_summary\"})\n",
        "merge_df.head()"
      ],
      "metadata": {
        "colab": {
          "base_uri": "https://localhost:8080/",
          "height": 206
        },
        "id": "XC3TSM5kWEXE",
        "outputId": "f4039f5a-d332-4423-8ade-c942e10a243f"
      },
      "execution_count": 16,
      "outputs": [
        {
          "output_type": "execute_result",
          "data": {
            "text/plain": [
              "                                                text  label  \\\n",
              "0  I rented I AM CURIOUS-YELLOW from my video sto...      0   \n",
              "1  \"I Am Curious: Yellow\" is a risible and preten...      0   \n",
              "2  If only to avoid making this type of film in t...      0   \n",
              "3  This film was probably inspired by Godard's Ma...      0   \n",
              "4  Oh, brother...after hearing about this ridicul...      0   \n",
              "\n",
              "                                     pegasus_summary  \n",
              "0  I AM CURIOUS is a film that has been viewed by...  \n",
              "1  Chloe Rigny's new film is a \"damning indictmen...  \n",
              "2  A film about a tree growing in the middle of n...  \n",
              "3  The film is a farce, but it's not as bad or st...  \n",
              "4  I'm not sure what happened to the film, but it...  "
            ],
            "text/html": [
              "\n",
              "  <div id=\"df-3bd7a207-2d30-4a7f-9e83-08dd85d1eddb\">\n",
              "    <div class=\"colab-df-container\">\n",
              "      <div>\n",
              "<style scoped>\n",
              "    .dataframe tbody tr th:only-of-type {\n",
              "        vertical-align: middle;\n",
              "    }\n",
              "\n",
              "    .dataframe tbody tr th {\n",
              "        vertical-align: top;\n",
              "    }\n",
              "\n",
              "    .dataframe thead th {\n",
              "        text-align: right;\n",
              "    }\n",
              "</style>\n",
              "<table border=\"1\" class=\"dataframe\">\n",
              "  <thead>\n",
              "    <tr style=\"text-align: right;\">\n",
              "      <th></th>\n",
              "      <th>text</th>\n",
              "      <th>label</th>\n",
              "      <th>pegasus_summary</th>\n",
              "    </tr>\n",
              "  </thead>\n",
              "  <tbody>\n",
              "    <tr>\n",
              "      <th>0</th>\n",
              "      <td>I rented I AM CURIOUS-YELLOW from my video sto...</td>\n",
              "      <td>0</td>\n",
              "      <td>I AM CURIOUS is a film that has been viewed by...</td>\n",
              "    </tr>\n",
              "    <tr>\n",
              "      <th>1</th>\n",
              "      <td>\"I Am Curious: Yellow\" is a risible and preten...</td>\n",
              "      <td>0</td>\n",
              "      <td>Chloe Rigny's new film is a \"damning indictmen...</td>\n",
              "    </tr>\n",
              "    <tr>\n",
              "      <th>2</th>\n",
              "      <td>If only to avoid making this type of film in t...</td>\n",
              "      <td>0</td>\n",
              "      <td>A film about a tree growing in the middle of n...</td>\n",
              "    </tr>\n",
              "    <tr>\n",
              "      <th>3</th>\n",
              "      <td>This film was probably inspired by Godard's Ma...</td>\n",
              "      <td>0</td>\n",
              "      <td>The film is a farce, but it's not as bad or st...</td>\n",
              "    </tr>\n",
              "    <tr>\n",
              "      <th>4</th>\n",
              "      <td>Oh, brother...after hearing about this ridicul...</td>\n",
              "      <td>0</td>\n",
              "      <td>I'm not sure what happened to the film, but it...</td>\n",
              "    </tr>\n",
              "  </tbody>\n",
              "</table>\n",
              "</div>\n",
              "      <button class=\"colab-df-convert\" onclick=\"convertToInteractive('df-3bd7a207-2d30-4a7f-9e83-08dd85d1eddb')\"\n",
              "              title=\"Convert this dataframe to an interactive table.\"\n",
              "              style=\"display:none;\">\n",
              "        \n",
              "  <svg xmlns=\"http://www.w3.org/2000/svg\" height=\"24px\"viewBox=\"0 0 24 24\"\n",
              "       width=\"24px\">\n",
              "    <path d=\"M0 0h24v24H0V0z\" fill=\"none\"/>\n",
              "    <path d=\"M18.56 5.44l.94 2.06.94-2.06 2.06-.94-2.06-.94-.94-2.06-.94 2.06-2.06.94zm-11 1L8.5 8.5l.94-2.06 2.06-.94-2.06-.94L8.5 2.5l-.94 2.06-2.06.94zm10 10l.94 2.06.94-2.06 2.06-.94-2.06-.94-.94-2.06-.94 2.06-2.06.94z\"/><path d=\"M17.41 7.96l-1.37-1.37c-.4-.4-.92-.59-1.43-.59-.52 0-1.04.2-1.43.59L10.3 9.45l-7.72 7.72c-.78.78-.78 2.05 0 2.83L4 21.41c.39.39.9.59 1.41.59.51 0 1.02-.2 1.41-.59l7.78-7.78 2.81-2.81c.8-.78.8-2.07 0-2.86zM5.41 20L4 18.59l7.72-7.72 1.47 1.35L5.41 20z\"/>\n",
              "  </svg>\n",
              "      </button>\n",
              "      \n",
              "  <style>\n",
              "    .colab-df-container {\n",
              "      display:flex;\n",
              "      flex-wrap:wrap;\n",
              "      gap: 12px;\n",
              "    }\n",
              "\n",
              "    .colab-df-convert {\n",
              "      background-color: #E8F0FE;\n",
              "      border: none;\n",
              "      border-radius: 50%;\n",
              "      cursor: pointer;\n",
              "      display: none;\n",
              "      fill: #1967D2;\n",
              "      height: 32px;\n",
              "      padding: 0 0 0 0;\n",
              "      width: 32px;\n",
              "    }\n",
              "\n",
              "    .colab-df-convert:hover {\n",
              "      background-color: #E2EBFA;\n",
              "      box-shadow: 0px 1px 2px rgba(60, 64, 67, 0.3), 0px 1px 3px 1px rgba(60, 64, 67, 0.15);\n",
              "      fill: #174EA6;\n",
              "    }\n",
              "\n",
              "    [theme=dark] .colab-df-convert {\n",
              "      background-color: #3B4455;\n",
              "      fill: #D2E3FC;\n",
              "    }\n",
              "\n",
              "    [theme=dark] .colab-df-convert:hover {\n",
              "      background-color: #434B5C;\n",
              "      box-shadow: 0px 1px 3px 1px rgba(0, 0, 0, 0.15);\n",
              "      filter: drop-shadow(0px 1px 2px rgba(0, 0, 0, 0.3));\n",
              "      fill: #FFFFFF;\n",
              "    }\n",
              "  </style>\n",
              "\n",
              "      <script>\n",
              "        const buttonEl =\n",
              "          document.querySelector('#df-3bd7a207-2d30-4a7f-9e83-08dd85d1eddb button.colab-df-convert');\n",
              "        buttonEl.style.display =\n",
              "          google.colab.kernel.accessAllowed ? 'block' : 'none';\n",
              "\n",
              "        async function convertToInteractive(key) {\n",
              "          const element = document.querySelector('#df-3bd7a207-2d30-4a7f-9e83-08dd85d1eddb');\n",
              "          const dataTable =\n",
              "            await google.colab.kernel.invokeFunction('convertToInteractive',\n",
              "                                                     [key], {});\n",
              "          if (!dataTable) return;\n",
              "\n",
              "          const docLinkHtml = 'Like what you see? Visit the ' +\n",
              "            '<a target=\"_blank\" href=https://colab.research.google.com/notebooks/data_table.ipynb>data table notebook</a>'\n",
              "            + ' to learn more about interactive tables.';\n",
              "          element.innerHTML = '';\n",
              "          dataTable['output_type'] = 'display_data';\n",
              "          await google.colab.output.renderOutput(dataTable, element);\n",
              "          const docLink = document.createElement('div');\n",
              "          docLink.innerHTML = docLinkHtml;\n",
              "          element.appendChild(docLink);\n",
              "        }\n",
              "      </script>\n",
              "    </div>\n",
              "  </div>\n",
              "  "
            ]
          },
          "metadata": {},
          "execution_count": 16
        }
      ]
    },
    {
      "cell_type": "code",
      "source": [
        "#@title Merge Amazon Pegasus DF\n",
        "merge_df = pd.merge(merge_df, pegasus_amazon_df, left_index=True, right_index=True)\n",
        "merge_df = merge_df.drop(['Unnamed: 0'], axis=1)\n",
        "merge_df = merge_df.rename(columns={\"summary\": \"pegasus_amazon_summary\"})\n",
        "merge_df.head()"
      ],
      "metadata": {
        "colab": {
          "base_uri": "https://localhost:8080/",
          "height": 206
        },
        "id": "I0VvWidPmPsv",
        "outputId": "2213096f-e805-4ce1-cead-1e40d43a6ee5"
      },
      "execution_count": 17,
      "outputs": [
        {
          "output_type": "execute_result",
          "data": {
            "text/plain": [
              "                                                text  label  \\\n",
              "0  I rented I AM CURIOUS-YELLOW from my video sto...      0   \n",
              "1  \"I Am Curious: Yellow\" is a risible and preten...      0   \n",
              "2  If only to avoid making this type of film in t...      0   \n",
              "3  This film was probably inspired by Godard's Ma...      0   \n",
              "4  Oh, brother...after hearing about this ridicul...      0   \n",
              "\n",
              "                                     pegasus_summary  \\\n",
              "0  I AM CURIOUS is a film that has been viewed by...   \n",
              "1  Chloe Rigny's new film is a \"damning indictmen...   \n",
              "2  A film about a tree growing in the middle of n...   \n",
              "3  The film is a farce, but it's not as bad or st...   \n",
              "4  I'm not sure what happened to the film, but it...   \n",
              "\n",
              "                              pegasus_amazon_summary  \n",
              "0  I AM CURIOUS-YELLOW is a good film for anyone ...  \n",
              "1  \"I Am Curious: Yellow\" is a risible and preten...  \n",
              "2  One of the worst films I've seen in a long tim...  \n",
              "3  A movie of its time, and place. A movie of its...  \n",
              "4  Oh, brother...after hearing about this ridicul...  "
            ],
            "text/html": [
              "\n",
              "  <div id=\"df-4604d007-53c3-45a0-bd12-3076847f877b\">\n",
              "    <div class=\"colab-df-container\">\n",
              "      <div>\n",
              "<style scoped>\n",
              "    .dataframe tbody tr th:only-of-type {\n",
              "        vertical-align: middle;\n",
              "    }\n",
              "\n",
              "    .dataframe tbody tr th {\n",
              "        vertical-align: top;\n",
              "    }\n",
              "\n",
              "    .dataframe thead th {\n",
              "        text-align: right;\n",
              "    }\n",
              "</style>\n",
              "<table border=\"1\" class=\"dataframe\">\n",
              "  <thead>\n",
              "    <tr style=\"text-align: right;\">\n",
              "      <th></th>\n",
              "      <th>text</th>\n",
              "      <th>label</th>\n",
              "      <th>pegasus_summary</th>\n",
              "      <th>pegasus_amazon_summary</th>\n",
              "    </tr>\n",
              "  </thead>\n",
              "  <tbody>\n",
              "    <tr>\n",
              "      <th>0</th>\n",
              "      <td>I rented I AM CURIOUS-YELLOW from my video sto...</td>\n",
              "      <td>0</td>\n",
              "      <td>I AM CURIOUS is a film that has been viewed by...</td>\n",
              "      <td>I AM CURIOUS-YELLOW is a good film for anyone ...</td>\n",
              "    </tr>\n",
              "    <tr>\n",
              "      <th>1</th>\n",
              "      <td>\"I Am Curious: Yellow\" is a risible and preten...</td>\n",
              "      <td>0</td>\n",
              "      <td>Chloe Rigny's new film is a \"damning indictmen...</td>\n",
              "      <td>\"I Am Curious: Yellow\" is a risible and preten...</td>\n",
              "    </tr>\n",
              "    <tr>\n",
              "      <th>2</th>\n",
              "      <td>If only to avoid making this type of film in t...</td>\n",
              "      <td>0</td>\n",
              "      <td>A film about a tree growing in the middle of n...</td>\n",
              "      <td>One of the worst films I've seen in a long tim...</td>\n",
              "    </tr>\n",
              "    <tr>\n",
              "      <th>3</th>\n",
              "      <td>This film was probably inspired by Godard's Ma...</td>\n",
              "      <td>0</td>\n",
              "      <td>The film is a farce, but it's not as bad or st...</td>\n",
              "      <td>A movie of its time, and place. A movie of its...</td>\n",
              "    </tr>\n",
              "    <tr>\n",
              "      <th>4</th>\n",
              "      <td>Oh, brother...after hearing about this ridicul...</td>\n",
              "      <td>0</td>\n",
              "      <td>I'm not sure what happened to the film, but it...</td>\n",
              "      <td>Oh, brother...after hearing about this ridicul...</td>\n",
              "    </tr>\n",
              "  </tbody>\n",
              "</table>\n",
              "</div>\n",
              "      <button class=\"colab-df-convert\" onclick=\"convertToInteractive('df-4604d007-53c3-45a0-bd12-3076847f877b')\"\n",
              "              title=\"Convert this dataframe to an interactive table.\"\n",
              "              style=\"display:none;\">\n",
              "        \n",
              "  <svg xmlns=\"http://www.w3.org/2000/svg\" height=\"24px\"viewBox=\"0 0 24 24\"\n",
              "       width=\"24px\">\n",
              "    <path d=\"M0 0h24v24H0V0z\" fill=\"none\"/>\n",
              "    <path d=\"M18.56 5.44l.94 2.06.94-2.06 2.06-.94-2.06-.94-.94-2.06-.94 2.06-2.06.94zm-11 1L8.5 8.5l.94-2.06 2.06-.94-2.06-.94L8.5 2.5l-.94 2.06-2.06.94zm10 10l.94 2.06.94-2.06 2.06-.94-2.06-.94-.94-2.06-.94 2.06-2.06.94z\"/><path d=\"M17.41 7.96l-1.37-1.37c-.4-.4-.92-.59-1.43-.59-.52 0-1.04.2-1.43.59L10.3 9.45l-7.72 7.72c-.78.78-.78 2.05 0 2.83L4 21.41c.39.39.9.59 1.41.59.51 0 1.02-.2 1.41-.59l7.78-7.78 2.81-2.81c.8-.78.8-2.07 0-2.86zM5.41 20L4 18.59l7.72-7.72 1.47 1.35L5.41 20z\"/>\n",
              "  </svg>\n",
              "      </button>\n",
              "      \n",
              "  <style>\n",
              "    .colab-df-container {\n",
              "      display:flex;\n",
              "      flex-wrap:wrap;\n",
              "      gap: 12px;\n",
              "    }\n",
              "\n",
              "    .colab-df-convert {\n",
              "      background-color: #E8F0FE;\n",
              "      border: none;\n",
              "      border-radius: 50%;\n",
              "      cursor: pointer;\n",
              "      display: none;\n",
              "      fill: #1967D2;\n",
              "      height: 32px;\n",
              "      padding: 0 0 0 0;\n",
              "      width: 32px;\n",
              "    }\n",
              "\n",
              "    .colab-df-convert:hover {\n",
              "      background-color: #E2EBFA;\n",
              "      box-shadow: 0px 1px 2px rgba(60, 64, 67, 0.3), 0px 1px 3px 1px rgba(60, 64, 67, 0.15);\n",
              "      fill: #174EA6;\n",
              "    }\n",
              "\n",
              "    [theme=dark] .colab-df-convert {\n",
              "      background-color: #3B4455;\n",
              "      fill: #D2E3FC;\n",
              "    }\n",
              "\n",
              "    [theme=dark] .colab-df-convert:hover {\n",
              "      background-color: #434B5C;\n",
              "      box-shadow: 0px 1px 3px 1px rgba(0, 0, 0, 0.15);\n",
              "      filter: drop-shadow(0px 1px 2px rgba(0, 0, 0, 0.3));\n",
              "      fill: #FFFFFF;\n",
              "    }\n",
              "  </style>\n",
              "\n",
              "      <script>\n",
              "        const buttonEl =\n",
              "          document.querySelector('#df-4604d007-53c3-45a0-bd12-3076847f877b button.colab-df-convert');\n",
              "        buttonEl.style.display =\n",
              "          google.colab.kernel.accessAllowed ? 'block' : 'none';\n",
              "\n",
              "        async function convertToInteractive(key) {\n",
              "          const element = document.querySelector('#df-4604d007-53c3-45a0-bd12-3076847f877b');\n",
              "          const dataTable =\n",
              "            await google.colab.kernel.invokeFunction('convertToInteractive',\n",
              "                                                     [key], {});\n",
              "          if (!dataTable) return;\n",
              "\n",
              "          const docLinkHtml = 'Like what you see? Visit the ' +\n",
              "            '<a target=\"_blank\" href=https://colab.research.google.com/notebooks/data_table.ipynb>data table notebook</a>'\n",
              "            + ' to learn more about interactive tables.';\n",
              "          element.innerHTML = '';\n",
              "          dataTable['output_type'] = 'display_data';\n",
              "          await google.colab.output.renderOutput(dataTable, element);\n",
              "          const docLink = document.createElement('div');\n",
              "          docLink.innerHTML = docLinkHtml;\n",
              "          element.appendChild(docLink);\n",
              "        }\n",
              "      </script>\n",
              "    </div>\n",
              "  </div>\n",
              "  "
            ]
          },
          "metadata": {},
          "execution_count": 17
        }
      ]
    },
    {
      "cell_type": "code",
      "source": [
        "#@title Merge Amazon Finetuned Pegasus DF\n",
        "merge_df = pd.merge(merge_df, pft_amazon_df, left_index=True, right_index=True)\n",
        "merge_df = merge_df.drop(['Unnamed: 0'], axis=1)\n",
        "merge_df = merge_df.rename(columns={\"summary\": \"finetuned_pegasus_amazon_summary\"})\n",
        "merge_df.head()"
      ],
      "metadata": {
        "colab": {
          "base_uri": "https://localhost:8080/",
          "height": 285
        },
        "id": "0_3yTAnwmW2W",
        "outputId": "7bae7f1e-c649-4b80-913f-580588472124"
      },
      "execution_count": 18,
      "outputs": [
        {
          "output_type": "execute_result",
          "data": {
            "text/plain": [
              "                                                text  label  \\\n",
              "0  I rented I AM CURIOUS-YELLOW from my video sto...      0   \n",
              "1  \"I Am Curious: Yellow\" is a risible and preten...      0   \n",
              "2  If only to avoid making this type of film in t...      0   \n",
              "3  This film was probably inspired by Godard's Ma...      0   \n",
              "4  Oh, brother...after hearing about this ridicul...      0   \n",
              "\n",
              "                                     pegasus_summary  \\\n",
              "0  I AM CURIOUS is a film that has been viewed by...   \n",
              "1  Chloe Rigny's new film is a \"damning indictmen...   \n",
              "2  A film about a tree growing in the middle of n...   \n",
              "3  The film is a farce, but it's not as bad or st...   \n",
              "4  I'm not sure what happened to the film, but it...   \n",
              "\n",
              "                              pegasus_amazon_summary  \\\n",
              "0  I AM CURIOUS-YELLOW is a good film for anyone ...   \n",
              "1  \"I Am Curious: Yellow\" is a risible and preten...   \n",
              "2  One of the worst films I've seen in a long tim...   \n",
              "3  A movie of its time, and place. A movie of its...   \n",
              "4  Oh, brother...after hearing about this ridicul...   \n",
              "\n",
              "                    finetuned_pegasus_amazon_summary  \n",
              "0  I AM CURIOUS-YELLOW is a good film for anyone ...  \n",
              "1  risible and pretentious steaming pile. It does...  \n",
              "2  This film is interesting as an experiment but ...  \n",
              "3  This film was probably inspired by Godard's Ma...  \n",
              "4  Oh, brother...after hearing about this ridicul...  "
            ],
            "text/html": [
              "\n",
              "  <div id=\"df-e2aa2d76-52c3-4f71-adca-51a5a652e1d7\">\n",
              "    <div class=\"colab-df-container\">\n",
              "      <div>\n",
              "<style scoped>\n",
              "    .dataframe tbody tr th:only-of-type {\n",
              "        vertical-align: middle;\n",
              "    }\n",
              "\n",
              "    .dataframe tbody tr th {\n",
              "        vertical-align: top;\n",
              "    }\n",
              "\n",
              "    .dataframe thead th {\n",
              "        text-align: right;\n",
              "    }\n",
              "</style>\n",
              "<table border=\"1\" class=\"dataframe\">\n",
              "  <thead>\n",
              "    <tr style=\"text-align: right;\">\n",
              "      <th></th>\n",
              "      <th>text</th>\n",
              "      <th>label</th>\n",
              "      <th>pegasus_summary</th>\n",
              "      <th>pegasus_amazon_summary</th>\n",
              "      <th>finetuned_pegasus_amazon_summary</th>\n",
              "    </tr>\n",
              "  </thead>\n",
              "  <tbody>\n",
              "    <tr>\n",
              "      <th>0</th>\n",
              "      <td>I rented I AM CURIOUS-YELLOW from my video sto...</td>\n",
              "      <td>0</td>\n",
              "      <td>I AM CURIOUS is a film that has been viewed by...</td>\n",
              "      <td>I AM CURIOUS-YELLOW is a good film for anyone ...</td>\n",
              "      <td>I AM CURIOUS-YELLOW is a good film for anyone ...</td>\n",
              "    </tr>\n",
              "    <tr>\n",
              "      <th>1</th>\n",
              "      <td>\"I Am Curious: Yellow\" is a risible and preten...</td>\n",
              "      <td>0</td>\n",
              "      <td>Chloe Rigny's new film is a \"damning indictmen...</td>\n",
              "      <td>\"I Am Curious: Yellow\" is a risible and preten...</td>\n",
              "      <td>risible and pretentious steaming pile. It does...</td>\n",
              "    </tr>\n",
              "    <tr>\n",
              "      <th>2</th>\n",
              "      <td>If only to avoid making this type of film in t...</td>\n",
              "      <td>0</td>\n",
              "      <td>A film about a tree growing in the middle of n...</td>\n",
              "      <td>One of the worst films I've seen in a long tim...</td>\n",
              "      <td>This film is interesting as an experiment but ...</td>\n",
              "    </tr>\n",
              "    <tr>\n",
              "      <th>3</th>\n",
              "      <td>This film was probably inspired by Godard's Ma...</td>\n",
              "      <td>0</td>\n",
              "      <td>The film is a farce, but it's not as bad or st...</td>\n",
              "      <td>A movie of its time, and place. A movie of its...</td>\n",
              "      <td>This film was probably inspired by Godard's Ma...</td>\n",
              "    </tr>\n",
              "    <tr>\n",
              "      <th>4</th>\n",
              "      <td>Oh, brother...after hearing about this ridicul...</td>\n",
              "      <td>0</td>\n",
              "      <td>I'm not sure what happened to the film, but it...</td>\n",
              "      <td>Oh, brother...after hearing about this ridicul...</td>\n",
              "      <td>Oh, brother...after hearing about this ridicul...</td>\n",
              "    </tr>\n",
              "  </tbody>\n",
              "</table>\n",
              "</div>\n",
              "      <button class=\"colab-df-convert\" onclick=\"convertToInteractive('df-e2aa2d76-52c3-4f71-adca-51a5a652e1d7')\"\n",
              "              title=\"Convert this dataframe to an interactive table.\"\n",
              "              style=\"display:none;\">\n",
              "        \n",
              "  <svg xmlns=\"http://www.w3.org/2000/svg\" height=\"24px\"viewBox=\"0 0 24 24\"\n",
              "       width=\"24px\">\n",
              "    <path d=\"M0 0h24v24H0V0z\" fill=\"none\"/>\n",
              "    <path d=\"M18.56 5.44l.94 2.06.94-2.06 2.06-.94-2.06-.94-.94-2.06-.94 2.06-2.06.94zm-11 1L8.5 8.5l.94-2.06 2.06-.94-2.06-.94L8.5 2.5l-.94 2.06-2.06.94zm10 10l.94 2.06.94-2.06 2.06-.94-2.06-.94-.94-2.06-.94 2.06-2.06.94z\"/><path d=\"M17.41 7.96l-1.37-1.37c-.4-.4-.92-.59-1.43-.59-.52 0-1.04.2-1.43.59L10.3 9.45l-7.72 7.72c-.78.78-.78 2.05 0 2.83L4 21.41c.39.39.9.59 1.41.59.51 0 1.02-.2 1.41-.59l7.78-7.78 2.81-2.81c.8-.78.8-2.07 0-2.86zM5.41 20L4 18.59l7.72-7.72 1.47 1.35L5.41 20z\"/>\n",
              "  </svg>\n",
              "      </button>\n",
              "      \n",
              "  <style>\n",
              "    .colab-df-container {\n",
              "      display:flex;\n",
              "      flex-wrap:wrap;\n",
              "      gap: 12px;\n",
              "    }\n",
              "\n",
              "    .colab-df-convert {\n",
              "      background-color: #E8F0FE;\n",
              "      border: none;\n",
              "      border-radius: 50%;\n",
              "      cursor: pointer;\n",
              "      display: none;\n",
              "      fill: #1967D2;\n",
              "      height: 32px;\n",
              "      padding: 0 0 0 0;\n",
              "      width: 32px;\n",
              "    }\n",
              "\n",
              "    .colab-df-convert:hover {\n",
              "      background-color: #E2EBFA;\n",
              "      box-shadow: 0px 1px 2px rgba(60, 64, 67, 0.3), 0px 1px 3px 1px rgba(60, 64, 67, 0.15);\n",
              "      fill: #174EA6;\n",
              "    }\n",
              "\n",
              "    [theme=dark] .colab-df-convert {\n",
              "      background-color: #3B4455;\n",
              "      fill: #D2E3FC;\n",
              "    }\n",
              "\n",
              "    [theme=dark] .colab-df-convert:hover {\n",
              "      background-color: #434B5C;\n",
              "      box-shadow: 0px 1px 3px 1px rgba(0, 0, 0, 0.15);\n",
              "      filter: drop-shadow(0px 1px 2px rgba(0, 0, 0, 0.3));\n",
              "      fill: #FFFFFF;\n",
              "    }\n",
              "  </style>\n",
              "\n",
              "      <script>\n",
              "        const buttonEl =\n",
              "          document.querySelector('#df-e2aa2d76-52c3-4f71-adca-51a5a652e1d7 button.colab-df-convert');\n",
              "        buttonEl.style.display =\n",
              "          google.colab.kernel.accessAllowed ? 'block' : 'none';\n",
              "\n",
              "        async function convertToInteractive(key) {\n",
              "          const element = document.querySelector('#df-e2aa2d76-52c3-4f71-adca-51a5a652e1d7');\n",
              "          const dataTable =\n",
              "            await google.colab.kernel.invokeFunction('convertToInteractive',\n",
              "                                                     [key], {});\n",
              "          if (!dataTable) return;\n",
              "\n",
              "          const docLinkHtml = 'Like what you see? Visit the ' +\n",
              "            '<a target=\"_blank\" href=https://colab.research.google.com/notebooks/data_table.ipynb>data table notebook</a>'\n",
              "            + ' to learn more about interactive tables.';\n",
              "          element.innerHTML = '';\n",
              "          dataTable['output_type'] = 'display_data';\n",
              "          await google.colab.output.renderOutput(dataTable, element);\n",
              "          const docLink = document.createElement('div');\n",
              "          docLink.innerHTML = docLinkHtml;\n",
              "          element.appendChild(docLink);\n",
              "        }\n",
              "      </script>\n",
              "    </div>\n",
              "  </div>\n",
              "  "
            ]
          },
          "metadata": {},
          "execution_count": 18
        }
      ]
    },
    {
      "cell_type": "code",
      "source": [
        "#@title Split to train and validation sets\n",
        "train, val = train_test_split(merge_df, test_size=0.2, random_state=2022, shuffle=True)"
      ],
      "metadata": {
        "id": "KOs_YlL5W2rh"
      },
      "execution_count": 19,
      "outputs": []
    },
    {
      "cell_type": "code",
      "source": [
        "#@title Review Split Labels\n",
        "train_split = [s for s in train['label']]\n",
        "\n",
        "val_split = [s for s in val['label']]\n",
        "# review_len = [len(s) for s in dataset_amazon['train'][:10000]['review_body']]\n",
        "\n",
        "# headline_len = [len(s) for s in dataset_amazon['train'][:10000]['review_headline']]\n",
        "\n",
        "\n",
        "fig, axes = plt.subplots(1, 2, figsize=(10, 4), sharey='none' )\n",
        "axes[0].hist(train_split, bins = 3, color = 'C0', edgecolor = 'C0' )\n",
        "axes[0].set_title(\"Train Split\")\n",
        "axes[0].set_xlabel(\"Label\")\n",
        "axes[0].set_ylabel(\"Count\")\n",
        "\n",
        "axes[1].hist(val_split, bins = 3, color = 'C0', edgecolor = 'C0' )\n",
        "axes[1].set_title(\"Val Split\")\n",
        "axes[1].set_xlabel(\"Label\")\n",
        "plt.tight_layout()\n",
        "plt.show()"
      ],
      "metadata": {
        "colab": {
          "base_uri": "https://localhost:8080/",
          "height": 297
        },
        "id": "VHB9gp0ZaN9Z",
        "outputId": "466b3b0b-0707-4d85-b297-dcef12849ec6"
      },
      "execution_count": 20,
      "outputs": [
        {
          "output_type": "display_data",
          "data": {
            "text/plain": [
              "<Figure size 720x288 with 2 Axes>"
            ],
            "image/png": "[encoded data removed]"
          },
          "metadata": {
            "needs_background": "light"
          }
        }
      ]
    },
    {
      "cell_type": "markdown",
      "source": [
        "### Load Test Data and Summaries"
      ],
      "metadata": {
        "id": "CtaKyqbvo4RE"
      }
    },
    {
      "cell_type": "code",
      "source": [
        "imdb_test_df = pd.DataFrame(imdb_dataset['test'])\n",
        "print(imdb_test_df.shape)\n",
        "imdb_test_df.head()"
      ],
      "metadata": {
        "colab": {
          "base_uri": "https://localhost:8080/",
          "height": 224
        },
        "id": "jXdTfIMVo8IJ",
        "outputId": "de5fb214-27da-4c31-af46-9ab5820e2be8"
      },
      "execution_count": 21,
      "outputs": [
        {
          "output_type": "stream",
          "name": "stdout",
          "text": [
            "(25000, 2)\n"
          ]
        },
        {
          "output_type": "execute_result",
          "data": {
            "text/plain": [
              "                                                text  label\n",
              "0  I love sci-fi and am willing to put up with a ...      0\n",
              "1  Worth the entertainment value of a rental, esp...      0\n",
              "2  its a totally average film with a few semi-alr...      0\n",
              "3  STAR RATING: ***** Saturday Night **** Friday ...      0\n",
              "4  First off let me say, If you haven't enjoyed a...      0"
            ],
            "text/html": [
              "\n",
              "  <div id=\"df-9f7ece16-0661-43dd-a4a7-e26a14f93cc7\">\n",
              "    <div class=\"colab-df-container\">\n",
              "      <div>\n",
              "<style scoped>\n",
              "    .dataframe tbody tr th:only-of-type {\n",
              "        vertical-align: middle;\n",
              "    }\n",
              "\n",
              "    .dataframe tbody tr th {\n",
              "        vertical-align: top;\n",
              "    }\n",
              "\n",
              "    .dataframe thead th {\n",
              "        text-align: right;\n",
              "    }\n",
              "</style>\n",
              "<table border=\"1\" class=\"dataframe\">\n",
              "  <thead>\n",
              "    <tr style=\"text-align: right;\">\n",
              "      <th></th>\n",
              "      <th>text</th>\n",
              "      <th>label</th>\n",
              "    </tr>\n",
              "  </thead>\n",
              "  <tbody>\n",
              "    <tr>\n",
              "      <th>0</th>\n",
              "      <td>I love sci-fi and am willing to put up with a ...</td>\n",
              "      <td>0</td>\n",
              "    </tr>\n",
              "    <tr>\n",
              "      <th>1</th>\n",
              "      <td>Worth the entertainment value of a rental, esp...</td>\n",
              "      <td>0</td>\n",
              "    </tr>\n",
              "    <tr>\n",
              "      <th>2</th>\n",
              "      <td>its a totally average film with a few semi-alr...</td>\n",
              "      <td>0</td>\n",
              "    </tr>\n",
              "    <tr>\n",
              "      <th>3</th>\n",
              "      <td>STAR RATING: ***** Saturday Night **** Friday ...</td>\n",
              "      <td>0</td>\n",
              "    </tr>\n",
              "    <tr>\n",
              "      <th>4</th>\n",
              "      <td>First off let me say, If you haven't enjoyed a...</td>\n",
              "      <td>0</td>\n",
              "    </tr>\n",
              "  </tbody>\n",
              "</table>\n",
              "</div>\n",
              "      <button class=\"colab-df-convert\" onclick=\"convertToInteractive('df-9f7ece16-0661-43dd-a4a7-e26a14f93cc7')\"\n",
              "              title=\"Convert this dataframe to an interactive table.\"\n",
              "              style=\"display:none;\">\n",
              "        \n",
              "  <svg xmlns=\"http://www.w3.org/2000/svg\" height=\"24px\"viewBox=\"0 0 24 24\"\n",
              "       width=\"24px\">\n",
              "    <path d=\"M0 0h24v24H0V0z\" fill=\"none\"/>\n",
              "    <path d=\"M18.56 5.44l.94 2.06.94-2.06 2.06-.94-2.06-.94-.94-2.06-.94 2.06-2.06.94zm-11 1L8.5 8.5l.94-2.06 2.06-.94-2.06-.94L8.5 2.5l-.94 2.06-2.06.94zm10 10l.94 2.06.94-2.06 2.06-.94-2.06-.94-.94-2.06-.94 2.06-2.06.94z\"/><path d=\"M17.41 7.96l-1.37-1.37c-.4-.4-.92-.59-1.43-.59-.52 0-1.04.2-1.43.59L10.3 9.45l-7.72 7.72c-.78.78-.78 2.05 0 2.83L4 21.41c.39.39.9.59 1.41.59.51 0 1.02-.2 1.41-.59l7.78-7.78 2.81-2.81c.8-.78.8-2.07 0-2.86zM5.41 20L4 18.59l7.72-7.72 1.47 1.35L5.41 20z\"/>\n",
              "  </svg>\n",
              "      </button>\n",
              "      \n",
              "  <style>\n",
              "    .colab-df-container {\n",
              "      display:flex;\n",
              "      flex-wrap:wrap;\n",
              "      gap: 12px;\n",
              "    }\n",
              "\n",
              "    .colab-df-convert {\n",
              "      background-color: #E8F0FE;\n",
              "      border: none;\n",
              "      border-radius: 50%;\n",
              "      cursor: pointer;\n",
              "      display: none;\n",
              "      fill: #1967D2;\n",
              "      height: 32px;\n",
              "      padding: 0 0 0 0;\n",
              "      width: 32px;\n",
              "    }\n",
              "\n",
              "    .colab-df-convert:hover {\n",
              "      background-color: #E2EBFA;\n",
              "      box-shadow: 0px 1px 2px rgba(60, 64, 67, 0.3), 0px 1px 3px 1px rgba(60, 64, 67, 0.15);\n",
              "      fill: #174EA6;\n",
              "    }\n",
              "\n",
              "    [theme=dark] .colab-df-convert {\n",
              "      background-color: #3B4455;\n",
              "      fill: #D2E3FC;\n",
              "    }\n",
              "\n",
              "    [theme=dark] .colab-df-convert:hover {\n",
              "      background-color: #434B5C;\n",
              "      box-shadow: 0px 1px 3px 1px rgba(0, 0, 0, 0.15);\n",
              "      filter: drop-shadow(0px 1px 2px rgba(0, 0, 0, 0.3));\n",
              "      fill: #FFFFFF;\n",
              "    }\n",
              "  </style>\n",
              "\n",
              "      <script>\n",
              "        const buttonEl =\n",
              "          document.querySelector('#df-9f7ece16-0661-43dd-a4a7-e26a14f93cc7 button.colab-df-convert');\n",
              "        buttonEl.style.display =\n",
              "          google.colab.kernel.accessAllowed ? 'block' : 'none';\n",
              "\n",
              "        async function convertToInteractive(key) {\n",
              "          const element = document.querySelector('#df-9f7ece16-0661-43dd-a4a7-e26a14f93cc7');\n",
              "          const dataTable =\n",
              "            await google.colab.kernel.invokeFunction('convertToInteractive',\n",
              "                                                     [key], {});\n",
              "          if (!dataTable) return;\n",
              "\n",
              "          const docLinkHtml = 'Like what you see? Visit the ' +\n",
              "            '<a target=\"_blank\" href=https://colab.research.google.com/notebooks/data_table.ipynb>data table notebook</a>'\n",
              "            + ' to learn more about interactive tables.';\n",
              "          element.innerHTML = '';\n",
              "          dataTable['output_type'] = 'display_data';\n",
              "          await google.colab.output.renderOutput(dataTable, element);\n",
              "          const docLink = document.createElement('div');\n",
              "          docLink.innerHTML = docLinkHtml;\n",
              "          element.appendChild(docLink);\n",
              "        }\n",
              "      </script>\n",
              "    </div>\n",
              "  </div>\n",
              "  "
            ]
          },
          "metadata": {},
          "execution_count": 21
        }
      ]
    },
    {
      "cell_type": "code",
      "source": [
        "#@title Create Pegasus Test DF\n",
        "pegasus_test_df = pd.read_csv('gdrive/MyDrive/amazon_summaries/test_data/imdb_test_pegasus_summary.csv')"
      ],
      "metadata": {
        "id": "ZDi2EJF3pLoz"
      },
      "execution_count": 22,
      "outputs": []
    },
    {
      "cell_type": "code",
      "source": [
        "#@title Create Pegasus Amazon Test DF\n",
        "pegasus_amazon_test_df = pd.read_csv('gdrive/MyDrive/amazon_summaries/test_data/imdb_test_amazon_summary.csv')"
      ],
      "metadata": {
        "id": "nhvjs6AbpeMh"
      },
      "execution_count": 24,
      "outputs": []
    },
    {
      "cell_type": "code",
      "source": [
        "#@title Create FT Pegasus Amazon Test DF\n",
        "pft_amazon_test_df = pd.read_csv('gdrive/MyDrive/amazon_summaries/test_data/imdb_test_amazon_finetuned_summary.csv')"
      ],
      "metadata": {
        "id": "jzEOFKZmpe-_"
      },
      "execution_count": 31,
      "outputs": []
    },
    {
      "cell_type": "code",
      "source": [
        "#@title Merge test and Pegasus\n",
        "merge_test_df = pd.merge(imdb_test_df, pegasus_test_df, left_index=True, right_index=True)\n",
        "merge_test_df = merge_test_df.drop(['Unnamed: 0'], axis=1)\n",
        "merge_test_df = merge_test_df.rename(columns={\"summary\": \"pegasus_summary\"})\n",
        "merge_test_df.head()"
      ],
      "metadata": {
        "colab": {
          "base_uri": "https://localhost:8080/",
          "height": 206
        },
        "id": "H20CCkb6rEuz",
        "outputId": "f4cd9f53-692a-427e-d6a5-dd34f28f03e7"
      },
      "execution_count": 32,
      "outputs": [
        {
          "output_type": "execute_result",
          "data": {
            "text/plain": [
              "                                                text  label  \\\n",
              "0  I love sci-fi and am willing to put up with a ...      0   \n",
              "1  Worth the entertainment value of a rental, esp...      0   \n",
              "2  its a totally average film with a few semi-alr...      0   \n",
              "3  STAR RATING: ***** Saturday Night **** Friday ...      0   \n",
              "4  First off let me say, If you haven't enjoyed a...      0   \n",
              "\n",
              "                                     pegasus_summary  \n",
              "0  Sci-fi movies/TV are usually underfunded, unde...  \n",
              "1  This one features the usual car chases, fights...  \n",
              "2  parts of the plot don't make sense and seem to...  \n",
              "3  Former New Orleans homicide cop Jack Robideaux...  \n",
              "4  Van Damme is good in the movie, the movie is o...  "
            ],
            "text/html": [
              "\n",
              "  <div id=\"df-a1cf68ee-903c-49b9-a709-509f8098330d\">\n",
              "    <div class=\"colab-df-container\">\n",
              "      <div>\n",
              "<style scoped>\n",
              "    .dataframe tbody tr th:only-of-type {\n",
              "        vertical-align: middle;\n",
              "    }\n",
              "\n",
              "    .dataframe tbody tr th {\n",
              "        vertical-align: top;\n",
              "    }\n",
              "\n",
              "    .dataframe thead th {\n",
              "        text-align: right;\n",
              "    }\n",
              "</style>\n",
              "<table border=\"1\" class=\"dataframe\">\n",
              "  <thead>\n",
              "    <tr style=\"text-align: right;\">\n",
              "      <th></th>\n",
              "      <th>text</th>\n",
              "      <th>label</th>\n",
              "      <th>pegasus_summary</th>\n",
              "    </tr>\n",
              "  </thead>\n",
              "  <tbody>\n",
              "    <tr>\n",
              "      <th>0</th>\n",
              "      <td>I love sci-fi and am willing to put up with a ...</td>\n",
              "      <td>0</td>\n",
              "      <td>Sci-fi movies/TV are usually underfunded, unde...</td>\n",
              "    </tr>\n",
              "    <tr>\n",
              "      <th>1</th>\n",
              "      <td>Worth the entertainment value of a rental, esp...</td>\n",
              "      <td>0</td>\n",
              "      <td>This one features the usual car chases, fights...</td>\n",
              "    </tr>\n",
              "    <tr>\n",
              "      <th>2</th>\n",
              "      <td>its a totally average film with a few semi-alr...</td>\n",
              "      <td>0</td>\n",
              "      <td>parts of the plot don't make sense and seem to...</td>\n",
              "    </tr>\n",
              "    <tr>\n",
              "      <th>3</th>\n",
              "      <td>STAR RATING: ***** Saturday Night **** Friday ...</td>\n",
              "      <td>0</td>\n",
              "      <td>Former New Orleans homicide cop Jack Robideaux...</td>\n",
              "    </tr>\n",
              "    <tr>\n",
              "      <th>4</th>\n",
              "      <td>First off let me say, If you haven't enjoyed a...</td>\n",
              "      <td>0</td>\n",
              "      <td>Van Damme is good in the movie, the movie is o...</td>\n",
              "    </tr>\n",
              "  </tbody>\n",
              "</table>\n",
              "</div>\n",
              "      <button class=\"colab-df-convert\" onclick=\"convertToInteractive('df-a1cf68ee-903c-49b9-a709-509f8098330d')\"\n",
              "              title=\"Convert this dataframe to an interactive table.\"\n",
              "              style=\"display:none;\">\n",
              "        \n",
              "  <svg xmlns=\"http://www.w3.org/2000/svg\" height=\"24px\"viewBox=\"0 0 24 24\"\n",
              "       width=\"24px\">\n",
              "    <path d=\"M0 0h24v24H0V0z\" fill=\"none\"/>\n",
              "    <path d=\"M18.56 5.44l.94 2.06.94-2.06 2.06-.94-2.06-.94-.94-2.06-.94 2.06-2.06.94zm-11 1L8.5 8.5l.94-2.06 2.06-.94-2.06-.94L8.5 2.5l-.94 2.06-2.06.94zm10 10l.94 2.06.94-2.06 2.06-.94-2.06-.94-.94-2.06-.94 2.06-2.06.94z\"/><path d=\"M17.41 7.96l-1.37-1.37c-.4-.4-.92-.59-1.43-.59-.52 0-1.04.2-1.43.59L10.3 9.45l-7.72 7.72c-.78.78-.78 2.05 0 2.83L4 21.41c.39.39.9.59 1.41.59.51 0 1.02-.2 1.41-.59l7.78-7.78 2.81-2.81c.8-.78.8-2.07 0-2.86zM5.41 20L4 18.59l7.72-7.72 1.47 1.35L5.41 20z\"/>\n",
              "  </svg>\n",
              "      </button>\n",
              "      \n",
              "  <style>\n",
              "    .colab-df-container {\n",
              "      display:flex;\n",
              "      flex-wrap:wrap;\n",
              "      gap: 12px;\n",
              "    }\n",
              "\n",
              "    .colab-df-convert {\n",
              "      background-color: #E8F0FE;\n",
              "      border: none;\n",
              "      border-radius: 50%;\n",
              "      cursor: pointer;\n",
              "      display: none;\n",
              "      fill: #1967D2;\n",
              "      height: 32px;\n",
              "      padding: 0 0 0 0;\n",
              "      width: 32px;\n",
              "    }\n",
              "\n",
              "    .colab-df-convert:hover {\n",
              "      background-color: #E2EBFA;\n",
              "      box-shadow: 0px 1px 2px rgba(60, 64, 67, 0.3), 0px 1px 3px 1px rgba(60, 64, 67, 0.15);\n",
              "      fill: #174EA6;\n",
              "    }\n",
              "\n",
              "    [theme=dark] .colab-df-convert {\n",
              "      background-color: #3B4455;\n",
              "      fill: #D2E3FC;\n",
              "    }\n",
              "\n",
              "    [theme=dark] .colab-df-convert:hover {\n",
              "      background-color: #434B5C;\n",
              "      box-shadow: 0px 1px 3px 1px rgba(0, 0, 0, 0.15);\n",
              "      filter: drop-shadow(0px 1px 2px rgba(0, 0, 0, 0.3));\n",
              "      fill: #FFFFFF;\n",
              "    }\n",
              "  </style>\n",
              "\n",
              "      <script>\n",
              "        const buttonEl =\n",
              "          document.querySelector('#df-a1cf68ee-903c-49b9-a709-509f8098330d button.colab-df-convert');\n",
              "        buttonEl.style.display =\n",
              "          google.colab.kernel.accessAllowed ? 'block' : 'none';\n",
              "\n",
              "        async function convertToInteractive(key) {\n",
              "          const element = document.querySelector('#df-a1cf68ee-903c-49b9-a709-509f8098330d');\n",
              "          const dataTable =\n",
              "            await google.colab.kernel.invokeFunction('convertToInteractive',\n",
              "                                                     [key], {});\n",
              "          if (!dataTable) return;\n",
              "\n",
              "          const docLinkHtml = 'Like what you see? Visit the ' +\n",
              "            '<a target=\"_blank\" href=https://colab.research.google.com/notebooks/data_table.ipynb>data table notebook</a>'\n",
              "            + ' to learn more about interactive tables.';\n",
              "          element.innerHTML = '';\n",
              "          dataTable['output_type'] = 'display_data';\n",
              "          await google.colab.output.renderOutput(dataTable, element);\n",
              "          const docLink = document.createElement('div');\n",
              "          docLink.innerHTML = docLinkHtml;\n",
              "          element.appendChild(docLink);\n",
              "        }\n",
              "      </script>\n",
              "    </div>\n",
              "  </div>\n",
              "  "
            ]
          },
          "metadata": {},
          "execution_count": 32
        }
      ]
    },
    {
      "cell_type": "code",
      "source": [
        "#@title Merge test and Amazon\n",
        "merge_test_df = pd.merge(merge_test_df, pegasus_amazon_test_df, left_index=True, right_index=True)\n",
        "merge_test_df = merge_test_df.drop(['Unnamed: 0'], axis=1)\n",
        "merge_test_df = merge_test_df.rename(columns={\"summary\": \"pegasus_amazon_summary\"})\n",
        "merge_test_df.head()"
      ],
      "metadata": {
        "colab": {
          "base_uri": "https://localhost:8080/",
          "height": 206
        },
        "id": "9VajGB-BsHJm",
        "outputId": "a674a46f-929e-493b-c70c-94fc7c5bbeda"
      },
      "execution_count": 33,
      "outputs": [
        {
          "output_type": "execute_result",
          "data": {
            "text/plain": [
              "                                                text  label  \\\n",
              "0  I love sci-fi and am willing to put up with a ...      0   \n",
              "1  Worth the entertainment value of a rental, esp...      0   \n",
              "2  its a totally average film with a few semi-alr...      0   \n",
              "3  STAR RATING: ***** Saturday Night **** Friday ...      0   \n",
              "4  First off let me say, If you haven't enjoyed a...      0   \n",
              "\n",
              "                                     pegasus_summary  \\\n",
              "0  Sci-fi movies/TV are usually underfunded, unde...   \n",
              "1  This one features the usual car chases, fights...   \n",
              "2  parts of the plot don't make sense and seem to...   \n",
              "3  Former New Orleans homicide cop Jack Robideaux...   \n",
              "4  Van Damme is good in the movie, the movie is o...   \n",
              "\n",
              "                              pegasus_amazon_summary  \n",
              "0  I love sci-fi and am willing to put up with a ...  \n",
              "1  Not bad. Not bad. Not bad. Not bad. Not bad. N...  \n",
              "2  not bad, not van dam's best, not worth watchin...  \n",
              "3  One of Van Damme's worst films since Derailed....  \n",
              "4  Van Damme is good in this movie. It is not as ...  "
            ],
            "text/html": [
              "\n",
              "  <div id=\"df-34ee44e0-6ddf-44af-a997-89997d10ace6\">\n",
              "    <div class=\"colab-df-container\">\n",
              "      <div>\n",
              "<style scoped>\n",
              "    .dataframe tbody tr th:only-of-type {\n",
              "        vertical-align: middle;\n",
              "    }\n",
              "\n",
              "    .dataframe tbody tr th {\n",
              "        vertical-align: top;\n",
              "    }\n",
              "\n",
              "    .dataframe thead th {\n",
              "        text-align: right;\n",
              "    }\n",
              "</style>\n",
              "<table border=\"1\" class=\"dataframe\">\n",
              "  <thead>\n",
              "    <tr style=\"text-align: right;\">\n",
              "      <th></th>\n",
              "      <th>text</th>\n",
              "      <th>label</th>\n",
              "      <th>pegasus_summary</th>\n",
              "      <th>pegasus_amazon_summary</th>\n",
              "    </tr>\n",
              "  </thead>\n",
              "  <tbody>\n",
              "    <tr>\n",
              "      <th>0</th>\n",
              "      <td>I love sci-fi and am willing to put up with a ...</td>\n",
              "      <td>0</td>\n",
              "      <td>Sci-fi movies/TV are usually underfunded, unde...</td>\n",
              "      <td>I love sci-fi and am willing to put up with a ...</td>\n",
              "    </tr>\n",
              "    <tr>\n",
              "      <th>1</th>\n",
              "      <td>Worth the entertainment value of a rental, esp...</td>\n",
              "      <td>0</td>\n",
              "      <td>This one features the usual car chases, fights...</td>\n",
              "      <td>Not bad. Not bad. Not bad. Not bad. Not bad. N...</td>\n",
              "    </tr>\n",
              "    <tr>\n",
              "      <th>2</th>\n",
              "      <td>its a totally average film with a few semi-alr...</td>\n",
              "      <td>0</td>\n",
              "      <td>parts of the plot don't make sense and seem to...</td>\n",
              "      <td>not bad, not van dam's best, not worth watchin...</td>\n",
              "    </tr>\n",
              "    <tr>\n",
              "      <th>3</th>\n",
              "      <td>STAR RATING: ***** Saturday Night **** Friday ...</td>\n",
              "      <td>0</td>\n",
              "      <td>Former New Orleans homicide cop Jack Robideaux...</td>\n",
              "      <td>One of Van Damme's worst films since Derailed....</td>\n",
              "    </tr>\n",
              "    <tr>\n",
              "      <th>4</th>\n",
              "      <td>First off let me say, If you haven't enjoyed a...</td>\n",
              "      <td>0</td>\n",
              "      <td>Van Damme is good in the movie, the movie is o...</td>\n",
              "      <td>Van Damme is good in this movie. It is not as ...</td>\n",
              "    </tr>\n",
              "  </tbody>\n",
              "</table>\n",
              "</div>\n",
              "      <button class=\"colab-df-convert\" onclick=\"convertToInteractive('df-34ee44e0-6ddf-44af-a997-89997d10ace6')\"\n",
              "              title=\"Convert this dataframe to an interactive table.\"\n",
              "              style=\"display:none;\">\n",
              "        \n",
              "  <svg xmlns=\"http://www.w3.org/2000/svg\" height=\"24px\"viewBox=\"0 0 24 24\"\n",
              "       width=\"24px\">\n",
              "    <path d=\"M0 0h24v24H0V0z\" fill=\"none\"/>\n",
              "    <path d=\"M18.56 5.44l.94 2.06.94-2.06 2.06-.94-2.06-.94-.94-2.06-.94 2.06-2.06.94zm-11 1L8.5 8.5l.94-2.06 2.06-.94-2.06-.94L8.5 2.5l-.94 2.06-2.06.94zm10 10l.94 2.06.94-2.06 2.06-.94-2.06-.94-.94-2.06-.94 2.06-2.06.94z\"/><path d=\"M17.41 7.96l-1.37-1.37c-.4-.4-.92-.59-1.43-.59-.52 0-1.04.2-1.43.59L10.3 9.45l-7.72 7.72c-.78.78-.78 2.05 0 2.83L4 21.41c.39.39.9.59 1.41.59.51 0 1.02-.2 1.41-.59l7.78-7.78 2.81-2.81c.8-.78.8-2.07 0-2.86zM5.41 20L4 18.59l7.72-7.72 1.47 1.35L5.41 20z\"/>\n",
              "  </svg>\n",
              "      </button>\n",
              "      \n",
              "  <style>\n",
              "    .colab-df-container {\n",
              "      display:flex;\n",
              "      flex-wrap:wrap;\n",
              "      gap: 12px;\n",
              "    }\n",
              "\n",
              "    .colab-df-convert {\n",
              "      background-color: #E8F0FE;\n",
              "      border: none;\n",
              "      border-radius: 50%;\n",
              "      cursor: pointer;\n",
              "      display: none;\n",
              "      fill: #1967D2;\n",
              "      height: 32px;\n",
              "      padding: 0 0 0 0;\n",
              "      width: 32px;\n",
              "    }\n",
              "\n",
              "    .colab-df-convert:hover {\n",
              "      background-color: #E2EBFA;\n",
              "      box-shadow: 0px 1px 2px rgba(60, 64, 67, 0.3), 0px 1px 3px 1px rgba(60, 64, 67, 0.15);\n",
              "      fill: #174EA6;\n",
              "    }\n",
              "\n",
              "    [theme=dark] .colab-df-convert {\n",
              "      background-color: #3B4455;\n",
              "      fill: #D2E3FC;\n",
              "    }\n",
              "\n",
              "    [theme=dark] .colab-df-convert:hover {\n",
              "      background-color: #434B5C;\n",
              "      box-shadow: 0px 1px 3px 1px rgba(0, 0, 0, 0.15);\n",
              "      filter: drop-shadow(0px 1px 2px rgba(0, 0, 0, 0.3));\n",
              "      fill: #FFFFFF;\n",
              "    }\n",
              "  </style>\n",
              "\n",
              "      <script>\n",
              "        const buttonEl =\n",
              "          document.querySelector('#df-34ee44e0-6ddf-44af-a997-89997d10ace6 button.colab-df-convert');\n",
              "        buttonEl.style.display =\n",
              "          google.colab.kernel.accessAllowed ? 'block' : 'none';\n",
              "\n",
              "        async function convertToInteractive(key) {\n",
              "          const element = document.querySelector('#df-34ee44e0-6ddf-44af-a997-89997d10ace6');\n",
              "          const dataTable =\n",
              "            await google.colab.kernel.invokeFunction('convertToInteractive',\n",
              "                                                     [key], {});\n",
              "          if (!dataTable) return;\n",
              "\n",
              "          const docLinkHtml = 'Like what you see? Visit the ' +\n",
              "            '<a target=\"_blank\" href=https://colab.research.google.com/notebooks/data_table.ipynb>data table notebook</a>'\n",
              "            + ' to learn more about interactive tables.';\n",
              "          element.innerHTML = '';\n",
              "          dataTable['output_type'] = 'display_data';\n",
              "          await google.colab.output.renderOutput(dataTable, element);\n",
              "          const docLink = document.createElement('div');\n",
              "          docLink.innerHTML = docLinkHtml;\n",
              "          element.appendChild(docLink);\n",
              "        }\n",
              "      </script>\n",
              "    </div>\n",
              "  </div>\n",
              "  "
            ]
          },
          "metadata": {},
          "execution_count": 33
        }
      ]
    },
    {
      "cell_type": "code",
      "source": [
        "#@title Merge test and Amazon Finetuned\n",
        "merge_test_df = pd.merge(merge_test_df, pft_amazon_test_df, left_index=True, right_index=True)\n",
        "merge_test_df = merge_test_df.drop(['Unnamed: 0'], axis=1)\n",
        "merge_test_df = merge_test_df.rename(columns={\"summary\": \"finetuned_pegasus_amazon_summary\"})\n",
        "merge_test_df.head()"
      ],
      "metadata": {
        "colab": {
          "base_uri": "https://localhost:8080/",
          "height": 302
        },
        "id": "ms-Zf5KOsxKC",
        "outputId": "d01f99e1-fb3a-4944-e5e6-284db5b83e42"
      },
      "execution_count": 34,
      "outputs": [
        {
          "output_type": "execute_result",
          "data": {
            "text/plain": [
              "                                                text  label  \\\n",
              "0  I love sci-fi and am willing to put up with a ...      0   \n",
              "1  Worth the entertainment value of a rental, esp...      0   \n",
              "2  its a totally average film with a few semi-alr...      0   \n",
              "3  STAR RATING: ***** Saturday Night **** Friday ...      0   \n",
              "4  First off let me say, If you haven't enjoyed a...      0   \n",
              "\n",
              "                                     pegasus_summary  \\\n",
              "0  Sci-fi movies/TV are usually underfunded, unde...   \n",
              "1  This one features the usual car chases, fights...   \n",
              "2  parts of the plot don't make sense and seem to...   \n",
              "3  Former New Orleans homicide cop Jack Robideaux...   \n",
              "4  Van Damme is good in the movie, the movie is o...   \n",
              "\n",
              "                              pegasus_amazon_summary  \\\n",
              "0  I love sci-fi and am willing to put up with a ...   \n",
              "1  Not bad. Not bad. Not bad. Not bad. Not bad. N...   \n",
              "2  not bad, not van dam's best, not worth watchin...   \n",
              "3  One of Van Damme's worst films since Derailed....   \n",
              "4  Van Damme is good in this movie. It is not as ...   \n",
              "\n",
              "                    finetuned_pegasus_amazon_summary  \n",
              "0  I love sci-fi and am willing to put up with a ...  \n",
              "1  Worth the entertainment value of a rental, esp...  \n",
              "2  an average film with a few semi-alright action...  \n",
              "3  One of Van Damme's worst films since Derailed....  \n",
              "4  Van Damme's best action movie since bloodsport...  "
            ],
            "text/html": [
              "\n",
              "  <div id=\"df-17d7895f-83a3-4f78-9673-d4ad9eac895d\">\n",
              "    <div class=\"colab-df-container\">\n",
              "      <div>\n",
              "<style scoped>\n",
              "    .dataframe tbody tr th:only-of-type {\n",
              "        vertical-align: middle;\n",
              "    }\n",
              "\n",
              "    .dataframe tbody tr th {\n",
              "        vertical-align: top;\n",
              "    }\n",
              "\n",
              "    .dataframe thead th {\n",
              "        text-align: right;\n",
              "    }\n",
              "</style>\n",
              "<table border=\"1\" class=\"dataframe\">\n",
              "  <thead>\n",
              "    <tr style=\"text-align: right;\">\n",
              "      <th></th>\n",
              "      <th>text</th>\n",
              "      <th>label</th>\n",
              "      <th>pegasus_summary</th>\n",
              "      <th>pegasus_amazon_summary</th>\n",
              "      <th>finetuned_pegasus_amazon_summary</th>\n",
              "    </tr>\n",
              "  </thead>\n",
              "  <tbody>\n",
              "    <tr>\n",
              "      <th>0</th>\n",
              "      <td>I love sci-fi and am willing to put up with a ...</td>\n",
              "      <td>0</td>\n",
              "      <td>Sci-fi movies/TV are usually underfunded, unde...</td>\n",
              "      <td>I love sci-fi and am willing to put up with a ...</td>\n",
              "      <td>I love sci-fi and am willing to put up with a ...</td>\n",
              "    </tr>\n",
              "    <tr>\n",
              "      <th>1</th>\n",
              "      <td>Worth the entertainment value of a rental, esp...</td>\n",
              "      <td>0</td>\n",
              "      <td>This one features the usual car chases, fights...</td>\n",
              "      <td>Not bad. Not bad. Not bad. Not bad. Not bad. N...</td>\n",
              "      <td>Worth the entertainment value of a rental, esp...</td>\n",
              "    </tr>\n",
              "    <tr>\n",
              "      <th>2</th>\n",
              "      <td>its a totally average film with a few semi-alr...</td>\n",
              "      <td>0</td>\n",
              "      <td>parts of the plot don't make sense and seem to...</td>\n",
              "      <td>not bad, not van dam's best, not worth watchin...</td>\n",
              "      <td>an average film with a few semi-alright action...</td>\n",
              "    </tr>\n",
              "    <tr>\n",
              "      <th>3</th>\n",
              "      <td>STAR RATING: ***** Saturday Night **** Friday ...</td>\n",
              "      <td>0</td>\n",
              "      <td>Former New Orleans homicide cop Jack Robideaux...</td>\n",
              "      <td>One of Van Damme's worst films since Derailed....</td>\n",
              "      <td>One of Van Damme's worst films since Derailed....</td>\n",
              "    </tr>\n",
              "    <tr>\n",
              "      <th>4</th>\n",
              "      <td>First off let me say, If you haven't enjoyed a...</td>\n",
              "      <td>0</td>\n",
              "      <td>Van Damme is good in the movie, the movie is o...</td>\n",
              "      <td>Van Damme is good in this movie. It is not as ...</td>\n",
              "      <td>Van Damme's best action movie since bloodsport...</td>\n",
              "    </tr>\n",
              "  </tbody>\n",
              "</table>\n",
              "</div>\n",
              "      <button class=\"colab-df-convert\" onclick=\"convertToInteractive('df-17d7895f-83a3-4f78-9673-d4ad9eac895d')\"\n",
              "              title=\"Convert this dataframe to an interactive table.\"\n",
              "              style=\"display:none;\">\n",
              "        \n",
              "  <svg xmlns=\"http://www.w3.org/2000/svg\" height=\"24px\"viewBox=\"0 0 24 24\"\n",
              "       width=\"24px\">\n",
              "    <path d=\"M0 0h24v24H0V0z\" fill=\"none\"/>\n",
              "    <path d=\"M18.56 5.44l.94 2.06.94-2.06 2.06-.94-2.06-.94-.94-2.06-.94 2.06-2.06.94zm-11 1L8.5 8.5l.94-2.06 2.06-.94-2.06-.94L8.5 2.5l-.94 2.06-2.06.94zm10 10l.94 2.06.94-2.06 2.06-.94-2.06-.94-.94-2.06-.94 2.06-2.06.94z\"/><path d=\"M17.41 7.96l-1.37-1.37c-.4-.4-.92-.59-1.43-.59-.52 0-1.04.2-1.43.59L10.3 9.45l-7.72 7.72c-.78.78-.78 2.05 0 2.83L4 21.41c.39.39.9.59 1.41.59.51 0 1.02-.2 1.41-.59l7.78-7.78 2.81-2.81c.8-.78.8-2.07 0-2.86zM5.41 20L4 18.59l7.72-7.72 1.47 1.35L5.41 20z\"/>\n",
              "  </svg>\n",
              "      </button>\n",
              "      \n",
              "  <style>\n",
              "    .colab-df-container {\n",
              "      display:flex;\n",
              "      flex-wrap:wrap;\n",
              "      gap: 12px;\n",
              "    }\n",
              "\n",
              "    .colab-df-convert {\n",
              "      background-color: #E8F0FE;\n",
              "      border: none;\n",
              "      border-radius: 50%;\n",
              "      cursor: pointer;\n",
              "      display: none;\n",
              "      fill: #1967D2;\n",
              "      height: 32px;\n",
              "      padding: 0 0 0 0;\n",
              "      width: 32px;\n",
              "    }\n",
              "\n",
              "    .colab-df-convert:hover {\n",
              "      background-color: #E2EBFA;\n",
              "      box-shadow: 0px 1px 2px rgba(60, 64, 67, 0.3), 0px 1px 3px 1px rgba(60, 64, 67, 0.15);\n",
              "      fill: #174EA6;\n",
              "    }\n",
              "\n",
              "    [theme=dark] .colab-df-convert {\n",
              "      background-color: #3B4455;\n",
              "      fill: #D2E3FC;\n",
              "    }\n",
              "\n",
              "    [theme=dark] .colab-df-convert:hover {\n",
              "      background-color: #434B5C;\n",
              "      box-shadow: 0px 1px 3px 1px rgba(0, 0, 0, 0.15);\n",
              "      filter: drop-shadow(0px 1px 2px rgba(0, 0, 0, 0.3));\n",
              "      fill: #FFFFFF;\n",
              "    }\n",
              "  </style>\n",
              "\n",
              "      <script>\n",
              "        const buttonEl =\n",
              "          document.querySelector('#df-17d7895f-83a3-4f78-9673-d4ad9eac895d button.colab-df-convert');\n",
              "        buttonEl.style.display =\n",
              "          google.colab.kernel.accessAllowed ? 'block' : 'none';\n",
              "\n",
              "        async function convertToInteractive(key) {\n",
              "          const element = document.querySelector('#df-17d7895f-83a3-4f78-9673-d4ad9eac895d');\n",
              "          const dataTable =\n",
              "            await google.colab.kernel.invokeFunction('convertToInteractive',\n",
              "                                                     [key], {});\n",
              "          if (!dataTable) return;\n",
              "\n",
              "          const docLinkHtml = 'Like what you see? Visit the ' +\n",
              "            '<a target=\"_blank\" href=https://colab.research.google.com/notebooks/data_table.ipynb>data table notebook</a>'\n",
              "            + ' to learn more about interactive tables.';\n",
              "          element.innerHTML = '';\n",
              "          dataTable['output_type'] = 'display_data';\n",
              "          await google.colab.output.renderOutput(dataTable, element);\n",
              "          const docLink = document.createElement('div');\n",
              "          docLink.innerHTML = docLinkHtml;\n",
              "          element.appendChild(docLink);\n",
              "        }\n",
              "      </script>\n",
              "    </div>\n",
              "  </div>\n",
              "  "
            ]
          },
          "metadata": {},
          "execution_count": 34
        }
      ]
    },
    {
      "cell_type": "markdown",
      "source": [
        "## Sentiment Analysis"
      ],
      "metadata": {
        "id": "6oIaxEspJh85"
      }
    },
    {
      "cell_type": "code",
      "source": [
        "#@title Load Model - DistilBERT\n",
        "MODEL_NAME = 'distilbert-base-uncased'\n",
        "# review = x[0]\n",
        "\n",
        "tkzr = DistilBertTokenizer.from_pretrained(MODEL_NAME)\n",
        "\n",
        "# inputs = tkzr(review, max_length=MAX_LEN, truncation=True, padding=True)"
      ],
      "metadata": {
        "id": "_uSYxRLSyGBk"
      },
      "execution_count": 35,
      "outputs": []
    },
    {
      "cell_type": "code",
      "source": [
        "#@title Construct Encodings\n",
        "MAX_LEN = 512\n",
        "def construct_encodings(x, tkzr, max_len, trucation=True, padding=True):\n",
        "    return tkzr(x, max_length=max_len, truncation=trucation, padding=padding)\n",
        "    \n",
        "# encodings = construct_encodings(x, tkzr, max_len=MAX_LEN)\n",
        "\n",
        "\n",
        "#Full review encodings\n",
        "train_encodings = construct_encodings(list(train['text']), tkzr, max_len=MAX_LEN)\n",
        "val_encodings = construct_encodings(list(val['text']), tkzr, max_len=MAX_LEN)\n",
        "\n",
        "#Pegasus summary encodings\n",
        "train_pegasus_sum_encodings = construct_encodings(list(train['pegasus_summary']), tkzr, max_len=MAX_LEN)\n",
        "val_pegasus_sum_encodings = construct_encodings(list(val['pegasus_summary']), tkzr, max_len=MAX_LEN)\n",
        "\n",
        "#Pegasus Amazon summary encodings\n",
        "train_amazon_pegasus_sum_encodings = construct_encodings(list(train['pegasus_amazon_summary']), tkzr, max_len=MAX_LEN)\n",
        "val_amazon_pegasus_sum_encodings = construct_encodings(list(val['pegasus_amazon_summary']), tkzr, max_len=MAX_LEN)\n",
        "\n",
        "#Pegasus Amazon Finetuned summary encodings\n",
        "train_amazon_ft_pegasus_sum_encodings = construct_encodings(list(train['finetuned_pegasus_amazon_summary']), tkzr, max_len=MAX_LEN)\n",
        "val_amazon_ft_pegasus_sum_encodings = construct_encodings(list(val['finetuned_pegasus_amazon_summary']), tkzr, max_len=MAX_LEN)\n",
        "\n",
        "#Test Encodings\n",
        "test_encodings = construct_encodings(list(merge_test_df['text']), tkzr, max_len=MAX_LEN)\n",
        "test_pegasus_sum_encodings = construct_encodings(list(merge_test_df['pegasus_summary']), tkzr, max_len=MAX_LEN)\n",
        "test_amazon_pegasus_sum_encodings = construct_encodings(list(merge_test_df['pegasus_amazon_summary']), tkzr, max_len=MAX_LEN)\n",
        "test_amazon_ft_pegasus_sum_encodings = construct_encodings(list(merge_test_df['finetuned_pegasus_amazon_summary']), tkzr, max_len=MAX_LEN)\n"
      ],
      "metadata": {
        "id": "U8HUAxtLyAtP"
      },
      "execution_count": 36,
      "outputs": []
    },
    {
      "cell_type": "code",
      "source": [
        "def construct_tfdataset(encodings, y=None):\n",
        "    if y:\n",
        "        return tf.data.Dataset.from_tensor_slices((dict(encodings),y))\n",
        "    else:\n",
        "        # this case is used when making predictions on unseen samples after training\n",
        "        return tf.data.Dataset.from_tensor_slices(dict(encodings))\n",
        "\n",
        "#Full Review tensors\n",
        "tf_train = construct_tfdataset(train_encodings, list(train['label']))\n",
        "tf_val = construct_tfdataset(val_encodings, list(val['label']))\n",
        "\n",
        "#Pegasus summary tensors\n",
        "tf_peg_sum_train = construct_tfdataset(train_pegasus_sum_encodings, list(train['label']))\n",
        "tf_peg_sum_val = construct_tfdataset(val_pegasus_sum_encodings, list(val['label']))\n",
        "\n",
        "#Pegasus Amazon summary tensors\n",
        "tf_peg_amazon_sum_train = construct_tfdataset(train_pegasus_sum_encodings, list(train['label']))\n",
        "tf_peg_amazon_sum_val = construct_tfdataset(val_pegasus_sum_encodings, list(val['label']))\n",
        "\n",
        "#Pegasus Amazon FT summary tensors\n",
        "tf_peg_amazon_ft_sum_train = construct_tfdataset(train_amazon_ft_pegasus_sum_encodings, list(train['label']))\n",
        "tf_peg_amazon_ft_sum_val = construct_tfdataset(val_amazon_ft_pegasus_sum_encodings, list(val['label']))\n",
        "\n",
        "#Test Set Tensors\n",
        "tf_test = construct_tfdataset(test_encodings, list(merge_test_df['label']))\n",
        "tf_peg_test = construct_tfdataset(test_pegasus_sum_encodings, list(merge_test_df['label']))\n",
        "tf_peg_amazon_test = construct_tfdataset(test_amazon_pegasus_sum_encodings, list(merge_test_df['label']))\n",
        "tf_peg_amazon_ft_test = construct_tfdataset(test_amazon_ft_pegasus_sum_encodings, list(merge_test_df['label']))"
      ],
      "metadata": {
        "id": "xZJmXi3w0Wne"
      },
      "execution_count": 37,
      "outputs": []
    },
    {
      "cell_type": "code",
      "source": [
        "#@title Concatenate full and summary training tensors\n",
        "train_peg_concat_tf = tf_train.concatenate(tf_peg_sum_train)\n",
        "train_pa_concat_tf = tf_train.concatenate(tf_peg_amazon_sum_train)\n",
        "train_pa_ft_concat_tf = tf_train.concatenate(tf_peg_amazon_ft_sum_train)"
      ],
      "metadata": {
        "id": "4rHb0iA4hKhR"
      },
      "execution_count": 38,
      "outputs": []
    },
    {
      "cell_type": "code",
      "source": [
        "#@title Batch tensors\n",
        "BATCH_SIZE = 16\n",
        "#Training and Validation sets\n",
        "tf_train = tf_train.batch(BATCH_SIZE)\n",
        "tf_val = tf_val.batch(BATCH_SIZE)\n",
        "\n",
        "tf_peg_sum_train = tf_peg_sum_train.batch(BATCH_SIZE)\n",
        "tf_peg_sum_val = tf_peg_sum_val.batch(BATCH_SIZE)\n",
        "\n",
        "tf_peg_amazon_sum_train = tf_peg_amazon_sum_train.batch(BATCH_SIZE)\n",
        "tf_peg_amazon_sum_val = tf_peg_amazon_sum_val.batch(BATCH_SIZE)\n",
        "\n",
        "tf_peg_amazon_ft_sum_train = tf_peg_amazon_ft_sum_train.batch(BATCH_SIZE)\n",
        "tf_peg_amazon_ft_sum_val = tf_peg_amazon_ft_sum_val.batch(BATCH_SIZE)\n",
        "\n",
        "#Concatenated train review + summary\n",
        "train_peg_concat_tf = train_peg_concat_tf.batch(BATCH_SIZE)\n",
        "train_pa_concat_tf = train_pa_concat_tf.batch(BATCH_SIZE)\n",
        "train_pa_ft_concat_tf = train_pa_ft_concat_tf.batch(BATCH_SIZE)\n",
        "\n",
        "#Test sets\n",
        "tf_test = tf_test.batch(BATCH_SIZE)\n",
        "tf_peg_test = tf_peg_test.batch(BATCH_SIZE)\n",
        "tf_peg_amazon_test = tf_peg_amazon_test.batch(BATCH_SIZE)\n",
        "tf_peg_amazon_ft_test = tf_peg_amazon_ft_test.batch(BATCH_SIZE)"
      ],
      "metadata": {
        "id": "6VcQ67At1jIE"
      },
      "execution_count": 39,
      "outputs": []
    },
    {
      "cell_type": "markdown",
      "source": [
        "## Training Models"
      ],
      "metadata": {
        "id": "G8sJyp2l4p2N"
      }
    },
    {
      "cell_type": "markdown",
      "source": [
        "#### Full Reviews"
      ],
      "metadata": {
        "id": "x2JoKkXf5GQI"
      }
    },
    {
      "cell_type": "code",
      "source": [
        "#@title Train on full reviews\n",
        "N_EPOCHS = 5\n",
        "\n",
        "model = TFDistilBertForSequenceClassification.from_pretrained(MODEL_NAME)\n",
        "optimizer = optimizers.Adam(learning_rate=3e-5)\n",
        "loss = losses.SparseCategoricalCrossentropy(from_logits=True)\n",
        "model.compile(optimizer=optimizer, loss=loss, metrics=['accuracy'])\n",
        "\n",
        "model.fit(tf_train, batch_size=BATCH_SIZE, epochs=N_EPOCHS)"
      ],
      "metadata": {
        "colab": {
          "base_uri": "https://localhost:8080/",
          "height": 355,
          "referenced_widgets": [
            "d3f10370ab184af7b8fc76ef59b685e4",
            "275701879bc2423bb04b98aff8e64557",
            "5bdc026387d5461b9d34e8dddcf01edf",
            "e939eb6702584a098bb4c1fde3d0a963",
            "339731df76f54f348d5c7ff38991e443",
            "e33a1819910f4537973adc87018c5364",
            "4fbd69ba317f4ef1ac93983c7c7f95b3",
            "77ac26cc9eba413aaab68cc02599c02a",
            "c409371f321b4e2087742e40d587571f",
            "4bfa8bb8bbe04fca98397016ab410ede",
            "23f1fffa19ab4750a5cebc9721aa5f2e"
          ]
        },
        "id": "RwRfWWi12BEA",
        "outputId": "bcb0b4bc-9a56-4ef2-b846-ad56ca8b683d"
      },
      "execution_count": 40,
      "outputs": [
        {
          "output_type": "display_data",
          "data": {
            "text/plain": [
              "Downloading:   0%|          | 0.00/363M [00:00<?, ?B/s]"
            ],
            "application/vnd.jupyter.widget-view+json": {
              "version_major": 2,
              "version_minor": 0,
              "model_id": "d3f10370ab184af7b8fc76ef59b685e4"
            }
          },
          "metadata": {}
        },
        {
          "output_type": "stream",
          "name": "stderr",
          "text": [
            "Some layers from the model checkpoint at distilbert-base-uncased were not used when initializing TFDistilBertForSequenceClassification: ['activation_13', 'vocab_layer_norm', 'vocab_projector', 'vocab_transform']\n",
            "- This IS expected if you are initializing TFDistilBertForSequenceClassification from the checkpoint of a model trained on another task or with another architecture (e.g. initializing a BertForSequenceClassification model from a BertForPreTraining model).\n",
            "- This IS NOT expected if you are initializing TFDistilBertForSequenceClassification from the checkpoint of a model that you expect to be exactly identical (initializing a BertForSequenceClassification model from a BertForSequenceClassification model).\n",
            "Some layers of TFDistilBertForSequenceClassification were not initialized from the model checkpoint at distilbert-base-uncased and are newly initialized: ['dropout_19', 'classifier', 'pre_classifier']\n",
            "You should probably TRAIN this model on a down-stream task to be able to use it for predictions and inference.\n"
          ]
        },
        {
          "output_type": "stream",
          "name": "stdout",
          "text": [
            "Epoch 1/5\n",
            "1250/1250 [==============================] - 159s 118ms/step - loss: 0.2688 - accuracy: 0.8905\n",
            "Epoch 2/5\n",
            "1250/1250 [==============================] - 147s 118ms/step - loss: 0.1408 - accuracy: 0.9474\n",
            "Epoch 3/5\n",
            "1250/1250 [==============================] - 147s 118ms/step - loss: 0.0722 - accuracy: 0.9769\n",
            "Epoch 4/5\n",
            "1250/1250 [==============================] - 147s 118ms/step - loss: 0.0498 - accuracy: 0.9843\n",
            "Epoch 5/5\n",
            "1250/1250 [==============================] - 147s 118ms/step - loss: 0.0342 - accuracy: 0.9887\n"
          ]
        },
        {
          "output_type": "execute_result",
          "data": {
            "text/plain": [
              "<keras.callbacks.History at 0x7f23cf769790>"
            ]
          },
          "metadata": {},
          "execution_count": 40
        }
      ]
    },
    {
      "cell_type": "code",
      "source": [
        "#@title Save the model\n",
        "filename = 'gdrive/MyDrive/SA_models/full_review_model.sav'\n",
        "pickle.dump(model, open(filename, 'wb'))"
      ],
      "metadata": {
        "colab": {
          "base_uri": "https://localhost:8080/"
        },
        "id": "jg2srI-u4Ux3",
        "outputId": "1d77e428-9568-440c-ca86-bf159d8e7dd2"
      },
      "execution_count": 41,
      "outputs": [
        {
          "output_type": "stream",
          "name": "stderr",
          "text": [
            "WARNING:tensorflow:Skipping full serialization of Keras layer <keras.layers.regularization.dropout.Dropout object at 0x7f23d29abf10>, because it is not built.\n",
            "WARNING:tensorflow:Skipping full serialization of Keras layer <keras.layers.regularization.dropout.Dropout object at 0x7f23d1c64990>, because it is not built.\n",
            "WARNING:tensorflow:Skipping full serialization of Keras layer <keras.layers.regularization.dropout.Dropout object at 0x7f23d29c7150>, because it is not built.\n",
            "WARNING:tensorflow:Skipping full serialization of Keras layer <keras.layers.regularization.dropout.Dropout object at 0x7f23d29c93d0>, because it is not built.\n",
            "WARNING:tensorflow:Skipping full serialization of Keras layer <keras.layers.regularization.dropout.Dropout object at 0x7f23ce35dfd0>, because it is not built.\n",
            "WARNING:tensorflow:Skipping full serialization of Keras layer <keras.layers.regularization.dropout.Dropout object at 0x7f23d0ae1e10>, because it is not built.\n",
            "WARNING:absl:Found untraced functions such as embeddings_layer_call_fn, embeddings_layer_call_and_return_conditional_losses, transformer_layer_call_fn, transformer_layer_call_and_return_conditional_losses, LayerNorm_layer_call_fn while saving (showing 5 of 164). These functions will not be directly callable after loading.\n"
          ]
        }
      ]
    },
    {
      "cell_type": "code",
      "source": [
        "#@title Validation set Full review Baseline\n",
        "benchmarks = model.evaluate(tf_val, return_dict=True, batch_size=BATCH_SIZE)\n",
        "print(benchmarks)"
      ],
      "metadata": {
        "colab": {
          "base_uri": "https://localhost:8080/"
        },
        "id": "1bDCEGO_ClZp",
        "outputId": "5d5a22d6-de65-4a79-8fa6-cd14421ea9f3"
      },
      "execution_count": 42,
      "outputs": [
        {
          "output_type": "stream",
          "name": "stdout",
          "text": [
            "313/313 [==============================] - 15s 42ms/step - loss: 0.3582 - accuracy: 0.9210\n",
            "{'loss': 0.35815784335136414, 'accuracy': 0.9210000038146973}\n"
          ]
        }
      ]
    },
    {
      "cell_type": "code",
      "source": [
        "#@title Validate against Pegasus Summary\n",
        "full_pegasus_sum_benchmarks = model.evaluate(tf_peg_sum_val, return_dict=True, batch_size=BATCH_SIZE)\n",
        "print(full_pegasus_sum_benchmarks)"
      ],
      "metadata": {
        "colab": {
          "base_uri": "https://localhost:8080/"
        },
        "id": "NWSSIC6mNpos",
        "outputId": "cd7047da-9a98-4f68-8cda-806e515a74d3"
      },
      "execution_count": 43,
      "outputs": [
        {
          "output_type": "stream",
          "name": "stdout",
          "text": [
            "313/313 [==============================] - 8s 16ms/step - loss: 1.1492 - accuracy: 0.7022\n",
            "{'loss': 1.1492418050765991, 'accuracy': 0.7021999955177307}\n"
          ]
        }
      ]
    },
    {
      "cell_type": "code",
      "source": [
        "#@title Validate against Pegasus Amazon Summary\n",
        "full_peg_amazon_sum_benchmarks = model.evaluate(tf_peg_amazon_sum_val, return_dict=True, batch_size=BATCH_SIZE)\n",
        "print(full_peg_amazon_sum_benchmarks)"
      ],
      "metadata": {
        "colab": {
          "base_uri": "https://localhost:8080/"
        },
        "id": "HwTs7Zst_X9v",
        "outputId": "eb94d5b1-5621-4050-f9ac-6a4c3157a67a"
      },
      "execution_count": 44,
      "outputs": [
        {
          "output_type": "stream",
          "name": "stdout",
          "text": [
            "313/313 [==============================] - 5s 16ms/step - loss: 1.1492 - accuracy: 0.7022\n",
            "{'loss': 1.1492418050765991, 'accuracy': 0.7021999955177307}\n"
          ]
        }
      ]
    },
    {
      "cell_type": "code",
      "source": [
        "#@title Validate against Pegasus Amazon FT Summary\n",
        "full_peg_amazon_ft_sum_benchmarks = model.evaluate(tf_peg_amazon_ft_sum_val, return_dict=True, batch_size=BATCH_SIZE)\n",
        "print(full_peg_amazon_ft_sum_benchmarks)"
      ],
      "metadata": {
        "colab": {
          "base_uri": "https://localhost:8080/"
        },
        "id": "BZLfxku2AM33",
        "outputId": "2672f6e1-c2b8-4454-d866-ec7e671ced99"
      },
      "execution_count": 45,
      "outputs": [
        {
          "output_type": "stream",
          "name": "stdout",
          "text": [
            "313/313 [==============================] - 13s 41ms/step - loss: 0.6038 - accuracy: 0.8468\n",
            "{'loss': 0.6038014888763428, 'accuracy': 0.8468000292778015}\n"
          ]
        }
      ]
    },
    {
      "cell_type": "markdown",
      "source": [
        "#### Pegasus Summary Model"
      ],
      "metadata": {
        "id": "7tspozK_6Vey"
      }
    },
    {
      "cell_type": "code",
      "source": [
        "#@title \n",
        "N_EPOCHS = 5\n",
        "\n",
        "peg_sum_model = TFDistilBertForSequenceClassification.from_pretrained(MODEL_NAME)\n",
        "optimizer = optimizers.Adam(learning_rate=3e-5)\n",
        "loss = losses.SparseCategoricalCrossentropy(from_logits=True)\n",
        "peg_sum_model.compile(optimizer=optimizer, loss=loss, metrics=['accuracy'])\n",
        "\n",
        "peg_sum_model.fit(tf_peg_sum_train, batch_size=BATCH_SIZE, epochs=N_EPOCHS)"
      ],
      "metadata": {
        "colab": {
          "base_uri": "https://localhost:8080/"
        },
        "id": "EhMnd-hiDgAv",
        "outputId": "3b33a826-295c-4e22-cbb4-91137e766ba7"
      },
      "execution_count": 46,
      "outputs": [
        {
          "output_type": "stream",
          "name": "stderr",
          "text": [
            "Some layers from the model checkpoint at distilbert-base-uncased were not used when initializing TFDistilBertForSequenceClassification: ['activation_13', 'vocab_layer_norm', 'vocab_projector', 'vocab_transform']\n",
            "- This IS expected if you are initializing TFDistilBertForSequenceClassification from the checkpoint of a model trained on another task or with another architecture (e.g. initializing a BertForSequenceClassification model from a BertForPreTraining model).\n",
            "- This IS NOT expected if you are initializing TFDistilBertForSequenceClassification from the checkpoint of a model that you expect to be exactly identical (initializing a BertForSequenceClassification model from a BertForSequenceClassification model).\n",
            "Some layers of TFDistilBertForSequenceClassification were not initialized from the model checkpoint at distilbert-base-uncased and are newly initialized: ['dropout_39', 'classifier', 'pre_classifier']\n",
            "You should probably TRAIN this model on a down-stream task to be able to use it for predictions and inference.\n"
          ]
        },
        {
          "output_type": "stream",
          "name": "stdout",
          "text": [
            "Epoch 1/5\n",
            "1250/1250 [==============================] - 50s 34ms/step - loss: 0.5386 - accuracy: 0.7192\n",
            "Epoch 2/5\n",
            "1250/1250 [==============================] - 43s 34ms/step - loss: 0.4347 - accuracy: 0.7992\n",
            "Epoch 3/5\n",
            "1250/1250 [==============================] - 43s 34ms/step - loss: 0.2944 - accuracy: 0.8773\n",
            "Epoch 4/5\n",
            "1250/1250 [==============================] - 42s 34ms/step - loss: 0.1913 - accuracy: 0.9263\n",
            "Epoch 5/5\n",
            "1250/1250 [==============================] - 42s 34ms/step - loss: 0.1357 - accuracy: 0.9502\n"
          ]
        },
        {
          "output_type": "execute_result",
          "data": {
            "text/plain": [
              "<keras.callbacks.History at 0x7f23d0348650>"
            ]
          },
          "metadata": {},
          "execution_count": 46
        }
      ]
    },
    {
      "cell_type": "code",
      "source": [
        "#@title Save the Pegasus model\n",
        "filename = 'gdrive/MyDrive/SA_models/pegasus_summary_model.sav'\n",
        "pickle.dump(peg_sum_model, open(filename, 'wb'))"
      ],
      "metadata": {
        "colab": {
          "base_uri": "https://localhost:8080/"
        },
        "id": "oVqeCShm9stb",
        "outputId": "aee64537-ffa0-439d-d4f5-b46977c599aa"
      },
      "execution_count": 47,
      "outputs": [
        {
          "output_type": "stream",
          "name": "stderr",
          "text": [
            "WARNING:tensorflow:Skipping full serialization of Keras layer <keras.layers.regularization.dropout.Dropout object at 0x7f22f3c916d0>, because it is not built.\n",
            "WARNING:tensorflow:Skipping full serialization of Keras layer <keras.layers.regularization.dropout.Dropout object at 0x7f22f3e93110>, because it is not built.\n",
            "WARNING:tensorflow:Skipping full serialization of Keras layer <keras.layers.regularization.dropout.Dropout object at 0x7f23ce3dfe10>, because it is not built.\n",
            "WARNING:tensorflow:Skipping full serialization of Keras layer <keras.layers.regularization.dropout.Dropout object at 0x7f23d1162d50>, because it is not built.\n",
            "WARNING:tensorflow:Skipping full serialization of Keras layer <keras.layers.regularization.dropout.Dropout object at 0x7f23ce53af50>, because it is not built.\n",
            "WARNING:tensorflow:Skipping full serialization of Keras layer <keras.layers.regularization.dropout.Dropout object at 0x7f23cecbf790>, because it is not built.\n",
            "WARNING:absl:Found untraced functions such as embeddings_layer_call_fn, embeddings_layer_call_and_return_conditional_losses, transformer_layer_call_fn, transformer_layer_call_and_return_conditional_losses, LayerNorm_layer_call_fn while saving (showing 5 of 164). These functions will not be directly callable after loading.\n"
          ]
        }
      ]
    },
    {
      "cell_type": "code",
      "source": [
        "#@title Validate against full reviews\n",
        "peg_sum_full_benchmarks = peg_sum_model.evaluate(tf_val, return_dict=True, batch_size=BATCH_SIZE)\n",
        "print(peg_sum_full_benchmarks)"
      ],
      "metadata": {
        "colab": {
          "base_uri": "https://localhost:8080/"
        },
        "id": "u6I3qy0CRBRE",
        "outputId": "984777b0-4ccd-42d7-cf1f-8c3f317aaafc"
      },
      "execution_count": 48,
      "outputs": [
        {
          "output_type": "stream",
          "name": "stdout",
          "text": [
            "313/313 [==============================] - 15s 42ms/step - loss: 0.4307 - accuracy: 0.8482\n",
            "{'loss': 0.4306654930114746, 'accuracy': 0.8482000231742859}\n"
          ]
        }
      ]
    },
    {
      "cell_type": "code",
      "source": [
        "#@title Validate against pegasus summary validation\n",
        "pegasus_sum_benchmarks = peg_sum_model.evaluate(tf_peg_sum_val, return_dict=True, batch_size=BATCH_SIZE)\n",
        "print(pegasus_sum_benchmarks)"
      ],
      "metadata": {
        "colab": {
          "base_uri": "https://localhost:8080/"
        },
        "id": "E9UJQ36IDrWx",
        "outputId": "64f497fa-315b-4352-8589-c387eadf664f"
      },
      "execution_count": 49,
      "outputs": [
        {
          "output_type": "stream",
          "name": "stdout",
          "text": [
            "313/313 [==============================] - 7s 16ms/step - loss: 0.9165 - accuracy: 0.7310\n",
            "{'loss': 0.9164671897888184, 'accuracy': 0.7310000061988831}\n"
          ]
        }
      ]
    },
    {
      "cell_type": "markdown",
      "source": [
        "#### Pegasus Amazon Summary Model"
      ],
      "metadata": {
        "id": "1-UG4NspBLOi"
      }
    },
    {
      "cell_type": "code",
      "source": [
        "#@title Train Pegasus Amazon Model\n",
        "N_EPOCHS = 5\n",
        "\n",
        "peg_amazon_sum_model = TFDistilBertForSequenceClassification.from_pretrained(MODEL_NAME)\n",
        "optimizer = optimizers.Adam(learning_rate=3e-5)\n",
        "loss = losses.SparseCategoricalCrossentropy(from_logits=True)\n",
        "peg_amazon_sum_model.compile(optimizer=optimizer, loss=loss, metrics=['accuracy'])\n",
        "\n",
        "peg_amazon_sum_model.fit(tf_peg_amazon_sum_train, batch_size=BATCH_SIZE, epochs=N_EPOCHS)"
      ],
      "metadata": {
        "colab": {
          "base_uri": "https://localhost:8080/"
        },
        "outputId": "afadbfd3-b2be-40a7-8d3e-a70496a5cd50",
        "id": "VPNHIbkKBLOi"
      },
      "execution_count": 50,
      "outputs": [
        {
          "output_type": "stream",
          "name": "stderr",
          "text": [
            "Some layers from the model checkpoint at distilbert-base-uncased were not used when initializing TFDistilBertForSequenceClassification: ['activation_13', 'vocab_layer_norm', 'vocab_projector', 'vocab_transform']\n",
            "- This IS expected if you are initializing TFDistilBertForSequenceClassification from the checkpoint of a model trained on another task or with another architecture (e.g. initializing a BertForSequenceClassification model from a BertForPreTraining model).\n",
            "- This IS NOT expected if you are initializing TFDistilBertForSequenceClassification from the checkpoint of a model that you expect to be exactly identical (initializing a BertForSequenceClassification model from a BertForSequenceClassification model).\n",
            "Some layers of TFDistilBertForSequenceClassification were not initialized from the model checkpoint at distilbert-base-uncased and are newly initialized: ['dropout_59', 'classifier', 'pre_classifier']\n",
            "You should probably TRAIN this model on a down-stream task to be able to use it for predictions and inference.\n"
          ]
        },
        {
          "output_type": "stream",
          "name": "stdout",
          "text": [
            "Epoch 1/5\n",
            "1250/1250 [==============================] - 50s 34ms/step - loss: 0.5394 - accuracy: 0.7194\n",
            "Epoch 2/5\n",
            "1250/1250 [==============================] - 42s 34ms/step - loss: 0.4345 - accuracy: 0.7972\n",
            "Epoch 3/5\n",
            "1250/1250 [==============================] - 42s 34ms/step - loss: 0.2944 - accuracy: 0.8763\n",
            "Epoch 4/5\n",
            "1250/1250 [==============================] - 42s 34ms/step - loss: 0.1877 - accuracy: 0.9259\n",
            "Epoch 5/5\n",
            "1250/1250 [==============================] - 42s 34ms/step - loss: 0.1268 - accuracy: 0.9531\n"
          ]
        },
        {
          "output_type": "execute_result",
          "data": {
            "text/plain": [
              "<keras.callbacks.History at 0x7f22f05d9610>"
            ]
          },
          "metadata": {},
          "execution_count": 50
        }
      ]
    },
    {
      "cell_type": "code",
      "source": [
        "#@title Save the Pegasus Amazon model\n",
        "filename = 'gdrive/MyDrive/SA_models/peg_amazon_summary_model.sav'\n",
        "pickle.dump(peg_amazon_sum_model, open(filename, 'wb'))"
      ],
      "metadata": {
        "colab": {
          "base_uri": "https://localhost:8080/"
        },
        "id": "xQDP6B0qBLOj",
        "outputId": "8154c302-0db9-4614-8096-b0f971ff25f1"
      },
      "execution_count": 51,
      "outputs": [
        {
          "output_type": "stream",
          "name": "stderr",
          "text": [
            "WARNING:tensorflow:Skipping full serialization of Keras layer <keras.layers.regularization.dropout.Dropout object at 0x7f22f3bba390>, because it is not built.\n",
            "WARNING:tensorflow:Skipping full serialization of Keras layer <keras.layers.regularization.dropout.Dropout object at 0x7f22f02d78d0>, because it is not built.\n",
            "WARNING:tensorflow:Skipping full serialization of Keras layer <keras.layers.regularization.dropout.Dropout object at 0x7f22f02f82d0>, because it is not built.\n",
            "WARNING:tensorflow:Skipping full serialization of Keras layer <keras.layers.regularization.dropout.Dropout object at 0x7f22f2f23350>, because it is not built.\n",
            "WARNING:tensorflow:Skipping full serialization of Keras layer <keras.layers.regularization.dropout.Dropout object at 0x7f22f0753590>, because it is not built.\n",
            "WARNING:tensorflow:Skipping full serialization of Keras layer <keras.layers.regularization.dropout.Dropout object at 0x7f22f2f0ae10>, because it is not built.\n",
            "WARNING:absl:Found untraced functions such as embeddings_layer_call_fn, embeddings_layer_call_and_return_conditional_losses, transformer_layer_call_fn, transformer_layer_call_and_return_conditional_losses, LayerNorm_layer_call_fn while saving (showing 5 of 164). These functions will not be directly callable after loading.\n"
          ]
        }
      ]
    },
    {
      "cell_type": "code",
      "source": [
        "#@title Validate against full reviews\n",
        "peg_amazon_sum_full_benchmarks = peg_amazon_sum_model.evaluate(tf_val, return_dict=True, batch_size=BATCH_SIZE)\n",
        "print(peg_amazon_sum_full_benchmarks)"
      ],
      "metadata": {
        "colab": {
          "base_uri": "https://localhost:8080/"
        },
        "outputId": "10c4d4ac-72d7-4f6b-861d-56dd8d466c38",
        "id": "sFOZtEp0BLOj"
      },
      "execution_count": 52,
      "outputs": [
        {
          "output_type": "stream",
          "name": "stdout",
          "text": [
            "313/313 [==============================] - 15s 41ms/step - loss: 0.4419 - accuracy: 0.8434\n",
            "{'loss': 0.44192665815353394, 'accuracy': 0.8434000015258789}\n"
          ]
        }
      ]
    },
    {
      "cell_type": "code",
      "source": [
        "#@title Validate against pegasus Amazon summary validation\n",
        "peg_amazon_sum_benchmarks = peg_amazon_sum_model.evaluate(tf_peg_amazon_sum_val, return_dict=True, batch_size=BATCH_SIZE)\n",
        "print(peg_amazon_sum_benchmarks)"
      ],
      "metadata": {
        "colab": {
          "base_uri": "https://localhost:8080/"
        },
        "outputId": "60d5469a-1bb9-480f-9f60-f546ab6942ba",
        "id": "QDEg0e0kBLOk"
      },
      "execution_count": 53,
      "outputs": [
        {
          "output_type": "stream",
          "name": "stdout",
          "text": [
            "313/313 [==============================] - 7s 16ms/step - loss: 0.9327 - accuracy: 0.7288\n",
            "{'loss': 0.9327335953712463, 'accuracy': 0.7287999987602234}\n"
          ]
        }
      ]
    },
    {
      "cell_type": "markdown",
      "source": [
        "#### Pegasus Amazon Finetuned Summary Model"
      ],
      "metadata": {
        "id": "0BnkAX8qCLKg"
      }
    },
    {
      "cell_type": "code",
      "source": [
        "#@title Train Pegasus Amazon Finetune Model\n",
        "N_EPOCHS = 5\n",
        "\n",
        "peg_amazon_ft_sum_model = TFDistilBertForSequenceClassification.from_pretrained(MODEL_NAME)\n",
        "optimizer = optimizers.Adam(learning_rate=3e-5)\n",
        "loss = losses.SparseCategoricalCrossentropy(from_logits=True)\n",
        "peg_amazon_ft_sum_model.compile(optimizer=optimizer, loss=loss, metrics=['accuracy'])\n",
        "\n",
        "peg_amazon_ft_sum_model.fit(tf_peg_amazon_ft_sum_train, batch_size=BATCH_SIZE, epochs=N_EPOCHS)"
      ],
      "metadata": {
        "colab": {
          "base_uri": "https://localhost:8080/"
        },
        "outputId": "1a255031-44eb-47df-c3df-67457ce04d5c",
        "id": "RLm7jukaCLKg"
      },
      "execution_count": 54,
      "outputs": [
        {
          "output_type": "stream",
          "name": "stderr",
          "text": [
            "Some layers from the model checkpoint at distilbert-base-uncased were not used when initializing TFDistilBertForSequenceClassification: ['activation_13', 'vocab_layer_norm', 'vocab_projector', 'vocab_transform']\n",
            "- This IS expected if you are initializing TFDistilBertForSequenceClassification from the checkpoint of a model trained on another task or with another architecture (e.g. initializing a BertForSequenceClassification model from a BertForPreTraining model).\n",
            "- This IS NOT expected if you are initializing TFDistilBertForSequenceClassification from the checkpoint of a model that you expect to be exactly identical (initializing a BertForSequenceClassification model from a BertForSequenceClassification model).\n",
            "Some layers of TFDistilBertForSequenceClassification were not initialized from the model checkpoint at distilbert-base-uncased and are newly initialized: ['dropout_79', 'classifier', 'pre_classifier']\n",
            "You should probably TRAIN this model on a down-stream task to be able to use it for predictions and inference.\n"
          ]
        },
        {
          "output_type": "stream",
          "name": "stdout",
          "text": [
            "Epoch 1/5\n",
            "1250/1250 [==============================] - 156s 119ms/step - loss: 0.3542 - accuracy: 0.8443\n",
            "Epoch 2/5\n",
            "1250/1250 [==============================] - 148s 118ms/step - loss: 0.2328 - accuracy: 0.9090\n",
            "Epoch 3/5\n",
            "1250/1250 [==============================] - 148s 118ms/step - loss: 0.1418 - accuracy: 0.9493\n",
            "Epoch 4/5\n",
            "1250/1250 [==============================] - 148s 118ms/step - loss: 0.1015 - accuracy: 0.9653\n",
            "Epoch 5/5\n",
            "1250/1250 [==============================] - 148s 118ms/step - loss: 0.0773 - accuracy: 0.9743\n"
          ]
        },
        {
          "output_type": "execute_result",
          "data": {
            "text/plain": [
              "<keras.callbacks.History at 0x7f22f128e190>"
            ]
          },
          "metadata": {},
          "execution_count": 54
        }
      ]
    },
    {
      "cell_type": "code",
      "source": [
        "#@title Save the Pegasus Amazon Finetuned model\n",
        "filename = 'gdrive/MyDrive/SA_models/peg_amazon_ft_summary_model.sav'\n",
        "pickle.dump(peg_amazon_ft_sum_model, open(filename, 'wb'))"
      ],
      "metadata": {
        "colab": {
          "base_uri": "https://localhost:8080/"
        },
        "id": "ttWJeWmiCLKh",
        "outputId": "7ef8c29c-9fdf-4978-f3a0-c67449911089"
      },
      "execution_count": 55,
      "outputs": [
        {
          "output_type": "stream",
          "name": "stderr",
          "text": [
            "WARNING:tensorflow:Skipping full serialization of Keras layer <keras.layers.regularization.dropout.Dropout object at 0x7f22f2bd6810>, because it is not built.\n",
            "WARNING:tensorflow:Skipping full serialization of Keras layer <keras.layers.regularization.dropout.Dropout object at 0x7f22f2be7b10>, because it is not built.\n",
            "WARNING:tensorflow:Skipping full serialization of Keras layer <keras.layers.regularization.dropout.Dropout object at 0x7f22f2bce890>, because it is not built.\n",
            "WARNING:tensorflow:Skipping full serialization of Keras layer <keras.layers.regularization.dropout.Dropout object at 0x7f22f356d650>, because it is not built.\n",
            "WARNING:tensorflow:Skipping full serialization of Keras layer <keras.layers.regularization.dropout.Dropout object at 0x7f22f35753d0>, because it is not built.\n",
            "WARNING:tensorflow:Skipping full serialization of Keras layer <keras.layers.regularization.dropout.Dropout object at 0x7f22f357f190>, because it is not built.\n",
            "WARNING:absl:Found untraced functions such as embeddings_layer_call_fn, embeddings_layer_call_and_return_conditional_losses, transformer_layer_call_fn, transformer_layer_call_and_return_conditional_losses, LayerNorm_layer_call_fn while saving (showing 5 of 164). These functions will not be directly callable after loading.\n"
          ]
        }
      ]
    },
    {
      "cell_type": "code",
      "source": [
        "#@title Validate against full reviews\n",
        "peg_amazon_ft_sum_full_benchmarks = peg_amazon_ft_sum_model.evaluate(tf_val, return_dict=True, batch_size=BATCH_SIZE)\n",
        "print(peg_amazon_ft_sum_full_benchmarks)"
      ],
      "metadata": {
        "colab": {
          "base_uri": "https://localhost:8080/"
        },
        "outputId": "4082c9ea-7b26-4eda-9080-f80123aa41f9",
        "id": "XLpIrI3VCLKh"
      },
      "execution_count": 56,
      "outputs": [
        {
          "output_type": "stream",
          "name": "stdout",
          "text": [
            "313/313 [==============================] - 14s 41ms/step - loss: 0.6277 - accuracy: 0.8378\n",
            "{'loss': 0.6276937127113342, 'accuracy': 0.8378000259399414}\n"
          ]
        }
      ]
    },
    {
      "cell_type": "code",
      "source": [
        "#@title Validate against Pegasus Amazon Finetune summary validation\n",
        "peg_amazon_ft_sum_benchmarks = peg_amazon_ft_sum_model.evaluate(tf_peg_amazon_ft_sum_val, return_dict=True, batch_size=BATCH_SIZE)\n",
        "print(peg_amazon_ft_sum_benchmarks)"
      ],
      "metadata": {
        "colab": {
          "base_uri": "https://localhost:8080/"
        },
        "outputId": "46087482-17df-4400-b399-43d0c15d2f05",
        "id": "qpRBEEQ7CLKh"
      },
      "execution_count": 57,
      "outputs": [
        {
          "output_type": "stream",
          "name": "stdout",
          "text": [
            "313/313 [==============================] - 13s 41ms/step - loss: 0.5252 - accuracy: 0.8586\n",
            "{'loss': 0.5251644253730774, 'accuracy': 0.8586000204086304}\n"
          ]
        }
      ]
    },
    {
      "cell_type": "markdown",
      "source": [
        "#### Concatenated Summaries"
      ],
      "metadata": {
        "id": "EuC1sXRJAoE9"
      }
    },
    {
      "cell_type": "markdown",
      "source": [
        "##### Pegasus Full Concat"
      ],
      "metadata": {
        "id": "WjNMO6nFDVpl"
      }
    },
    {
      "cell_type": "code",
      "source": [
        "#@title Concatenated Full and Pegasus Summary Train\n",
        "N_EPOCHS = 5\n",
        "\n",
        "concat_pegasus_model = TFDistilBertForSequenceClassification.from_pretrained(MODEL_NAME)\n",
        "optimizer = optimizers.Adam(learning_rate=3e-5)\n",
        "loss = losses.SparseCategoricalCrossentropy(from_logits=True)\n",
        "concat_pegasus_model.compile(optimizer=optimizer, loss=loss, metrics=['accuracy'])\n",
        "\n",
        "concat_pegasus_model.fit(train_peg_concat_tf, batch_size=BATCH_SIZE, epochs=N_EPOCHS)"
      ],
      "metadata": {
        "colab": {
          "base_uri": "https://localhost:8080/"
        },
        "id": "ErL3qLGahT8l",
        "outputId": "fb649976-06c2-435e-f5e2-63d8fb8e1889"
      },
      "execution_count": 58,
      "outputs": [
        {
          "output_type": "stream",
          "name": "stderr",
          "text": [
            "Some layers from the model checkpoint at distilbert-base-uncased were not used when initializing TFDistilBertForSequenceClassification: ['activation_13', 'vocab_layer_norm', 'vocab_projector', 'vocab_transform']\n",
            "- This IS expected if you are initializing TFDistilBertForSequenceClassification from the checkpoint of a model trained on another task or with another architecture (e.g. initializing a BertForSequenceClassification model from a BertForPreTraining model).\n",
            "- This IS NOT expected if you are initializing TFDistilBertForSequenceClassification from the checkpoint of a model that you expect to be exactly identical (initializing a BertForSequenceClassification model from a BertForSequenceClassification model).\n",
            "Some layers of TFDistilBertForSequenceClassification were not initialized from the model checkpoint at distilbert-base-uncased and are newly initialized: ['dropout_99', 'classifier', 'pre_classifier']\n",
            "You should probably TRAIN this model on a down-stream task to be able to use it for predictions and inference.\n"
          ]
        },
        {
          "output_type": "stream",
          "name": "stdout",
          "text": [
            "Epoch 1/5\n",
            "2500/2500 [==============================] - 198s 76ms/step - loss: 0.3937 - accuracy: 0.8123\n",
            "Epoch 2/5\n",
            "2500/2500 [==============================] - 189s 76ms/step - loss: 0.2820 - accuracy: 0.8762\n",
            "Epoch 3/5\n",
            "2500/2500 [==============================] - 190s 76ms/step - loss: 0.1858 - accuracy: 0.9245\n",
            "Epoch 4/5\n",
            "2500/2500 [==============================] - 190s 76ms/step - loss: 0.1187 - accuracy: 0.9542\n",
            "Epoch 5/5\n",
            "2500/2500 [==============================] - 190s 76ms/step - loss: 0.0837 - accuracy: 0.9691\n"
          ]
        },
        {
          "output_type": "execute_result",
          "data": {
            "text/plain": [
              "<keras.callbacks.History at 0x7f22ed777e90>"
            ]
          },
          "metadata": {},
          "execution_count": 58
        }
      ]
    },
    {
      "cell_type": "code",
      "source": [
        "#@title Save the Concat Pegasus Full model\n",
        "filename = 'gdrive/MyDrive/SA_models/concat_peg_full_summary_model.sav'\n",
        "pickle.dump(concat_pegasus_model, open(filename, 'wb'))"
      ],
      "metadata": {
        "id": "QCmpXNUQhvPE",
        "colab": {
          "base_uri": "https://localhost:8080/"
        },
        "outputId": "8894a97b-eb6d-4d05-f641-fb304f06d750"
      },
      "execution_count": 59,
      "outputs": [
        {
          "output_type": "stream",
          "name": "stderr",
          "text": [
            "WARNING:tensorflow:Skipping full serialization of Keras layer <keras.layers.regularization.dropout.Dropout object at 0x7f22f335c610>, because it is not built.\n",
            "WARNING:tensorflow:Skipping full serialization of Keras layer <keras.layers.regularization.dropout.Dropout object at 0x7f22ed49b2d0>, because it is not built.\n",
            "WARNING:tensorflow:Skipping full serialization of Keras layer <keras.layers.regularization.dropout.Dropout object at 0x7f22ed4adf90>, because it is not built.\n",
            "WARNING:tensorflow:Skipping full serialization of Keras layer <keras.layers.regularization.dropout.Dropout object at 0x7f22ed488dd0>, because it is not built.\n",
            "WARNING:tensorflow:Skipping full serialization of Keras layer <keras.layers.regularization.dropout.Dropout object at 0x7f22ed485b90>, because it is not built.\n",
            "WARNING:tensorflow:Skipping full serialization of Keras layer <keras.layers.regularization.dropout.Dropout object at 0x7f22ed7a2990>, because it is not built.\n",
            "WARNING:absl:Found untraced functions such as embeddings_layer_call_fn, embeddings_layer_call_and_return_conditional_losses, transformer_layer_call_fn, transformer_layer_call_and_return_conditional_losses, LayerNorm_layer_call_fn while saving (showing 5 of 164). These functions will not be directly callable after loading.\n"
          ]
        }
      ]
    },
    {
      "cell_type": "code",
      "source": [
        "#@title Validate concat against full\n",
        "concat_peg_full_benchmarks = concat_pegasus_model.evaluate(tf_val, return_dict=True, batch_size=BATCH_SIZE)\n",
        "print(concat_peg_full_benchmarks)"
      ],
      "metadata": {
        "colab": {
          "base_uri": "https://localhost:8080/"
        },
        "id": "AHb44C06hYh8",
        "outputId": "410e2186-33a0-4c4e-fdfd-8dff3479a058"
      },
      "execution_count": 60,
      "outputs": [
        {
          "output_type": "stream",
          "name": "stdout",
          "text": [
            "313/313 [==============================] - 14s 41ms/step - loss: 0.3504 - accuracy: 0.9092\n",
            "{'loss': 0.3504033386707306, 'accuracy': 0.9092000126838684}\n"
          ]
        }
      ]
    },
    {
      "cell_type": "code",
      "source": [
        "concat_peg_sum_benchmarks = concat_pegasus_model.evaluate(tf_peg_sum_val, return_dict=True, batch_size=BATCH_SIZE)\n",
        "print(concat_peg_sum_benchmarks)"
      ],
      "metadata": {
        "colab": {
          "base_uri": "https://localhost:8080/"
        },
        "id": "Q9sXrgonhZ6w",
        "outputId": "1ad7bd98-08a9-4760-8adc-6486aec63078"
      },
      "execution_count": 61,
      "outputs": [
        {
          "output_type": "stream",
          "name": "stdout",
          "text": [
            "313/313 [==============================] - 7s 17ms/step - loss: 0.9669 - accuracy: 0.7410\n",
            "{'loss': 0.9668987989425659, 'accuracy': 0.7409999966621399}\n"
          ]
        }
      ]
    },
    {
      "cell_type": "markdown",
      "source": [
        "##### Pegasus Amazon Full Concat"
      ],
      "metadata": {
        "id": "tOhYTjHBE6TR"
      }
    },
    {
      "cell_type": "code",
      "source": [
        "#@title Concatenated Full and Pegasus Amazon Summary Train\n",
        "N_EPOCHS = 5\n",
        "\n",
        "concat_peg_am_model = TFDistilBertForSequenceClassification.from_pretrained(MODEL_NAME)\n",
        "optimizer = optimizers.Adam(learning_rate=3e-5)\n",
        "loss = losses.SparseCategoricalCrossentropy(from_logits=True)\n",
        "concat_peg_am_model.compile(optimizer=optimizer, loss=loss, metrics=['accuracy'])\n",
        "\n",
        "concat_peg_am_model.fit(train_pa_concat_tf, batch_size=BATCH_SIZE, epochs=N_EPOCHS)"
      ],
      "metadata": {
        "colab": {
          "base_uri": "https://localhost:8080/"
        },
        "outputId": "fec3b55a-0a33-4abc-c71b-d09d74e7b50e",
        "id": "UaDyPKfIE6TS"
      },
      "execution_count": 62,
      "outputs": [
        {
          "output_type": "stream",
          "name": "stderr",
          "text": [
            "Some layers from the model checkpoint at distilbert-base-uncased were not used when initializing TFDistilBertForSequenceClassification: ['activation_13', 'vocab_layer_norm', 'vocab_projector', 'vocab_transform']\n",
            "- This IS expected if you are initializing TFDistilBertForSequenceClassification from the checkpoint of a model trained on another task or with another architecture (e.g. initializing a BertForSequenceClassification model from a BertForPreTraining model).\n",
            "- This IS NOT expected if you are initializing TFDistilBertForSequenceClassification from the checkpoint of a model that you expect to be exactly identical (initializing a BertForSequenceClassification model from a BertForSequenceClassification model).\n",
            "Some layers of TFDistilBertForSequenceClassification were not initialized from the model checkpoint at distilbert-base-uncased and are newly initialized: ['classifier', 'dropout_119', 'pre_classifier']\n",
            "You should probably TRAIN this model on a down-stream task to be able to use it for predictions and inference.\n"
          ]
        },
        {
          "output_type": "stream",
          "name": "stdout",
          "text": [
            "Epoch 1/5\n",
            "2500/2500 [==============================] - 198s 76ms/step - loss: 0.3904 - accuracy: 0.8142\n",
            "Epoch 2/5\n",
            "2500/2500 [==============================] - 190s 76ms/step - loss: 0.2816 - accuracy: 0.8756\n",
            "Epoch 3/5\n",
            "2500/2500 [==============================] - 190s 76ms/step - loss: 0.1826 - accuracy: 0.9254\n",
            "Epoch 4/5\n",
            "2500/2500 [==============================] - 190s 76ms/step - loss: 0.1159 - accuracy: 0.9553\n",
            "Epoch 5/5\n",
            "2500/2500 [==============================] - 190s 76ms/step - loss: 0.0822 - accuracy: 0.9704\n"
          ]
        },
        {
          "output_type": "execute_result",
          "data": {
            "text/plain": [
              "<keras.callbacks.History at 0x7f22e998af10>"
            ]
          },
          "metadata": {},
          "execution_count": 62
        }
      ]
    },
    {
      "cell_type": "code",
      "source": [
        "#@title Save the Concat Pegasus Full model\n",
        "filename = 'gdrive/MyDrive/SA_models/concat_peg_amazon_full_summary_model.sav'\n",
        "pickle.dump(concat_peg_am_model, open(filename, 'wb'))"
      ],
      "metadata": {
        "colab": {
          "base_uri": "https://localhost:8080/"
        },
        "id": "XAx120O5E6TT",
        "outputId": "af75a8eb-ce59-4196-e730-08415181f715"
      },
      "execution_count": 63,
      "outputs": [
        {
          "output_type": "stream",
          "name": "stderr",
          "text": [
            "WARNING:tensorflow:Skipping full serialization of Keras layer <keras.layers.regularization.dropout.Dropout object at 0x7f22eaa56590>, because it is not built.\n",
            "WARNING:tensorflow:Skipping full serialization of Keras layer <keras.layers.regularization.dropout.Dropout object at 0x7f22eaa43850>, because it is not built.\n",
            "WARNING:tensorflow:Skipping full serialization of Keras layer <keras.layers.regularization.dropout.Dropout object at 0x7f22eaef5610>, because it is not built.\n",
            "WARNING:tensorflow:Skipping full serialization of Keras layer <keras.layers.regularization.dropout.Dropout object at 0x7f22eaf283d0>, because it is not built.\n",
            "WARNING:tensorflow:Skipping full serialization of Keras layer <keras.layers.regularization.dropout.Dropout object at 0x7f22eaf19150>, because it is not built.\n",
            "WARNING:tensorflow:Skipping full serialization of Keras layer <keras.layers.regularization.dropout.Dropout object at 0x7f22e997d6d0>, because it is not built.\n",
            "WARNING:absl:Found untraced functions such as embeddings_layer_call_fn, embeddings_layer_call_and_return_conditional_losses, transformer_layer_call_fn, transformer_layer_call_and_return_conditional_losses, LayerNorm_layer_call_fn while saving (showing 5 of 164). These functions will not be directly callable after loading.\n"
          ]
        }
      ]
    },
    {
      "cell_type": "code",
      "source": [
        "#@title Validate concat against full\n",
        "concat_peg_am_full_benchmarks = concat_peg_am_model.evaluate(tf_val, return_dict=True, batch_size=BATCH_SIZE)\n",
        "print(concat_peg_am_full_benchmarks)"
      ],
      "metadata": {
        "colab": {
          "base_uri": "https://localhost:8080/"
        },
        "outputId": "bd539b13-8d7d-441e-e473-81197eb87aa4",
        "id": "Y1gEv8NSE6TT"
      },
      "execution_count": 64,
      "outputs": [
        {
          "output_type": "stream",
          "name": "stdout",
          "text": [
            "313/313 [==============================] - 14s 41ms/step - loss: 0.3530 - accuracy: 0.9102\n",
            "{'loss': 0.3529728651046753, 'accuracy': 0.9101999998092651}\n"
          ]
        }
      ]
    },
    {
      "cell_type": "code",
      "source": [
        "concat_peg_am_sum_benchmarks = concat_peg_am_model.evaluate(tf_peg_amazon_sum_val, return_dict=True, batch_size=BATCH_SIZE)\n",
        "print(concat_peg_am_sum_benchmarks)"
      ],
      "metadata": {
        "colab": {
          "base_uri": "https://localhost:8080/"
        },
        "outputId": "f254d801-1f1b-4ab6-c41d-04705b1f05a7",
        "id": "9LTR_bsfE6TT"
      },
      "execution_count": 65,
      "outputs": [
        {
          "output_type": "stream",
          "name": "stdout",
          "text": [
            "313/313 [==============================] - 7s 17ms/step - loss: 1.0724 - accuracy: 0.7296\n",
            "{'loss': 1.072445273399353, 'accuracy': 0.7296000123023987}\n"
          ]
        }
      ]
    },
    {
      "cell_type": "markdown",
      "source": [
        "##### Pegasus Amazon Finetuned Full Concat"
      ],
      "metadata": {
        "id": "cvHpbUVoFu3H"
      }
    },
    {
      "cell_type": "code",
      "source": [
        "#@title Concatenated Full and Pegasus Amazon Summary Train\n",
        "N_EPOCHS = 5\n",
        "\n",
        "concat_peg_am_ft_model = TFDistilBertForSequenceClassification.from_pretrained(MODEL_NAME)\n",
        "optimizer = optimizers.Adam(learning_rate=3e-5)\n",
        "loss = losses.SparseCategoricalCrossentropy(from_logits=True)\n",
        "concat_peg_am_ft_model.compile(optimizer=optimizer, loss=loss, metrics=['accuracy'])\n",
        "\n",
        "concat_peg_am_ft_model.fit(train_pa_ft_concat_tf, batch_size=BATCH_SIZE, epochs=N_EPOCHS)"
      ],
      "metadata": {
        "colab": {
          "base_uri": "https://localhost:8080/"
        },
        "outputId": "74a45e94-f390-4dfc-df8d-c0aef09c6272",
        "id": "1pcrqCSmFu3I"
      },
      "execution_count": 66,
      "outputs": [
        {
          "output_type": "stream",
          "name": "stderr",
          "text": [
            "Some layers from the model checkpoint at distilbert-base-uncased were not used when initializing TFDistilBertForSequenceClassification: ['activation_13', 'vocab_layer_norm', 'vocab_projector', 'vocab_transform']\n",
            "- This IS expected if you are initializing TFDistilBertForSequenceClassification from the checkpoint of a model trained on another task or with another architecture (e.g. initializing a BertForSequenceClassification model from a BertForPreTraining model).\n",
            "- This IS NOT expected if you are initializing TFDistilBertForSequenceClassification from the checkpoint of a model that you expect to be exactly identical (initializing a BertForSequenceClassification model from a BertForSequenceClassification model).\n",
            "Some layers of TFDistilBertForSequenceClassification were not initialized from the model checkpoint at distilbert-base-uncased and are newly initialized: ['classifier', 'pre_classifier', 'dropout_139']\n",
            "You should probably TRAIN this model on a down-stream task to be able to use it for predictions and inference.\n"
          ]
        },
        {
          "output_type": "stream",
          "name": "stdout",
          "text": [
            "Epoch 1/5\n",
            "2500/2500 [==============================] - 303s 118ms/step - loss: 0.2871 - accuracy: 0.8793\n",
            "Epoch 2/5\n",
            "2500/2500 [==============================] - 295s 118ms/step - loss: 0.1649 - accuracy: 0.9379\n",
            "Epoch 3/5\n",
            "2500/2500 [==============================] - 295s 118ms/step - loss: 0.0911 - accuracy: 0.9683\n",
            "Epoch 4/5\n",
            "2500/2500 [==============================] - 295s 118ms/step - loss: 0.0611 - accuracy: 0.9800\n",
            "Epoch 5/5\n",
            "2500/2500 [==============================] - 295s 118ms/step - loss: 0.0481 - accuracy: 0.9840\n"
          ]
        },
        {
          "output_type": "execute_result",
          "data": {
            "text/plain": [
              "<keras.callbacks.History at 0x7f22e86f5290>"
            ]
          },
          "metadata": {},
          "execution_count": 66
        }
      ]
    },
    {
      "cell_type": "code",
      "source": [
        "#@title Save the Concat Pegasus Full model\n",
        "filename = 'gdrive/MyDrive/SA_models/concat_peg_amazon_ft_full_summary_model.sav'\n",
        "pickle.dump(concat_peg_am_ft_model, open(filename, 'wb'))"
      ],
      "metadata": {
        "colab": {
          "base_uri": "https://localhost:8080/"
        },
        "id": "FADwzpXyFu3I",
        "outputId": "991d403e-38ea-4954-e6a7-208ea91a06f3"
      },
      "execution_count": 67,
      "outputs": [
        {
          "output_type": "stream",
          "name": "stderr",
          "text": [
            "WARNING:tensorflow:Skipping full serialization of Keras layer <keras.layers.regularization.dropout.Dropout object at 0x7f1ed92e8b10>, because it is not built.\n",
            "WARNING:tensorflow:Skipping full serialization of Keras layer <keras.layers.regularization.dropout.Dropout object at 0x7f1ed9565e50>, because it is not built.\n",
            "WARNING:tensorflow:Skipping full serialization of Keras layer <keras.layers.regularization.dropout.Dropout object at 0x7f1ed955ab90>, because it is not built.\n",
            "WARNING:tensorflow:Skipping full serialization of Keras layer <keras.layers.regularization.dropout.Dropout object at 0x7f1ed954d1d0>, because it is not built.\n",
            "WARNING:tensorflow:Skipping full serialization of Keras layer <keras.layers.regularization.dropout.Dropout object at 0x7f22e870e650>, because it is not built.\n",
            "WARNING:tensorflow:Skipping full serialization of Keras layer <keras.layers.regularization.dropout.Dropout object at 0x7f22e86ff410>, because it is not built.\n",
            "WARNING:absl:Found untraced functions such as embeddings_layer_call_fn, embeddings_layer_call_and_return_conditional_losses, transformer_layer_call_fn, transformer_layer_call_and_return_conditional_losses, LayerNorm_layer_call_fn while saving (showing 5 of 164). These functions will not be directly callable after loading.\n"
          ]
        }
      ]
    },
    {
      "cell_type": "code",
      "source": [
        "#@title Validate concat against full\n",
        "concat_peg_am_ft_full_benchmarks = concat_peg_am_ft_model.evaluate(tf_val, return_dict=True, batch_size=BATCH_SIZE)\n",
        "print(concat_peg_am_ft_full_benchmarks)"
      ],
      "metadata": {
        "colab": {
          "base_uri": "https://localhost:8080/"
        },
        "outputId": "0c9ca0c1-80ca-402c-f14b-727ab7a7b8b9",
        "id": "OKxaIcK3Fu3I"
      },
      "execution_count": 68,
      "outputs": [
        {
          "output_type": "stream",
          "name": "stdout",
          "text": [
            "313/313 [==============================] - 14s 41ms/step - loss: 0.2956 - accuracy: 0.9214\n",
            "{'loss': 0.2956329584121704, 'accuracy': 0.9214000105857849}\n"
          ]
        }
      ]
    },
    {
      "cell_type": "code",
      "source": [
        "#@title Validate against summary\n",
        "concat_peg_am_ft_sum_benchmarks = concat_peg_am_ft_model.evaluate(tf_peg_amazon_ft_sum_val, return_dict=True, batch_size=BATCH_SIZE)\n",
        "print(concat_peg_am_ft_sum_benchmarks)"
      ],
      "metadata": {
        "colab": {
          "base_uri": "https://localhost:8080/"
        },
        "outputId": "5e82896e-f25f-4349-ca28-7b4ededb39ab",
        "id": "SNol1Y3IFu3I"
      },
      "execution_count": 69,
      "outputs": [
        {
          "output_type": "stream",
          "name": "stdout",
          "text": [
            "313/313 [==============================] - 13s 41ms/step - loss: 0.5008 - accuracy: 0.8748\n",
            "{'loss': 0.5007733702659607, 'accuracy': 0.8748000264167786}\n"
          ]
        }
      ]
    },
    {
      "cell_type": "markdown",
      "source": [
        "## Sentiment Analysis Test"
      ],
      "metadata": {
        "id": "IBY13zj7A_dH"
      }
    },
    {
      "cell_type": "markdown",
      "source": [
        "#### Full Train"
      ],
      "metadata": {
        "id": "0j8izLCLJQji"
      }
    },
    {
      "cell_type": "code",
      "source": [
        "#@title Full Train on Full Test\n",
        "test_benchmarks = model.evaluate(tf_test, return_dict=True, batch_size=BATCH_SIZE)\n",
        "print(test_benchmarks)"
      ],
      "metadata": {
        "id": "WpleJSoIShH3",
        "colab": {
          "base_uri": "https://localhost:8080/"
        },
        "outputId": "5143298f-253a-431f-dad3-6fcef272bf78"
      },
      "execution_count": 70,
      "outputs": [
        {
          "output_type": "stream",
          "name": "stdout",
          "text": [
            "1563/1563 [==============================] - 64s 41ms/step - loss: 0.3368 - accuracy: 0.9247\n",
            "{'loss': 0.33675092458724976, 'accuracy': 0.9247199892997742}\n"
          ]
        }
      ]
    },
    {
      "cell_type": "code",
      "source": [
        "#@title Full Train on Pegasus Test\n",
        "test_peg_benchmarks = model.evaluate(tf_peg_test, return_dict=True, batch_size=BATCH_SIZE)\n",
        "print(test_peg_benchmarks)"
      ],
      "metadata": {
        "colab": {
          "base_uri": "https://localhost:8080/"
        },
        "id": "_VTj6A6dJFhR",
        "outputId": "b290bac3-da54-482d-de68-97232c9241fe"
      },
      "execution_count": 71,
      "outputs": [
        {
          "output_type": "stream",
          "name": "stdout",
          "text": [
            "1563/1563 [==============================] - 31s 20ms/step - loss: 0.7287 - accuracy: 0.8336\n",
            "{'loss': 0.7287403345108032, 'accuracy': 0.8336399793624878}\n"
          ]
        }
      ]
    },
    {
      "cell_type": "code",
      "source": [
        "#@title Full Train on Pegasus Amazon Test\n",
        "test_peg_am_benchmarks = model.evaluate(tf_peg_amazon_test, return_dict=True, batch_size=BATCH_SIZE)\n",
        "print(test_peg_am_benchmarks)"
      ],
      "metadata": {
        "colab": {
          "base_uri": "https://localhost:8080/"
        },
        "id": "uudGOei_JHKF",
        "outputId": "913eefdf-1edd-45bb-aeb0-fed58dfaf7a8"
      },
      "execution_count": 72,
      "outputs": [
        {
          "output_type": "stream",
          "name": "stdout",
          "text": [
            "1563/1563 [==============================] - 64s 41ms/step - loss: 0.6544 - accuracy: 0.8374\n",
            "{'loss': 0.6543877720832825, 'accuracy': 0.8374000191688538}\n"
          ]
        }
      ]
    },
    {
      "cell_type": "code",
      "source": [
        "#@title Full Train on Pegasus Amazon FT Test\n",
        "test_peg_am_ft_benchmarks = model.evaluate(tf_peg_amazon_ft_test, return_dict=True, batch_size=BATCH_SIZE)\n",
        "print(test_peg_am_ft_benchmarks)"
      ],
      "metadata": {
        "colab": {
          "base_uri": "https://localhost:8080/"
        },
        "id": "rDbsz2G0JJ9Z",
        "outputId": "355e84a3-52ef-4fa6-8e22-3b8216a07abe"
      },
      "execution_count": 73,
      "outputs": [
        {
          "output_type": "stream",
          "name": "stdout",
          "text": [
            "1563/1563 [==============================] - 64s 41ms/step - loss: 0.6383 - accuracy: 0.8424\n",
            "{'loss': 0.6383317708969116, 'accuracy': 0.8424000144004822}\n"
          ]
        }
      ]
    },
    {
      "cell_type": "markdown",
      "source": [
        "#### Pegasus Test"
      ],
      "metadata": {
        "id": "CS7zddfELu-t"
      }
    },
    {
      "cell_type": "code",
      "source": [
        "#@title Pegasus on Full Reviews\n",
        "test_peg_sum_benchmarks = peg_sum_model.evaluate(tf_test, return_dict=True, batch_size=BATCH_SIZE)\n",
        "print(test_peg_sum_benchmarks)"
      ],
      "metadata": {
        "id": "0JHqEzsqSpfq",
        "colab": {
          "base_uri": "https://localhost:8080/"
        },
        "outputId": "220936b1-bf0e-4697-ca30-b5a7976a6ebb"
      },
      "execution_count": 74,
      "outputs": [
        {
          "output_type": "stream",
          "name": "stdout",
          "text": [
            "1563/1563 [==============================] - 63s 41ms/step - loss: 0.4465 - accuracy: 0.8400\n",
            "{'loss': 0.44650956988334656, 'accuracy': 0.8399999737739563}\n"
          ]
        }
      ]
    },
    {
      "cell_type": "code",
      "source": [
        "#@title Pegasus on Pegasus Reviews\n",
        "test_peg_sum_sum_benchmarks = peg_sum_model.evaluate(tf_peg_test, return_dict=True, batch_size=BATCH_SIZE)\n",
        "print(test_peg_sum_sum_benchmarks)"
      ],
      "metadata": {
        "colab": {
          "base_uri": "https://localhost:8080/"
        },
        "id": "FLm-vbyYMFvW",
        "outputId": "ecf90567-7dfc-4ca5-8110-74b941ec6776"
      },
      "execution_count": 75,
      "outputs": [
        {
          "output_type": "stream",
          "name": "stdout",
          "text": [
            "1563/1563 [==============================] - 31s 20ms/step - loss: 0.8455 - accuracy: 0.7704\n",
            "{'loss': 0.8454667329788208, 'accuracy': 0.7703999876976013}\n"
          ]
        }
      ]
    },
    {
      "cell_type": "markdown",
      "source": [
        "#### Pegasus Amazon Test"
      ],
      "metadata": {
        "id": "Em8d-l-RMgHd"
      }
    },
    {
      "cell_type": "code",
      "source": [
        "#@title Pegasus Amazon on Full Reviews\n",
        "test_peg_am_sum_benchmarks = peg_amazon_sum_model.evaluate(tf_test, return_dict=True, batch_size=BATCH_SIZE)\n",
        "print(test_peg_am_sum_benchmarks)"
      ],
      "metadata": {
        "colab": {
          "base_uri": "https://localhost:8080/"
        },
        "id": "p5ImJ9aPMgHe",
        "outputId": "f6e416d3-7a34-4088-e0b8-034e66bb150f"
      },
      "execution_count": 76,
      "outputs": [
        {
          "output_type": "stream",
          "name": "stdout",
          "text": [
            "1563/1563 [==============================] - 64s 41ms/step - loss: 0.4836 - accuracy: 0.8320\n",
            "{'loss': 0.4835927486419678, 'accuracy': 0.8319600224494934}\n"
          ]
        }
      ]
    },
    {
      "cell_type": "code",
      "source": [
        "#@title Pegasus Amazon on Pegasus Amazon Reviews\n",
        "test_peg_am_sum_sum_benchmarks = peg_amazon_sum_model.evaluate(tf_peg_amazon_test, return_dict=True, batch_size=BATCH_SIZE)\n",
        "print(test_peg_am_sum_sum_benchmarks)"
      ],
      "metadata": {
        "colab": {
          "base_uri": "https://localhost:8080/"
        },
        "id": "ZjSb6GgaMgHe",
        "outputId": "d144ace2-43b9-4027-d929-10f8d7bea701"
      },
      "execution_count": 77,
      "outputs": [
        {
          "output_type": "stream",
          "name": "stdout",
          "text": [
            "1563/1563 [==============================] - 64s 41ms/step - loss: 0.6856 - accuracy: 0.8069\n",
            "{'loss': 0.685575544834137, 'accuracy': 0.806879997253418}\n"
          ]
        }
      ]
    },
    {
      "cell_type": "markdown",
      "source": [
        "#### Pegasus Amazon Fine Tuned Test"
      ],
      "metadata": {
        "id": "tr_pRNIhM9Pf"
      }
    },
    {
      "cell_type": "code",
      "source": [
        "#@title Pegasus Amazon FT on Full Reviews\n",
        "test_peg_am_ft_sum_benchmarks = peg_amazon_ft_sum_model.evaluate(tf_test, return_dict=True, batch_size=BATCH_SIZE)\n",
        "print(test_peg_am_ft_sum_benchmarks)"
      ],
      "metadata": {
        "colab": {
          "base_uri": "https://localhost:8080/"
        },
        "id": "P0i7rCsKM9Pg",
        "outputId": "f66eebcb-3160-41d9-a259-1a785a1540b8"
      },
      "execution_count": 78,
      "outputs": [
        {
          "output_type": "stream",
          "name": "stdout",
          "text": [
            "1563/1563 [==============================] - 64s 41ms/step - loss: 0.6251 - accuracy: 0.8361\n",
            "{'loss': 0.625121533870697, 'accuracy': 0.8361200094223022}\n"
          ]
        }
      ]
    },
    {
      "cell_type": "code",
      "source": [
        "#@title Pegasus Amazon FT on Pegasus Amazon FT Reviews\n",
        "test_peg_am_ft_sum_sum_benchmarks = peg_amazon_ft_sum_model.evaluate(tf_peg_amazon_ft_test, return_dict=True, batch_size=BATCH_SIZE)\n",
        "print(test_peg_am_ft_sum_sum_benchmarks)"
      ],
      "metadata": {
        "colab": {
          "base_uri": "https://localhost:8080/"
        },
        "id": "a2h_6l0iM9Pg",
        "outputId": "b9636276-8586-4190-b7c3-cb9c76dc4af0"
      },
      "execution_count": 79,
      "outputs": [
        {
          "output_type": "stream",
          "name": "stdout",
          "text": [
            "1563/1563 [==============================] - 64s 41ms/step - loss: 0.5355 - accuracy: 0.8562\n",
            "{'loss': 0.5355157256126404, 'accuracy': 0.8561999797821045}\n"
          ]
        }
      ]
    },
    {
      "cell_type": "markdown",
      "source": [
        "### Concatenated Datasets"
      ],
      "metadata": {
        "id": "qor3mZlVNeMb"
      }
    },
    {
      "cell_type": "markdown",
      "source": [
        "#### Pegasus Concat"
      ],
      "metadata": {
        "id": "pq_1WaXmNh_p"
      }
    },
    {
      "cell_type": "code",
      "source": [
        "#@title Pegasus Concat Full on Full Reviews\n",
        "test_concat_peg_benchmarks = concat_pegasus_model.evaluate(tf_test, return_dict=True, batch_size=BATCH_SIZE)\n",
        "print(test_concat_peg_benchmarks)"
      ],
      "metadata": {
        "colab": {
          "base_uri": "https://localhost:8080/"
        },
        "id": "FCM1vkZfNg03",
        "outputId": "9a82662f-cb3c-4001-b332-0bc5865b1b87"
      },
      "execution_count": 80,
      "outputs": [
        {
          "output_type": "stream",
          "name": "stdout",
          "text": [
            "1563/1563 [==============================] - 64s 41ms/step - loss: 0.3484 - accuracy: 0.9059\n",
            "{'loss': 0.34840211272239685, 'accuracy': 0.9058799743652344}\n"
          ]
        }
      ]
    },
    {
      "cell_type": "code",
      "source": [
        "#@title Pegasus Concat Full on Pegasus Summary Reviews\n",
        "test_concat_peg_sum_benchmarks = concat_pegasus_model.evaluate(tf_peg_test, return_dict=True, batch_size=BATCH_SIZE)\n",
        "print(test_concat_peg_sum_benchmarks)"
      ],
      "metadata": {
        "colab": {
          "base_uri": "https://localhost:8080/"
        },
        "id": "_M9gs14-Nsld",
        "outputId": "b5764870-16ec-4060-d767-f628f5dc22e0"
      },
      "execution_count": 81,
      "outputs": [
        {
          "output_type": "stream",
          "name": "stdout",
          "text": [
            "1563/1563 [==============================] - 31s 20ms/step - loss: 0.7803 - accuracy: 0.8087\n",
            "{'loss': 0.7803106904029846, 'accuracy': 0.80867999792099}\n"
          ]
        }
      ]
    },
    {
      "cell_type": "markdown",
      "source": [
        "#### Pegasus Amazon Concat"
      ],
      "metadata": {
        "id": "EAjvfhaSNlVK"
      }
    },
    {
      "cell_type": "code",
      "source": [
        "#@title Pegasus Amazon Concat Full on Full Reviews\n",
        "test_concat_peg_am_benchmarks = concat_peg_am_model.evaluate(tf_test, return_dict=True, batch_size=BATCH_SIZE)\n",
        "print(test_concat_peg_am_benchmarks)"
      ],
      "metadata": {
        "colab": {
          "base_uri": "https://localhost:8080/"
        },
        "id": "y1ciSUJsNnHD",
        "outputId": "c4149252-9538-43b4-8576-a5abd915e162"
      },
      "execution_count": 82,
      "outputs": [
        {
          "output_type": "stream",
          "name": "stdout",
          "text": [
            "1563/1563 [==============================] - 64s 41ms/step - loss: 0.4125 - accuracy: 0.8952\n",
            "{'loss': 0.4125213921070099, 'accuracy': 0.8952000141143799}\n"
          ]
        }
      ]
    },
    {
      "cell_type": "code",
      "source": [
        "#@title Pegasus Amazon Concat Full on Pegasus Amazon Summary Reviews\n",
        "test_concat_peg_am_sum_benchmarks = concat_peg_am_model.evaluate(tf_peg_amazon_test, return_dict=True, batch_size=BATCH_SIZE)\n",
        "print(test_concat_peg_am_sum_benchmarks)"
      ],
      "metadata": {
        "colab": {
          "base_uri": "https://localhost:8080/"
        },
        "id": "80b3UGTEOFfO",
        "outputId": "dac449ef-90bf-475e-8675-372dd7c375fc"
      },
      "execution_count": 83,
      "outputs": [
        {
          "output_type": "stream",
          "name": "stdout",
          "text": [
            "1563/1563 [==============================] - 64s 41ms/step - loss: 0.7016 - accuracy: 0.8246\n",
            "{'loss': 0.7016454935073853, 'accuracy': 0.8246399760246277}\n"
          ]
        }
      ]
    },
    {
      "cell_type": "markdown",
      "source": [
        "#### Pegasus Amazon FT Concat"
      ],
      "metadata": {
        "id": "0WptRLTZNnrv"
      }
    },
    {
      "cell_type": "code",
      "source": [
        "#@title Pegasus Amazon FT Concat Full on Full Reviews\n",
        "test_concat_peg_am_ft_benchmarks = concat_peg_am_ft_model.evaluate(tf_test, return_dict=True, batch_size=BATCH_SIZE)\n",
        "print(test_concat_peg_am_ft_benchmarks)"
      ],
      "metadata": {
        "colab": {
          "base_uri": "https://localhost:8080/"
        },
        "id": "zBquPkHANpWI",
        "outputId": "c51e6db0-d07b-4957-895c-d065f53b82f2"
      },
      "execution_count": 84,
      "outputs": [
        {
          "output_type": "stream",
          "name": "stdout",
          "text": [
            "1563/1563 [==============================] - 64s 41ms/step - loss: 0.3235 - accuracy: 0.9160\n",
            "{'loss': 0.3235062062740326, 'accuracy': 0.9160400032997131}\n"
          ]
        }
      ]
    },
    {
      "cell_type": "code",
      "source": [
        "#@title Pegasus Amazon Concat Full on Pegasus Amazon FT Summary Reviews\n",
        "test_concat_peg_am_ft_sum_benchmarks = concat_peg_am_ft_model.evaluate(tf_peg_amazon_ft_test, return_dict=True, batch_size=BATCH_SIZE)\n",
        "print(test_concat_peg_am_ft_sum_benchmarks)"
      ],
      "metadata": {
        "colab": {
          "base_uri": "https://localhost:8080/"
        },
        "id": "v1N5GpUfOLkM",
        "outputId": "34e441f1-d8cc-4092-e9d9-d16ff9e41734"
      },
      "execution_count": 85,
      "outputs": [
        {
          "output_type": "stream",
          "name": "stdout",
          "text": [
            "1563/1563 [==============================] - 64s 41ms/step - loss: 0.5253 - accuracy: 0.8700\n",
            "{'loss': 0.5252680778503418, 'accuracy': 0.8699600100517273}\n"
          ]
        }
      ]
    }
  ],
  "metadata": {
    "accelerator": "GPU",
    "colab": {
      "collapsed_sections": [
        "nuqAmfsew9PH",
        "fQTYb6aPb2SB"
      ],
      "provenance": [],
      "toc_visible": true
    },
    "gpuClass": "premium",
    "kernelspec": {
      "display_name": "Python 3",
      "name": "python3"
    },
    "language_info": {
      "name": "python"
    },
    "widgets": {
      "application/vnd.jupyter.widget-state+json": {
        "1bc301522199428ebc5a95d4fcd53751": {
          "model_module": "@jupyter-widgets/controls",
          "model_name": "HBoxModel",
          "model_module_version": "1.5.0",
          "state": {
            "_dom_classes": [],
            "_model_module": "@jupyter-widgets/controls",
            "_model_module_version": "1.5.0",
            "_model_name": "HBoxModel",
            "_view_count": null,
            "_view_module": "@jupyter-widgets/controls",
            "_view_module_version": "1.5.0",
            "_view_name": "HBoxView",
            "box_style": "",
            "children": [
              "IPY_MODEL_12ef664d06784bec985247d3636846d3",
              "IPY_MODEL_55baf4911ef44e9882b5b5d1fc117abb",
              "IPY_MODEL_ce987c9fb5d244369a8a1378515c0877"
            ],
            "layout": "IPY_MODEL_99e68781f0774ff6ba6b764ed46347a2"
          }
        },
        "12ef664d06784bec985247d3636846d3": {
          "model_module": "@jupyter-widgets/controls",
          "model_name": "HTMLModel",
          "model_module_version": "1.5.0",
          "state": {
            "_dom_classes": [],
            "_model_module": "@jupyter-widgets/controls",
            "_model_module_version": "1.5.0",
            "_model_name": "HTMLModel",
            "_view_count": null,
            "_view_module": "@jupyter-widgets/controls",
            "_view_module_version": "1.5.0",
            "_view_name": "HTMLView",
            "description": "",
            "description_tooltip": null,
            "layout": "IPY_MODEL_59e767e6995c4023bac646be6d3b257a",
            "placeholder": "​",
            "style": "IPY_MODEL_d990a8ed6ea647ceaa030b64f6cb21d6",
            "value": "Downloading builder script: 100%"
          }
        },
        "55baf4911ef44e9882b5b5d1fc117abb": {
          "model_module": "@jupyter-widgets/controls",
          "model_name": "FloatProgressModel",
          "model_module_version": "1.5.0",
          "state": {
            "_dom_classes": [],
            "_model_module": "@jupyter-widgets/controls",
            "_model_module_version": "1.5.0",
            "_model_name": "FloatProgressModel",
            "_view_count": null,
            "_view_module": "@jupyter-widgets/controls",
            "_view_module_version": "1.5.0",
            "_view_name": "ProgressView",
            "bar_style": "success",
            "description": "",
            "description_tooltip": null,
            "layout": "IPY_MODEL_558ec9e0119841659e69f0c50b38c4df",
            "max": 4313,
            "min": 0,
            "orientation": "horizontal",
            "style": "IPY_MODEL_c94e7c5b881049c1af59cd61148cc5f9",
            "value": 4313
          }
        },
        "ce987c9fb5d244369a8a1378515c0877": {
          "model_module": "@jupyter-widgets/controls",
          "model_name": "HTMLModel",
          "model_module_version": "1.5.0",
          "state": {
            "_dom_classes": [],
            "_model_module": "@jupyter-widgets/controls",
            "_model_module_version": "1.5.0",
            "_model_name": "HTMLModel",
            "_view_count": null,
            "_view_module": "@jupyter-widgets/controls",
            "_view_module_version": "1.5.0",
            "_view_name": "HTMLView",
            "description": "",
            "description_tooltip": null,
            "layout": "IPY_MODEL_4e7b2cadc0a74a0db2a818cbba2806b4",
            "placeholder": "​",
            "style": "IPY_MODEL_1168642de951432db2059d69f71a703f",
            "value": " 4.31k/4.31k [00:00&lt;00:00, 155kB/s]"
          }
        },
        "99e68781f0774ff6ba6b764ed46347a2": {
          "model_module": "@jupyter-widgets/base",
          "model_name": "LayoutModel",
          "model_module_version": "1.2.0",
          "state": {
            "_model_module": "@jupyter-widgets/base",
            "_model_module_version": "1.2.0",
            "_model_name": "LayoutModel",
            "_view_count": null,
            "_view_module": "@jupyter-widgets/base",
            "_view_module_version": "1.2.0",
            "_view_name": "LayoutView",
            "align_content": null,
            "align_items": null,
            "align_self": null,
            "border": null,
            "bottom": null,
            "display": null,
            "flex": null,
            "flex_flow": null,
            "grid_area": null,
            "grid_auto_columns": null,
            "grid_auto_flow": null,
            "grid_auto_rows": null,
            "grid_column": null,
            "grid_gap": null,
            "grid_row": null,
            "grid_template_areas": null,
            "grid_template_columns": null,
            "grid_template_rows": null,
            "height": null,
            "justify_content": null,
            "justify_items": null,
            "left": null,
            "margin": null,
            "max_height": null,
            "max_width": null,
            "min_height": null,
            "min_width": null,
            "object_fit": null,
            "object_position": null,
            "order": null,
            "overflow": null,
            "overflow_x": null,
            "overflow_y": null,
            "padding": null,
            "right": null,
            "top": null,
            "visibility": null,
            "width": null
          }
        },
        "59e767e6995c4023bac646be6d3b257a": {
          "model_module": "@jupyter-widgets/base",
          "model_name": "LayoutModel",
          "model_module_version": "1.2.0",
          "state": {
            "_model_module": "@jupyter-widgets/base",
            "_model_module_version": "1.2.0",
            "_model_name": "LayoutModel",
            "_view_count": null,
            "_view_module": "@jupyter-widgets/base",
            "_view_module_version": "1.2.0",
            "_view_name": "LayoutView",
            "align_content": null,
            "align_items": null,
            "align_self": null,
            "border": null,
            "bottom": null,
            "display": null,
            "flex": null,
            "flex_flow": null,
            "grid_area": null,
            "grid_auto_columns": null,
            "grid_auto_flow": null,
            "grid_auto_rows": null,
            "grid_column": null,
            "grid_gap": null,
            "grid_row": null,
            "grid_template_areas": null,
            "grid_template_columns": null,
            "grid_template_rows": null,
            "height": null,
            "justify_content": null,
            "justify_items": null,
            "left": null,
            "margin": null,
            "max_height": null,
            "max_width": null,
            "min_height": null,
            "min_width": null,
            "object_fit": null,
            "object_position": null,
            "order": null,
            "overflow": null,
            "overflow_x": null,
            "overflow_y": null,
            "padding": null,
            "right": null,
            "top": null,
            "visibility": null,
            "width": null
          }
        },
        "d990a8ed6ea647ceaa030b64f6cb21d6": {
          "model_module": "@jupyter-widgets/controls",
          "model_name": "DescriptionStyleModel",
          "model_module_version": "1.5.0",
          "state": {
            "_model_module": "@jupyter-widgets/controls",
            "_model_module_version": "1.5.0",
            "_model_name": "DescriptionStyleModel",
            "_view_count": null,
            "_view_module": "@jupyter-widgets/base",
            "_view_module_version": "1.2.0",
            "_view_name": "StyleView",
            "description_width": ""
          }
        },
        "558ec9e0119841659e69f0c50b38c4df": {
          "model_module": "@jupyter-widgets/base",
          "model_name": "LayoutModel",
          "model_module_version": "1.2.0",
          "state": {
            "_model_module": "@jupyter-widgets/base",
            "_model_module_version": "1.2.0",
            "_model_name": "LayoutModel",
            "_view_count": null,
            "_view_module": "@jupyter-widgets/base",
            "_view_module_version": "1.2.0",
            "_view_name": "LayoutView",
            "align_content": null,
            "align_items": null,
            "align_self": null,
            "border": null,
            "bottom": null,
            "display": null,
            "flex": null,
            "flex_flow": null,
            "grid_area": null,
            "grid_auto_columns": null,
            "grid_auto_flow": null,
            "grid_auto_rows": null,
            "grid_column": null,
            "grid_gap": null,
            "grid_row": null,
            "grid_template_areas": null,
            "grid_template_columns": null,
            "grid_template_rows": null,
            "height": null,
            "justify_content": null,
            "justify_items": null,
            "left": null,
            "margin": null,
            "max_height": null,
            "max_width": null,
            "min_height": null,
            "min_width": null,
            "object_fit": null,
            "object_position": null,
            "order": null,
            "overflow": null,
            "overflow_x": null,
            "overflow_y": null,
            "padding": null,
            "right": null,
            "top": null,
            "visibility": null,
            "width": null
          }
        },
        "c94e7c5b881049c1af59cd61148cc5f9": {
          "model_module": "@jupyter-widgets/controls",
          "model_name": "ProgressStyleModel",
          "model_module_version": "1.5.0",
          "state": {
            "_model_module": "@jupyter-widgets/controls",
            "_model_module_version": "1.5.0",
            "_model_name": "ProgressStyleModel",
            "_view_count": null,
            "_view_module": "@jupyter-widgets/base",
            "_view_module_version": "1.2.0",
            "_view_name": "StyleView",
            "bar_color": null,
            "description_width": ""
          }
        },
        "4e7b2cadc0a74a0db2a818cbba2806b4": {
          "model_module": "@jupyter-widgets/base",
          "model_name": "LayoutModel",
          "model_module_version": "1.2.0",
          "state": {
            "_model_module": "@jupyter-widgets/base",
            "_model_module_version": "1.2.0",
            "_model_name": "LayoutModel",
            "_view_count": null,
            "_view_module": "@jupyter-widgets/base",
            "_view_module_version": "1.2.0",
            "_view_name": "LayoutView",
            "align_content": null,
            "align_items": null,
            "align_self": null,
            "border": null,
            "bottom": null,
            "display": null,
            "flex": null,
            "flex_flow": null,
            "grid_area": null,
            "grid_auto_columns": null,
            "grid_auto_flow": null,
            "grid_auto_rows": null,
            "grid_column": null,
            "grid_gap": null,
            "grid_row": null,
            "grid_template_areas": null,
            "grid_template_columns": null,
            "grid_template_rows": null,
            "height": null,
            "justify_content": null,
            "justify_items": null,
            "left": null,
            "margin": null,
            "max_height": null,
            "max_width": null,
            "min_height": null,
            "min_width": null,
            "object_fit": null,
            "object_position": null,
            "order": null,
            "overflow": null,
            "overflow_x": null,
            "overflow_y": null,
            "padding": null,
            "right": null,
            "top": null,
            "visibility": null,
            "width": null
          }
        },
        "1168642de951432db2059d69f71a703f": {
          "model_module": "@jupyter-widgets/controls",
          "model_name": "DescriptionStyleModel",
          "model_module_version": "1.5.0",
          "state": {
            "_model_module": "@jupyter-widgets/controls",
            "_model_module_version": "1.5.0",
            "_model_name": "DescriptionStyleModel",
            "_view_count": null,
            "_view_module": "@jupyter-widgets/base",
            "_view_module_version": "1.2.0",
            "_view_name": "StyleView",
            "description_width": ""
          }
        },
        "2e501265b88e487d9ee70ecaa2010414": {
          "model_module": "@jupyter-widgets/controls",
          "model_name": "HBoxModel",
          "model_module_version": "1.5.0",
          "state": {
            "_dom_classes": [],
            "_model_module": "@jupyter-widgets/controls",
            "_model_module_version": "1.5.0",
            "_model_name": "HBoxModel",
            "_view_count": null,
            "_view_module": "@jupyter-widgets/controls",
            "_view_module_version": "1.5.0",
            "_view_name": "HBoxView",
            "box_style": "",
            "children": [
              "IPY_MODEL_780bf0e332d94f75a648767f6776e7c9",
              "IPY_MODEL_e12a51969d474e70aa18bdc5b5ed73d5",
              "IPY_MODEL_97601f6466ea4c1d80aa5a9bbd80696e"
            ],
            "layout": "IPY_MODEL_054ba814fb9b48c7a076e2d4b8fd2c8e"
          }
        },
        "780bf0e332d94f75a648767f6776e7c9": {
          "model_module": "@jupyter-widgets/controls",
          "model_name": "HTMLModel",
          "model_module_version": "1.5.0",
          "state": {
            "_dom_classes": [],
            "_model_module": "@jupyter-widgets/controls",
            "_model_module_version": "1.5.0",
            "_model_name": "HTMLModel",
            "_view_count": null,
            "_view_module": "@jupyter-widgets/controls",
            "_view_module_version": "1.5.0",
            "_view_name": "HTMLView",
            "description": "",
            "description_tooltip": null,
            "layout": "IPY_MODEL_4f7411d050ba4758b96b15ac1bc27f1e",
            "placeholder": "​",
            "style": "IPY_MODEL_0a662152e85a4038855118ef18253e03",
            "value": "Downloading metadata: 100%"
          }
        },
        "e12a51969d474e70aa18bdc5b5ed73d5": {
          "model_module": "@jupyter-widgets/controls",
          "model_name": "FloatProgressModel",
          "model_module_version": "1.5.0",
          "state": {
            "_dom_classes": [],
            "_model_module": "@jupyter-widgets/controls",
            "_model_module_version": "1.5.0",
            "_model_name": "FloatProgressModel",
            "_view_count": null,
            "_view_module": "@jupyter-widgets/controls",
            "_view_module_version": "1.5.0",
            "_view_name": "ProgressView",
            "bar_style": "success",
            "description": "",
            "description_tooltip": null,
            "layout": "IPY_MODEL_f64ff3a57c5f49da8a8bfa8d43974252",
            "max": 2166,
            "min": 0,
            "orientation": "horizontal",
            "style": "IPY_MODEL_86ceaf4232834375a4f414411e3ce849",
            "value": 2166
          }
        },
        "97601f6466ea4c1d80aa5a9bbd80696e": {
          "model_module": "@jupyter-widgets/controls",
          "model_name": "HTMLModel",
          "model_module_version": "1.5.0",
          "state": {
            "_dom_classes": [],
            "_model_module": "@jupyter-widgets/controls",
            "_model_module_version": "1.5.0",
            "_model_name": "HTMLModel",
            "_view_count": null,
            "_view_module": "@jupyter-widgets/controls",
            "_view_module_version": "1.5.0",
            "_view_name": "HTMLView",
            "description": "",
            "description_tooltip": null,
            "layout": "IPY_MODEL_743c8ee8c9734a46bf7e0981f4950418",
            "placeholder": "​",
            "style": "IPY_MODEL_6b40ca3339034050800d11d3ef011214",
            "value": " 2.17k/2.17k [00:00&lt;00:00, 83.7kB/s]"
          }
        },
        "054ba814fb9b48c7a076e2d4b8fd2c8e": {
          "model_module": "@jupyter-widgets/base",
          "model_name": "LayoutModel",
          "model_module_version": "1.2.0",
          "state": {
            "_model_module": "@jupyter-widgets/base",
            "_model_module_version": "1.2.0",
            "_model_name": "LayoutModel",
            "_view_count": null,
            "_view_module": "@jupyter-widgets/base",
            "_view_module_version": "1.2.0",
            "_view_name": "LayoutView",
            "align_content": null,
            "align_items": null,
            "align_self": null,
            "border": null,
            "bottom": null,
            "display": null,
            "flex": null,
            "flex_flow": null,
            "grid_area": null,
            "grid_auto_columns": null,
            "grid_auto_flow": null,
            "grid_auto_rows": null,
            "grid_column": null,
            "grid_gap": null,
            "grid_row": null,
            "grid_template_areas": null,
            "grid_template_columns": null,
            "grid_template_rows": null,
            "height": null,
            "justify_content": null,
            "justify_items": null,
            "left": null,
            "margin": null,
            "max_height": null,
            "max_width": null,
            "min_height": null,
            "min_width": null,
            "object_fit": null,
            "object_position": null,
            "order": null,
            "overflow": null,
            "overflow_x": null,
            "overflow_y": null,
            "padding": null,
            "right": null,
            "top": null,
            "visibility": null,
            "width": null
          }
        },
        "4f7411d050ba4758b96b15ac1bc27f1e": {
          "model_module": "@jupyter-widgets/base",
          "model_name": "LayoutModel",
          "model_module_version": "1.2.0",
          "state": {
            "_model_module": "@jupyter-widgets/base",
            "_model_module_version": "1.2.0",
            "_model_name": "LayoutModel",
            "_view_count": null,
            "_view_module": "@jupyter-widgets/base",
            "_view_module_version": "1.2.0",
            "_view_name": "LayoutView",
            "align_content": null,
            "align_items": null,
            "align_self": null,
            "border": null,
            "bottom": null,
            "display": null,
            "flex": null,
            "flex_flow": null,
            "grid_area": null,
            "grid_auto_columns": null,
            "grid_auto_flow": null,
            "grid_auto_rows": null,
            "grid_column": null,
            "grid_gap": null,
            "grid_row": null,
            "grid_template_areas": null,
            "grid_template_columns": null,
            "grid_template_rows": null,
            "height": null,
            "justify_content": null,
            "justify_items": null,
            "left": null,
            "margin": null,
            "max_height": null,
            "max_width": null,
            "min_height": null,
            "min_width": null,
            "object_fit": null,
            "object_position": null,
            "order": null,
            "overflow": null,
            "overflow_x": null,
            "overflow_y": null,
            "padding": null,
            "right": null,
            "top": null,
            "visibility": null,
            "width": null
          }
        },
        "0a662152e85a4038855118ef18253e03": {
          "model_module": "@jupyter-widgets/controls",
          "model_name": "DescriptionStyleModel",
          "model_module_version": "1.5.0",
          "state": {
            "_model_module": "@jupyter-widgets/controls",
            "_model_module_version": "1.5.0",
            "_model_name": "DescriptionStyleModel",
            "_view_count": null,
            "_view_module": "@jupyter-widgets/base",
            "_view_module_version": "1.2.0",
            "_view_name": "StyleView",
            "description_width": ""
          }
        },
        "f64ff3a57c5f49da8a8bfa8d43974252": {
          "model_module": "@jupyter-widgets/base",
          "model_name": "LayoutModel",
          "model_module_version": "1.2.0",
          "state": {
            "_model_module": "@jupyter-widgets/base",
            "_model_module_version": "1.2.0",
            "_model_name": "LayoutModel",
            "_view_count": null,
            "_view_module": "@jupyter-widgets/base",
            "_view_module_version": "1.2.0",
            "_view_name": "LayoutView",
            "align_content": null,
            "align_items": null,
            "align_self": null,
            "border": null,
            "bottom": null,
            "display": null,
            "flex": null,
            "flex_flow": null,
            "grid_area": null,
            "grid_auto_columns": null,
            "grid_auto_flow": null,
            "grid_auto_rows": null,
            "grid_column": null,
            "grid_gap": null,
            "grid_row": null,
            "grid_template_areas": null,
            "grid_template_columns": null,
            "grid_template_rows": null,
            "height": null,
            "justify_content": null,
            "justify_items": null,
            "left": null,
            "margin": null,
            "max_height": null,
            "max_width": null,
            "min_height": null,
            "min_width": null,
            "object_fit": null,
            "object_position": null,
            "order": null,
            "overflow": null,
            "overflow_x": null,
            "overflow_y": null,
            "padding": null,
            "right": null,
            "top": null,
            "visibility": null,
            "width": null
          }
        },
        "86ceaf4232834375a4f414411e3ce849": {
          "model_module": "@jupyter-widgets/controls",
          "model_name": "ProgressStyleModel",
          "model_module_version": "1.5.0",
          "state": {
            "_model_module": "@jupyter-widgets/controls",
            "_model_module_version": "1.5.0",
            "_model_name": "ProgressStyleModel",
            "_view_count": null,
            "_view_module": "@jupyter-widgets/base",
            "_view_module_version": "1.2.0",
            "_view_name": "StyleView",
            "bar_color": null,
            "description_width": ""
          }
        },
        "743c8ee8c9734a46bf7e0981f4950418": {
          "model_module": "@jupyter-widgets/base",
          "model_name": "LayoutModel",
          "model_module_version": "1.2.0",
          "state": {
            "_model_module": "@jupyter-widgets/base",
            "_model_module_version": "1.2.0",
            "_model_name": "LayoutModel",
            "_view_count": null,
            "_view_module": "@jupyter-widgets/base",
            "_view_module_version": "1.2.0",
            "_view_name": "LayoutView",
            "align_content": null,
            "align_items": null,
            "align_self": null,
            "border": null,
            "bottom": null,
            "display": null,
            "flex": null,
            "flex_flow": null,
            "grid_area": null,
            "grid_auto_columns": null,
            "grid_auto_flow": null,
            "grid_auto_rows": null,
            "grid_column": null,
            "grid_gap": null,
            "grid_row": null,
            "grid_template_areas": null,
            "grid_template_columns": null,
            "grid_template_rows": null,
            "height": null,
            "justify_content": null,
            "justify_items": null,
            "left": null,
            "margin": null,
            "max_height": null,
            "max_width": null,
            "min_height": null,
            "min_width": null,
            "object_fit": null,
            "object_position": null,
            "order": null,
            "overflow": null,
            "overflow_x": null,
            "overflow_y": null,
            "padding": null,
            "right": null,
            "top": null,
            "visibility": null,
            "width": null
          }
        },
        "6b40ca3339034050800d11d3ef011214": {
          "model_module": "@jupyter-widgets/controls",
          "model_name": "DescriptionStyleModel",
          "model_module_version": "1.5.0",
          "state": {
            "_model_module": "@jupyter-widgets/controls",
            "_model_module_version": "1.5.0",
            "_model_name": "DescriptionStyleModel",
            "_view_count": null,
            "_view_module": "@jupyter-widgets/base",
            "_view_module_version": "1.2.0",
            "_view_name": "StyleView",
            "description_width": ""
          }
        },
        "01def88a5e5241d6950e34d208648d32": {
          "model_module": "@jupyter-widgets/controls",
          "model_name": "HBoxModel",
          "model_module_version": "1.5.0",
          "state": {
            "_dom_classes": [],
            "_model_module": "@jupyter-widgets/controls",
            "_model_module_version": "1.5.0",
            "_model_name": "HBoxModel",
            "_view_count": null,
            "_view_module": "@jupyter-widgets/controls",
            "_view_module_version": "1.5.0",
            "_view_name": "HBoxView",
            "box_style": "",
            "children": [
              "IPY_MODEL_f8f88c69a66b4223ae419585fb79f6c7",
              "IPY_MODEL_92fb6ec7cd0d42d38678b83e66f84723",
              "IPY_MODEL_56445d0b26cd4254b611723564535414"
            ],
            "layout": "IPY_MODEL_d1895311974441b78bc20c9bf457237d"
          }
        },
        "f8f88c69a66b4223ae419585fb79f6c7": {
          "model_module": "@jupyter-widgets/controls",
          "model_name": "HTMLModel",
          "model_module_version": "1.5.0",
          "state": {
            "_dom_classes": [],
            "_model_module": "@jupyter-widgets/controls",
            "_model_module_version": "1.5.0",
            "_model_name": "HTMLModel",
            "_view_count": null,
            "_view_module": "@jupyter-widgets/controls",
            "_view_module_version": "1.5.0",
            "_view_name": "HTMLView",
            "description": "",
            "description_tooltip": null,
            "layout": "IPY_MODEL_44deaea987374079898a805d7855e0d7",
            "placeholder": "​",
            "style": "IPY_MODEL_f6d9d860bc7d452c82c0e2cc70f5646e",
            "value": "Downloading readme: 100%"
          }
        },
        "92fb6ec7cd0d42d38678b83e66f84723": {
          "model_module": "@jupyter-widgets/controls",
          "model_name": "FloatProgressModel",
          "model_module_version": "1.5.0",
          "state": {
            "_dom_classes": [],
            "_model_module": "@jupyter-widgets/controls",
            "_model_module_version": "1.5.0",
            "_model_name": "FloatProgressModel",
            "_view_count": null,
            "_view_module": "@jupyter-widgets/controls",
            "_view_module_version": "1.5.0",
            "_view_name": "ProgressView",
            "bar_style": "success",
            "description": "",
            "description_tooltip": null,
            "layout": "IPY_MODEL_8701a648f31b496291f2896f3362a665",
            "max": 7590,
            "min": 0,
            "orientation": "horizontal",
            "style": "IPY_MODEL_376918b9db674107a0196d04c333593d",
            "value": 7590
          }
        },
        "56445d0b26cd4254b611723564535414": {
          "model_module": "@jupyter-widgets/controls",
          "model_name": "HTMLModel",
          "model_module_version": "1.5.0",
          "state": {
            "_dom_classes": [],
            "_model_module": "@jupyter-widgets/controls",
            "_model_module_version": "1.5.0",
            "_model_name": "HTMLModel",
            "_view_count": null,
            "_view_module": "@jupyter-widgets/controls",
            "_view_module_version": "1.5.0",
            "_view_name": "HTMLView",
            "description": "",
            "description_tooltip": null,
            "layout": "IPY_MODEL_59f69a25ea6b464eb24e718c2e1fcf6c",
            "placeholder": "​",
            "style": "IPY_MODEL_7ac6d1aa80b244589b808ab17f62cea1",
            "value": " 7.59k/7.59k [00:00&lt;00:00, 280kB/s]"
          }
        },
        "d1895311974441b78bc20c9bf457237d": {
          "model_module": "@jupyter-widgets/base",
          "model_name": "LayoutModel",
          "model_module_version": "1.2.0",
          "state": {
            "_model_module": "@jupyter-widgets/base",
            "_model_module_version": "1.2.0",
            "_model_name": "LayoutModel",
            "_view_count": null,
            "_view_module": "@jupyter-widgets/base",
            "_view_module_version": "1.2.0",
            "_view_name": "LayoutView",
            "align_content": null,
            "align_items": null,
            "align_self": null,
            "border": null,
            "bottom": null,
            "display": null,
            "flex": null,
            "flex_flow": null,
            "grid_area": null,
            "grid_auto_columns": null,
            "grid_auto_flow": null,
            "grid_auto_rows": null,
            "grid_column": null,
            "grid_gap": null,
            "grid_row": null,
            "grid_template_areas": null,
            "grid_template_columns": null,
            "grid_template_rows": null,
            "height": null,
            "justify_content": null,
            "justify_items": null,
            "left": null,
            "margin": null,
            "max_height": null,
            "max_width": null,
            "min_height": null,
            "min_width": null,
            "object_fit": null,
            "object_position": null,
            "order": null,
            "overflow": null,
            "overflow_x": null,
            "overflow_y": null,
            "padding": null,
            "right": null,
            "top": null,
            "visibility": null,
            "width": null
          }
        },
        "44deaea987374079898a805d7855e0d7": {
          "model_module": "@jupyter-widgets/base",
          "model_name": "LayoutModel",
          "model_module_version": "1.2.0",
          "state": {
            "_model_module": "@jupyter-widgets/base",
            "_model_module_version": "1.2.0",
            "_model_name": "LayoutModel",
            "_view_count": null,
            "_view_module": "@jupyter-widgets/base",
            "_view_module_version": "1.2.0",
            "_view_name": "LayoutView",
            "align_content": null,
            "align_items": null,
            "align_self": null,
            "border": null,
            "bottom": null,
            "display": null,
            "flex": null,
            "flex_flow": null,
            "grid_area": null,
            "grid_auto_columns": null,
            "grid_auto_flow": null,
            "grid_auto_rows": null,
            "grid_column": null,
            "grid_gap": null,
            "grid_row": null,
            "grid_template_areas": null,
            "grid_template_columns": null,
            "grid_template_rows": null,
            "height": null,
            "justify_content": null,
            "justify_items": null,
            "left": null,
            "margin": null,
            "max_height": null,
            "max_width": null,
            "min_height": null,
            "min_width": null,
            "object_fit": null,
            "object_position": null,
            "order": null,
            "overflow": null,
            "overflow_x": null,
            "overflow_y": null,
            "padding": null,
            "right": null,
            "top": null,
            "visibility": null,
            "width": null
          }
        },
        "f6d9d860bc7d452c82c0e2cc70f5646e": {
          "model_module": "@jupyter-widgets/controls",
          "model_name": "DescriptionStyleModel",
          "model_module_version": "1.5.0",
          "state": {
            "_model_module": "@jupyter-widgets/controls",
            "_model_module_version": "1.5.0",
            "_model_name": "DescriptionStyleModel",
            "_view_count": null,
            "_view_module": "@jupyter-widgets/base",
            "_view_module_version": "1.2.0",
            "_view_name": "StyleView",
            "description_width": ""
          }
        },
        "8701a648f31b496291f2896f3362a665": {
          "model_module": "@jupyter-widgets/base",
          "model_name": "LayoutModel",
          "model_module_version": "1.2.0",
          "state": {
            "_model_module": "@jupyter-widgets/base",
            "_model_module_version": "1.2.0",
            "_model_name": "LayoutModel",
            "_view_count": null,
            "_view_module": "@jupyter-widgets/base",
            "_view_module_version": "1.2.0",
            "_view_name": "LayoutView",
            "align_content": null,
            "align_items": null,
            "align_self": null,
            "border": null,
            "bottom": null,
            "display": null,
            "flex": null,
            "flex_flow": null,
            "grid_area": null,
            "grid_auto_columns": null,
            "grid_auto_flow": null,
            "grid_auto_rows": null,
            "grid_column": null,
            "grid_gap": null,
            "grid_row": null,
            "grid_template_areas": null,
            "grid_template_columns": null,
            "grid_template_rows": null,
            "height": null,
            "justify_content": null,
            "justify_items": null,
            "left": null,
            "margin": null,
            "max_height": null,
            "max_width": null,
            "min_height": null,
            "min_width": null,
            "object_fit": null,
            "object_position": null,
            "order": null,
            "overflow": null,
            "overflow_x": null,
            "overflow_y": null,
            "padding": null,
            "right": null,
            "top": null,
            "visibility": null,
            "width": null
          }
        },
        "376918b9db674107a0196d04c333593d": {
          "model_module": "@jupyter-widgets/controls",
          "model_name": "ProgressStyleModel",
          "model_module_version": "1.5.0",
          "state": {
            "_model_module": "@jupyter-widgets/controls",
            "_model_module_version": "1.5.0",
            "_model_name": "ProgressStyleModel",
            "_view_count": null,
            "_view_module": "@jupyter-widgets/base",
            "_view_module_version": "1.2.0",
            "_view_name": "StyleView",
            "bar_color": null,
            "description_width": ""
          }
        },
        "59f69a25ea6b464eb24e718c2e1fcf6c": {
          "model_module": "@jupyter-widgets/base",
          "model_name": "LayoutModel",
          "model_module_version": "1.2.0",
          "state": {
            "_model_module": "@jupyter-widgets/base",
            "_model_module_version": "1.2.0",
            "_model_name": "LayoutModel",
            "_view_count": null,
            "_view_module": "@jupyter-widgets/base",
            "_view_module_version": "1.2.0",
            "_view_name": "LayoutView",
            "align_content": null,
            "align_items": null,
            "align_self": null,
            "border": null,
            "bottom": null,
            "display": null,
            "flex": null,
            "flex_flow": null,
            "grid_area": null,
            "grid_auto_columns": null,
            "grid_auto_flow": null,
            "grid_auto_rows": null,
            "grid_column": null,
            "grid_gap": null,
            "grid_row": null,
            "grid_template_areas": null,
            "grid_template_columns": null,
            "grid_template_rows": null,
            "height": null,
            "justify_content": null,
            "justify_items": null,
            "left": null,
            "margin": null,
            "max_height": null,
            "max_width": null,
            "min_height": null,
            "min_width": null,
            "object_fit": null,
            "object_position": null,
            "order": null,
            "overflow": null,
            "overflow_x": null,
            "overflow_y": null,
            "padding": null,
            "right": null,
            "top": null,
            "visibility": null,
            "width": null
          }
        },
        "7ac6d1aa80b244589b808ab17f62cea1": {
          "model_module": "@jupyter-widgets/controls",
          "model_name": "DescriptionStyleModel",
          "model_module_version": "1.5.0",
          "state": {
            "_model_module": "@jupyter-widgets/controls",
            "_model_module_version": "1.5.0",
            "_model_name": "DescriptionStyleModel",
            "_view_count": null,
            "_view_module": "@jupyter-widgets/base",
            "_view_module_version": "1.2.0",
            "_view_name": "StyleView",
            "description_width": ""
          }
        },
        "fc52edccab22447ea798344fdc374a16": {
          "model_module": "@jupyter-widgets/controls",
          "model_name": "HBoxModel",
          "model_module_version": "1.5.0",
          "state": {
            "_dom_classes": [],
            "_model_module": "@jupyter-widgets/controls",
            "_model_module_version": "1.5.0",
            "_model_name": "HBoxModel",
            "_view_count": null,
            "_view_module": "@jupyter-widgets/controls",
            "_view_module_version": "1.5.0",
            "_view_name": "HBoxView",
            "box_style": "",
            "children": [
              "IPY_MODEL_a8418621dd544421bea990a157bb2047",
              "IPY_MODEL_c8f437bff61347f8bca4af3cfa9c018d",
              "IPY_MODEL_cf27a77b759f45a8815c6e456d4f4532"
            ],
            "layout": "IPY_MODEL_5182600b7cec481791d90b9e2770876f"
          }
        },
        "a8418621dd544421bea990a157bb2047": {
          "model_module": "@jupyter-widgets/controls",
          "model_name": "HTMLModel",
          "model_module_version": "1.5.0",
          "state": {
            "_dom_classes": [],
            "_model_module": "@jupyter-widgets/controls",
            "_model_module_version": "1.5.0",
            "_model_name": "HTMLModel",
            "_view_count": null,
            "_view_module": "@jupyter-widgets/controls",
            "_view_module_version": "1.5.0",
            "_view_name": "HTMLView",
            "description": "",
            "description_tooltip": null,
            "layout": "IPY_MODEL_e430d413ce2147bfbf74baf781b57171",
            "placeholder": "​",
            "style": "IPY_MODEL_e9f3d480cf214750afee2a61a5f503c5",
            "value": "Downloading data: 100%"
          }
        },
        "c8f437bff61347f8bca4af3cfa9c018d": {
          "model_module": "@jupyter-widgets/controls",
          "model_name": "FloatProgressModel",
          "model_module_version": "1.5.0",
          "state": {
            "_dom_classes": [],
            "_model_module": "@jupyter-widgets/controls",
            "_model_module_version": "1.5.0",
            "_model_name": "FloatProgressModel",
            "_view_count": null,
            "_view_module": "@jupyter-widgets/controls",
            "_view_module_version": "1.5.0",
            "_view_name": "ProgressView",
            "bar_style": "success",
            "description": "",
            "description_tooltip": null,
            "layout": "IPY_MODEL_71292fe8edb7431d90788147431677e1",
            "max": 84125825,
            "min": 0,
            "orientation": "horizontal",
            "style": "IPY_MODEL_18848791440a426d93e161a02b84252a",
            "value": 84125825
          }
        },
        "cf27a77b759f45a8815c6e456d4f4532": {
          "model_module": "@jupyter-widgets/controls",
          "model_name": "HTMLModel",
          "model_module_version": "1.5.0",
          "state": {
            "_dom_classes": [],
            "_model_module": "@jupyter-widgets/controls",
            "_model_module_version": "1.5.0",
            "_model_name": "HTMLModel",
            "_view_count": null,
            "_view_module": "@jupyter-widgets/controls",
            "_view_module_version": "1.5.0",
            "_view_name": "HTMLView",
            "description": "",
            "description_tooltip": null,
            "layout": "IPY_MODEL_da653e78cc3f4591af60a203fb25c9c8",
            "placeholder": "​",
            "style": "IPY_MODEL_27d242abfe434d26bb04710068a50d08",
            "value": " 84.1M/84.1M [00:02&lt;00:00, 55.2MB/s]"
          }
        },
        "5182600b7cec481791d90b9e2770876f": {
          "model_module": "@jupyter-widgets/base",
          "model_name": "LayoutModel",
          "model_module_version": "1.2.0",
          "state": {
            "_model_module": "@jupyter-widgets/base",
            "_model_module_version": "1.2.0",
            "_model_name": "LayoutModel",
            "_view_count": null,
            "_view_module": "@jupyter-widgets/base",
            "_view_module_version": "1.2.0",
            "_view_name": "LayoutView",
            "align_content": null,
            "align_items": null,
            "align_self": null,
            "border": null,
            "bottom": null,
            "display": null,
            "flex": null,
            "flex_flow": null,
            "grid_area": null,
            "grid_auto_columns": null,
            "grid_auto_flow": null,
            "grid_auto_rows": null,
            "grid_column": null,
            "grid_gap": null,
            "grid_row": null,
            "grid_template_areas": null,
            "grid_template_columns": null,
            "grid_template_rows": null,
            "height": null,
            "justify_content": null,
            "justify_items": null,
            "left": null,
            "margin": null,
            "max_height": null,
            "max_width": null,
            "min_height": null,
            "min_width": null,
            "object_fit": null,
            "object_position": null,
            "order": null,
            "overflow": null,
            "overflow_x": null,
            "overflow_y": null,
            "padding": null,
            "right": null,
            "top": null,
            "visibility": null,
            "width": null
          }
        },
        "e430d413ce2147bfbf74baf781b57171": {
          "model_module": "@jupyter-widgets/base",
          "model_name": "LayoutModel",
          "model_module_version": "1.2.0",
          "state": {
            "_model_module": "@jupyter-widgets/base",
            "_model_module_version": "1.2.0",
            "_model_name": "LayoutModel",
            "_view_count": null,
            "_view_module": "@jupyter-widgets/base",
            "_view_module_version": "1.2.0",
            "_view_name": "LayoutView",
            "align_content": null,
            "align_items": null,
            "align_self": null,
            "border": null,
            "bottom": null,
            "display": null,
            "flex": null,
            "flex_flow": null,
            "grid_area": null,
            "grid_auto_columns": null,
            "grid_auto_flow": null,
            "grid_auto_rows": null,
            "grid_column": null,
            "grid_gap": null,
            "grid_row": null,
            "grid_template_areas": null,
            "grid_template_columns": null,
            "grid_template_rows": null,
            "height": null,
            "justify_content": null,
            "justify_items": null,
            "left": null,
            "margin": null,
            "max_height": null,
            "max_width": null,
            "min_height": null,
            "min_width": null,
            "object_fit": null,
            "object_position": null,
            "order": null,
            "overflow": null,
            "overflow_x": null,
            "overflow_y": null,
            "padding": null,
            "right": null,
            "top": null,
            "visibility": null,
            "width": null
          }
        },
        "e9f3d480cf214750afee2a61a5f503c5": {
          "model_module": "@jupyter-widgets/controls",
          "model_name": "DescriptionStyleModel",
          "model_module_version": "1.5.0",
          "state": {
            "_model_module": "@jupyter-widgets/controls",
            "_model_module_version": "1.5.0",
            "_model_name": "DescriptionStyleModel",
            "_view_count": null,
            "_view_module": "@jupyter-widgets/base",
            "_view_module_version": "1.2.0",
            "_view_name": "StyleView",
            "description_width": ""
          }
        },
        "71292fe8edb7431d90788147431677e1": {
          "model_module": "@jupyter-widgets/base",
          "model_name": "LayoutModel",
          "model_module_version": "1.2.0",
          "state": {
            "_model_module": "@jupyter-widgets/base",
            "_model_module_version": "1.2.0",
            "_model_name": "LayoutModel",
            "_view_count": null,
            "_view_module": "@jupyter-widgets/base",
            "_view_module_version": "1.2.0",
            "_view_name": "LayoutView",
            "align_content": null,
            "align_items": null,
            "align_self": null,
            "border": null,
            "bottom": null,
            "display": null,
            "flex": null,
            "flex_flow": null,
            "grid_area": null,
            "grid_auto_columns": null,
            "grid_auto_flow": null,
            "grid_auto_rows": null,
            "grid_column": null,
            "grid_gap": null,
            "grid_row": null,
            "grid_template_areas": null,
            "grid_template_columns": null,
            "grid_template_rows": null,
            "height": null,
            "justify_content": null,
            "justify_items": null,
            "left": null,
            "margin": null,
            "max_height": null,
            "max_width": null,
            "min_height": null,
            "min_width": null,
            "object_fit": null,
            "object_position": null,
            "order": null,
            "overflow": null,
            "overflow_x": null,
            "overflow_y": null,
            "padding": null,
            "right": null,
            "top": null,
            "visibility": null,
            "width": null
          }
        },
        "18848791440a426d93e161a02b84252a": {
          "model_module": "@jupyter-widgets/controls",
          "model_name": "ProgressStyleModel",
          "model_module_version": "1.5.0",
          "state": {
            "_model_module": "@jupyter-widgets/controls",
            "_model_module_version": "1.5.0",
            "_model_name": "ProgressStyleModel",
            "_view_count": null,
            "_view_module": "@jupyter-widgets/base",
            "_view_module_version": "1.2.0",
            "_view_name": "StyleView",
            "bar_color": null,
            "description_width": ""
          }
        },
        "da653e78cc3f4591af60a203fb25c9c8": {
          "model_module": "@jupyter-widgets/base",
          "model_name": "LayoutModel",
          "model_module_version": "1.2.0",
          "state": {
            "_model_module": "@jupyter-widgets/base",
            "_model_module_version": "1.2.0",
            "_model_name": "LayoutModel",
            "_view_count": null,
            "_view_module": "@jupyter-widgets/base",
            "_view_module_version": "1.2.0",
            "_view_name": "LayoutView",
            "align_content": null,
            "align_items": null,
            "align_self": null,
            "border": null,
            "bottom": null,
            "display": null,
            "flex": null,
            "flex_flow": null,
            "grid_area": null,
            "grid_auto_columns": null,
            "grid_auto_flow": null,
            "grid_auto_rows": null,
            "grid_column": null,
            "grid_gap": null,
            "grid_row": null,
            "grid_template_areas": null,
            "grid_template_columns": null,
            "grid_template_rows": null,
            "height": null,
            "justify_content": null,
            "justify_items": null,
            "left": null,
            "margin": null,
            "max_height": null,
            "max_width": null,
            "min_height": null,
            "min_width": null,
            "object_fit": null,
            "object_position": null,
            "order": null,
            "overflow": null,
            "overflow_x": null,
            "overflow_y": null,
            "padding": null,
            "right": null,
            "top": null,
            "visibility": null,
            "width": null
          }
        },
        "27d242abfe434d26bb04710068a50d08": {
          "model_module": "@jupyter-widgets/controls",
          "model_name": "DescriptionStyleModel",
          "model_module_version": "1.5.0",
          "state": {
            "_model_module": "@jupyter-widgets/controls",
            "_model_module_version": "1.5.0",
            "_model_name": "DescriptionStyleModel",
            "_view_count": null,
            "_view_module": "@jupyter-widgets/base",
            "_view_module_version": "1.2.0",
            "_view_name": "StyleView",
            "description_width": ""
          }
        },
        "ccb38d42c5f54966bcd210ba9c4d65d8": {
          "model_module": "@jupyter-widgets/controls",
          "model_name": "HBoxModel",
          "model_module_version": "1.5.0",
          "state": {
            "_dom_classes": [],
            "_model_module": "@jupyter-widgets/controls",
            "_model_module_version": "1.5.0",
            "_model_name": "HBoxModel",
            "_view_count": null,
            "_view_module": "@jupyter-widgets/controls",
            "_view_module_version": "1.5.0",
            "_view_name": "HBoxView",
            "box_style": "",
            "children": [
              "IPY_MODEL_9699f8d2ab92408ea95e069817947f4d",
              "IPY_MODEL_712e29d8b1c84e32abaeb698175de9cc",
              "IPY_MODEL_7a6e75d73c2b4312b73fee1e005a7e4a"
            ],
            "layout": "IPY_MODEL_d14f54afe5d5446ba02072249d056cef"
          }
        },
        "9699f8d2ab92408ea95e069817947f4d": {
          "model_module": "@jupyter-widgets/controls",
          "model_name": "HTMLModel",
          "model_module_version": "1.5.0",
          "state": {
            "_dom_classes": [],
            "_model_module": "@jupyter-widgets/controls",
            "_model_module_version": "1.5.0",
            "_model_name": "HTMLModel",
            "_view_count": null,
            "_view_module": "@jupyter-widgets/controls",
            "_view_module_version": "1.5.0",
            "_view_name": "HTMLView",
            "description": "",
            "description_tooltip": null,
            "layout": "IPY_MODEL_f42dfd7c7cf74427b0e806e03c6989d4",
            "placeholder": "​",
            "style": "IPY_MODEL_b6637da9a506469191469735e719b91a",
            "value": "Generating train split: 100%"
          }
        },
        "712e29d8b1c84e32abaeb698175de9cc": {
          "model_module": "@jupyter-widgets/controls",
          "model_name": "FloatProgressModel",
          "model_module_version": "1.5.0",
          "state": {
            "_dom_classes": [],
            "_model_module": "@jupyter-widgets/controls",
            "_model_module_version": "1.5.0",
            "_model_name": "FloatProgressModel",
            "_view_count": null,
            "_view_module": "@jupyter-widgets/controls",
            "_view_module_version": "1.5.0",
            "_view_name": "ProgressView",
            "bar_style": "",
            "description": "",
            "description_tooltip": null,
            "layout": "IPY_MODEL_73739768d6b044bea586078e5079834d",
            "max": 25000,
            "min": 0,
            "orientation": "horizontal",
            "style": "IPY_MODEL_4c1fe337c78b419db3e3cfe31c377a5d",
            "value": 25000
          }
        },
        "7a6e75d73c2b4312b73fee1e005a7e4a": {
          "model_module": "@jupyter-widgets/controls",
          "model_name": "HTMLModel",
          "model_module_version": "1.5.0",
          "state": {
            "_dom_classes": [],
            "_model_module": "@jupyter-widgets/controls",
            "_model_module_version": "1.5.0",
            "_model_name": "HTMLModel",
            "_view_count": null,
            "_view_module": "@jupyter-widgets/controls",
            "_view_module_version": "1.5.0",
            "_view_name": "HTMLView",
            "description": "",
            "description_tooltip": null,
            "layout": "IPY_MODEL_0a64678a0ed34411ad70483b055046de",
            "placeholder": "​",
            "style": "IPY_MODEL_dfab2b0f28324a5485af8dd852105fde",
            "value": " 25000/25000 [00:15&lt;00:00, 7718.15 examples/s]"
          }
        },
        "d14f54afe5d5446ba02072249d056cef": {
          "model_module": "@jupyter-widgets/base",
          "model_name": "LayoutModel",
          "model_module_version": "1.2.0",
          "state": {
            "_model_module": "@jupyter-widgets/base",
            "_model_module_version": "1.2.0",
            "_model_name": "LayoutModel",
            "_view_count": null,
            "_view_module": "@jupyter-widgets/base",
            "_view_module_version": "1.2.0",
            "_view_name": "LayoutView",
            "align_content": null,
            "align_items": null,
            "align_self": null,
            "border": null,
            "bottom": null,
            "display": null,
            "flex": null,
            "flex_flow": null,
            "grid_area": null,
            "grid_auto_columns": null,
            "grid_auto_flow": null,
            "grid_auto_rows": null,
            "grid_column": null,
            "grid_gap": null,
            "grid_row": null,
            "grid_template_areas": null,
            "grid_template_columns": null,
            "grid_template_rows": null,
            "height": null,
            "justify_content": null,
            "justify_items": null,
            "left": null,
            "margin": null,
            "max_height": null,
            "max_width": null,
            "min_height": null,
            "min_width": null,
            "object_fit": null,
            "object_position": null,
            "order": null,
            "overflow": null,
            "overflow_x": null,
            "overflow_y": null,
            "padding": null,
            "right": null,
            "top": null,
            "visibility": "hidden",
            "width": null
          }
        },
        "f42dfd7c7cf74427b0e806e03c6989d4": {
          "model_module": "@jupyter-widgets/base",
          "model_name": "LayoutModel",
          "model_module_version": "1.2.0",
          "state": {
            "_model_module": "@jupyter-widgets/base",
            "_model_module_version": "1.2.0",
            "_model_name": "LayoutModel",
            "_view_count": null,
            "_view_module": "@jupyter-widgets/base",
            "_view_module_version": "1.2.0",
            "_view_name": "LayoutView",
            "align_content": null,
            "align_items": null,
            "align_self": null,
            "border": null,
            "bottom": null,
            "display": null,
            "flex": null,
            "flex_flow": null,
            "grid_area": null,
            "grid_auto_columns": null,
            "grid_auto_flow": null,
            "grid_auto_rows": null,
            "grid_column": null,
            "grid_gap": null,
            "grid_row": null,
            "grid_template_areas": null,
            "grid_template_columns": null,
            "grid_template_rows": null,
            "height": null,
            "justify_content": null,
            "justify_items": null,
            "left": null,
            "margin": null,
            "max_height": null,
            "max_width": null,
            "min_height": null,
            "min_width": null,
            "object_fit": null,
            "object_position": null,
            "order": null,
            "overflow": null,
            "overflow_x": null,
            "overflow_y": null,
            "padding": null,
            "right": null,
            "top": null,
            "visibility": null,
            "width": null
          }
        },
        "b6637da9a506469191469735e719b91a": {
          "model_module": "@jupyter-widgets/controls",
          "model_name": "DescriptionStyleModel",
          "model_module_version": "1.5.0",
          "state": {
            "_model_module": "@jupyter-widgets/controls",
            "_model_module_version": "1.5.0",
            "_model_name": "DescriptionStyleModel",
            "_view_count": null,
            "_view_module": "@jupyter-widgets/base",
            "_view_module_version": "1.2.0",
            "_view_name": "StyleView",
            "description_width": ""
          }
        },
        "73739768d6b044bea586078e5079834d": {
          "model_module": "@jupyter-widgets/base",
          "model_name": "LayoutModel",
          "model_module_version": "1.2.0",
          "state": {
            "_model_module": "@jupyter-widgets/base",
            "_model_module_version": "1.2.0",
            "_model_name": "LayoutModel",
            "_view_count": null,
            "_view_module": "@jupyter-widgets/base",
            "_view_module_version": "1.2.0",
            "_view_name": "LayoutView",
            "align_content": null,
            "align_items": null,
            "align_self": null,
            "border": null,
            "bottom": null,
            "display": null,
            "flex": null,
            "flex_flow": null,
            "grid_area": null,
            "grid_auto_columns": null,
            "grid_auto_flow": null,
            "grid_auto_rows": null,
            "grid_column": null,
            "grid_gap": null,
            "grid_row": null,
            "grid_template_areas": null,
            "grid_template_columns": null,
            "grid_template_rows": null,
            "height": null,
            "justify_content": null,
            "justify_items": null,
            "left": null,
            "margin": null,
            "max_height": null,
            "max_width": null,
            "min_height": null,
            "min_width": null,
            "object_fit": null,
            "object_position": null,
            "order": null,
            "overflow": null,
            "overflow_x": null,
            "overflow_y": null,
            "padding": null,
            "right": null,
            "top": null,
            "visibility": null,
            "width": null
          }
        },
        "4c1fe337c78b419db3e3cfe31c377a5d": {
          "model_module": "@jupyter-widgets/controls",
          "model_name": "ProgressStyleModel",
          "model_module_version": "1.5.0",
          "state": {
            "_model_module": "@jupyter-widgets/controls",
            "_model_module_version": "1.5.0",
            "_model_name": "ProgressStyleModel",
            "_view_count": null,
            "_view_module": "@jupyter-widgets/base",
            "_view_module_version": "1.2.0",
            "_view_name": "StyleView",
            "bar_color": null,
            "description_width": ""
          }
        },
        "0a64678a0ed34411ad70483b055046de": {
          "model_module": "@jupyter-widgets/base",
          "model_name": "LayoutModel",
          "model_module_version": "1.2.0",
          "state": {
            "_model_module": "@jupyter-widgets/base",
            "_model_module_version": "1.2.0",
            "_model_name": "LayoutModel",
            "_view_count": null,
            "_view_module": "@jupyter-widgets/base",
            "_view_module_version": "1.2.0",
            "_view_name": "LayoutView",
            "align_content": null,
            "align_items": null,
            "align_self": null,
            "border": null,
            "bottom": null,
            "display": null,
            "flex": null,
            "flex_flow": null,
            "grid_area": null,
            "grid_auto_columns": null,
            "grid_auto_flow": null,
            "grid_auto_rows": null,
            "grid_column": null,
            "grid_gap": null,
            "grid_row": null,
            "grid_template_areas": null,
            "grid_template_columns": null,
            "grid_template_rows": null,
            "height": null,
            "justify_content": null,
            "justify_items": null,
            "left": null,
            "margin": null,
            "max_height": null,
            "max_width": null,
            "min_height": null,
            "min_width": null,
            "object_fit": null,
            "object_position": null,
            "order": null,
            "overflow": null,
            "overflow_x": null,
            "overflow_y": null,
            "padding": null,
            "right": null,
            "top": null,
            "visibility": null,
            "width": null
          }
        },
        "dfab2b0f28324a5485af8dd852105fde": {
          "model_module": "@jupyter-widgets/controls",
          "model_name": "DescriptionStyleModel",
          "model_module_version": "1.5.0",
          "state": {
            "_model_module": "@jupyter-widgets/controls",
            "_model_module_version": "1.5.0",
            "_model_name": "DescriptionStyleModel",
            "_view_count": null,
            "_view_module": "@jupyter-widgets/base",
            "_view_module_version": "1.2.0",
            "_view_name": "StyleView",
            "description_width": ""
          }
        },
        "57db55eb65bd4e009a83b17734bde078": {
          "model_module": "@jupyter-widgets/controls",
          "model_name": "HBoxModel",
          "model_module_version": "1.5.0",
          "state": {
            "_dom_classes": [],
            "_model_module": "@jupyter-widgets/controls",
            "_model_module_version": "1.5.0",
            "_model_name": "HBoxModel",
            "_view_count": null,
            "_view_module": "@jupyter-widgets/controls",
            "_view_module_version": "1.5.0",
            "_view_name": "HBoxView",
            "box_style": "",
            "children": [
              "IPY_MODEL_4dc1fe06b50e421dbafd8ba7654689ee",
              "IPY_MODEL_26bad67ca50e40f1959c5da8af99a964",
              "IPY_MODEL_542b06a71ad542b482ba7cc4612710f2"
            ],
            "layout": "IPY_MODEL_06a8e8bb954a43f3bf2ff806899deaed"
          }
        },
        "4dc1fe06b50e421dbafd8ba7654689ee": {
          "model_module": "@jupyter-widgets/controls",
          "model_name": "HTMLModel",
          "model_module_version": "1.5.0",
          "state": {
            "_dom_classes": [],
            "_model_module": "@jupyter-widgets/controls",
            "_model_module_version": "1.5.0",
            "_model_name": "HTMLModel",
            "_view_count": null,
            "_view_module": "@jupyter-widgets/controls",
            "_view_module_version": "1.5.0",
            "_view_name": "HTMLView",
            "description": "",
            "description_tooltip": null,
            "layout": "IPY_MODEL_1fb296b63c8441fb853fc9a11e2b8588",
            "placeholder": "​",
            "style": "IPY_MODEL_66ee1829858849ffaca6c93a7504960c",
            "value": "Generating test split: 100%"
          }
        },
        "26bad67ca50e40f1959c5da8af99a964": {
          "model_module": "@jupyter-widgets/controls",
          "model_name": "FloatProgressModel",
          "model_module_version": "1.5.0",
          "state": {
            "_dom_classes": [],
            "_model_module": "@jupyter-widgets/controls",
            "_model_module_version": "1.5.0",
            "_model_name": "FloatProgressModel",
            "_view_count": null,
            "_view_module": "@jupyter-widgets/controls",
            "_view_module_version": "1.5.0",
            "_view_name": "ProgressView",
            "bar_style": "",
            "description": "",
            "description_tooltip": null,
            "layout": "IPY_MODEL_35dcd5dc49d24500ba2bda55b2e32a88",
            "max": 25000,
            "min": 0,
            "orientation": "horizontal",
            "style": "IPY_MODEL_0c95ce6464ad49afb8e9ec75e926f03e",
            "value": 25000
          }
        },
        "542b06a71ad542b482ba7cc4612710f2": {
          "model_module": "@jupyter-widgets/controls",
          "model_name": "HTMLModel",
          "model_module_version": "1.5.0",
          "state": {
            "_dom_classes": [],
            "_model_module": "@jupyter-widgets/controls",
            "_model_module_version": "1.5.0",
            "_model_name": "HTMLModel",
            "_view_count": null,
            "_view_module": "@jupyter-widgets/controls",
            "_view_module_version": "1.5.0",
            "_view_name": "HTMLView",
            "description": "",
            "description_tooltip": null,
            "layout": "IPY_MODEL_6fc793f1511d425c80e8345c1ed85f8b",
            "placeholder": "​",
            "style": "IPY_MODEL_939136c5c3cd458dbde30ab80c5b07c8",
            "value": " 25000/25000 [00:17&lt;00:00, 8429.51 examples/s]"
          }
        },
        "06a8e8bb954a43f3bf2ff806899deaed": {
          "model_module": "@jupyter-widgets/base",
          "model_name": "LayoutModel",
          "model_module_version": "1.2.0",
          "state": {
            "_model_module": "@jupyter-widgets/base",
            "_model_module_version": "1.2.0",
            "_model_name": "LayoutModel",
            "_view_count": null,
            "_view_module": "@jupyter-widgets/base",
            "_view_module_version": "1.2.0",
            "_view_name": "LayoutView",
            "align_content": null,
            "align_items": null,
            "align_self": null,
            "border": null,
            "bottom": null,
            "display": null,
            "flex": null,
            "flex_flow": null,
            "grid_area": null,
            "grid_auto_columns": null,
            "grid_auto_flow": null,
            "grid_auto_rows": null,
            "grid_column": null,
            "grid_gap": null,
            "grid_row": null,
            "grid_template_areas": null,
            "grid_template_columns": null,
            "grid_template_rows": null,
            "height": null,
            "justify_content": null,
            "justify_items": null,
            "left": null,
            "margin": null,
            "max_height": null,
            "max_width": null,
            "min_height": null,
            "min_width": null,
            "object_fit": null,
            "object_position": null,
            "order": null,
            "overflow": null,
            "overflow_x": null,
            "overflow_y": null,
            "padding": null,
            "right": null,
            "top": null,
            "visibility": "hidden",
            "width": null
          }
        },
        "1fb296b63c8441fb853fc9a11e2b8588": {
          "model_module": "@jupyter-widgets/base",
          "model_name": "LayoutModel",
          "model_module_version": "1.2.0",
          "state": {
            "_model_module": "@jupyter-widgets/base",
            "_model_module_version": "1.2.0",
            "_model_name": "LayoutModel",
            "_view_count": null,
            "_view_module": "@jupyter-widgets/base",
            "_view_module_version": "1.2.0",
            "_view_name": "LayoutView",
            "align_content": null,
            "align_items": null,
            "align_self": null,
            "border": null,
            "bottom": null,
            "display": null,
            "flex": null,
            "flex_flow": null,
            "grid_area": null,
            "grid_auto_columns": null,
            "grid_auto_flow": null,
            "grid_auto_rows": null,
            "grid_column": null,
            "grid_gap": null,
            "grid_row": null,
            "grid_template_areas": null,
            "grid_template_columns": null,
            "grid_template_rows": null,
            "height": null,
            "justify_content": null,
            "justify_items": null,
            "left": null,
            "margin": null,
            "max_height": null,
            "max_width": null,
            "min_height": null,
            "min_width": null,
            "object_fit": null,
            "object_position": null,
            "order": null,
            "overflow": null,
            "overflow_x": null,
            "overflow_y": null,
            "padding": null,
            "right": null,
            "top": null,
            "visibility": null,
            "width": null
          }
        },
        "66ee1829858849ffaca6c93a7504960c": {
          "model_module": "@jupyter-widgets/controls",
          "model_name": "DescriptionStyleModel",
          "model_module_version": "1.5.0",
          "state": {
            "_model_module": "@jupyter-widgets/controls",
            "_model_module_version": "1.5.0",
            "_model_name": "DescriptionStyleModel",
            "_view_count": null,
            "_view_module": "@jupyter-widgets/base",
            "_view_module_version": "1.2.0",
            "_view_name": "StyleView",
            "description_width": ""
          }
        },
        "35dcd5dc49d24500ba2bda55b2e32a88": {
          "model_module": "@jupyter-widgets/base",
          "model_name": "LayoutModel",
          "model_module_version": "1.2.0",
          "state": {
            "_model_module": "@jupyter-widgets/base",
            "_model_module_version": "1.2.0",
            "_model_name": "LayoutModel",
            "_view_count": null,
            "_view_module": "@jupyter-widgets/base",
            "_view_module_version": "1.2.0",
            "_view_name": "LayoutView",
            "align_content": null,
            "align_items": null,
            "align_self": null,
            "border": null,
            "bottom": null,
            "display": null,
            "flex": null,
            "flex_flow": null,
            "grid_area": null,
            "grid_auto_columns": null,
            "grid_auto_flow": null,
            "grid_auto_rows": null,
            "grid_column": null,
            "grid_gap": null,
            "grid_row": null,
            "grid_template_areas": null,
            "grid_template_columns": null,
            "grid_template_rows": null,
            "height": null,
            "justify_content": null,
            "justify_items": null,
            "left": null,
            "margin": null,
            "max_height": null,
            "max_width": null,
            "min_height": null,
            "min_width": null,
            "object_fit": null,
            "object_position": null,
            "order": null,
            "overflow": null,
            "overflow_x": null,
            "overflow_y": null,
            "padding": null,
            "right": null,
            "top": null,
            "visibility": null,
            "width": null
          }
        },
        "0c95ce6464ad49afb8e9ec75e926f03e": {
          "model_module": "@jupyter-widgets/controls",
          "model_name": "ProgressStyleModel",
          "model_module_version": "1.5.0",
          "state": {
            "_model_module": "@jupyter-widgets/controls",
            "_model_module_version": "1.5.0",
            "_model_name": "ProgressStyleModel",
            "_view_count": null,
            "_view_module": "@jupyter-widgets/base",
            "_view_module_version": "1.2.0",
            "_view_name": "StyleView",
            "bar_color": null,
            "description_width": ""
          }
        },
        "6fc793f1511d425c80e8345c1ed85f8b": {
          "model_module": "@jupyter-widgets/base",
          "model_name": "LayoutModel",
          "model_module_version": "1.2.0",
          "state": {
            "_model_module": "@jupyter-widgets/base",
            "_model_module_version": "1.2.0",
            "_model_name": "LayoutModel",
            "_view_count": null,
            "_view_module": "@jupyter-widgets/base",
            "_view_module_version": "1.2.0",
            "_view_name": "LayoutView",
            "align_content": null,
            "align_items": null,
            "align_self": null,
            "border": null,
            "bottom": null,
            "display": null,
            "flex": null,
            "flex_flow": null,
            "grid_area": null,
            "grid_auto_columns": null,
            "grid_auto_flow": null,
            "grid_auto_rows": null,
            "grid_column": null,
            "grid_gap": null,
            "grid_row": null,
            "grid_template_areas": null,
            "grid_template_columns": null,
            "grid_template_rows": null,
            "height": null,
            "justify_content": null,
            "justify_items": null,
            "left": null,
            "margin": null,
            "max_height": null,
            "max_width": null,
            "min_height": null,
            "min_width": null,
            "object_fit": null,
            "object_position": null,
            "order": null,
            "overflow": null,
            "overflow_x": null,
            "overflow_y": null,
            "padding": null,
            "right": null,
            "top": null,
            "visibility": null,
            "width": null
          }
        },
        "939136c5c3cd458dbde30ab80c5b07c8": {
          "model_module": "@jupyter-widgets/controls",
          "model_name": "DescriptionStyleModel",
          "model_module_version": "1.5.0",
          "state": {
            "_model_module": "@jupyter-widgets/controls",
            "_model_module_version": "1.5.0",
            "_model_name": "DescriptionStyleModel",
            "_view_count": null,
            "_view_module": "@jupyter-widgets/base",
            "_view_module_version": "1.2.0",
            "_view_name": "StyleView",
            "description_width": ""
          }
        },
        "68fb63b6a05f4eeab099662f621d1192": {
          "model_module": "@jupyter-widgets/controls",
          "model_name": "HBoxModel",
          "model_module_version": "1.5.0",
          "state": {
            "_dom_classes": [],
            "_model_module": "@jupyter-widgets/controls",
            "_model_module_version": "1.5.0",
            "_model_name": "HBoxModel",
            "_view_count": null,
            "_view_module": "@jupyter-widgets/controls",
            "_view_module_version": "1.5.0",
            "_view_name": "HBoxView",
            "box_style": "",
            "children": [
              "IPY_MODEL_bcf19b045e9c4cb1a7aae800f75d62e9",
              "IPY_MODEL_0f44abd0b04b4a419695f32595024ff7",
              "IPY_MODEL_2f7b26d1ffe3405ea6f304d8d0f9fac8"
            ],
            "layout": "IPY_MODEL_7c4743e6a8614133af3066fc331b5e2b"
          }
        },
        "bcf19b045e9c4cb1a7aae800f75d62e9": {
          "model_module": "@jupyter-widgets/controls",
          "model_name": "HTMLModel",
          "model_module_version": "1.5.0",
          "state": {
            "_dom_classes": [],
            "_model_module": "@jupyter-widgets/controls",
            "_model_module_version": "1.5.0",
            "_model_name": "HTMLModel",
            "_view_count": null,
            "_view_module": "@jupyter-widgets/controls",
            "_view_module_version": "1.5.0",
            "_view_name": "HTMLView",
            "description": "",
            "description_tooltip": null,
            "layout": "IPY_MODEL_27cd3138ce3c4cff8c389b4a3c38c717",
            "placeholder": "​",
            "style": "IPY_MODEL_26b501ede4b542e49253bb707cb018df",
            "value": "Generating unsupervised split: 100%"
          }
        },
        "0f44abd0b04b4a419695f32595024ff7": {
          "model_module": "@jupyter-widgets/controls",
          "model_name": "FloatProgressModel",
          "model_module_version": "1.5.0",
          "state": {
            "_dom_classes": [],
            "_model_module": "@jupyter-widgets/controls",
            "_model_module_version": "1.5.0",
            "_model_name": "FloatProgressModel",
            "_view_count": null,
            "_view_module": "@jupyter-widgets/controls",
            "_view_module_version": "1.5.0",
            "_view_name": "ProgressView",
            "bar_style": "",
            "description": "",
            "description_tooltip": null,
            "layout": "IPY_MODEL_38a90979344a411f807f0bca9b011d6f",
            "max": 50000,
            "min": 0,
            "orientation": "horizontal",
            "style": "IPY_MODEL_3bc84bfbcefd4f838b7806e3ec85e35a",
            "value": 50000
          }
        },
        "2f7b26d1ffe3405ea6f304d8d0f9fac8": {
          "model_module": "@jupyter-widgets/controls",
          "model_name": "HTMLModel",
          "model_module_version": "1.5.0",
          "state": {
            "_dom_classes": [],
            "_model_module": "@jupyter-widgets/controls",
            "_model_module_version": "1.5.0",
            "_model_name": "HTMLModel",
            "_view_count": null,
            "_view_module": "@jupyter-widgets/controls",
            "_view_module_version": "1.5.0",
            "_view_name": "HTMLView",
            "description": "",
            "description_tooltip": null,
            "layout": "IPY_MODEL_ae9af49ee9354e278268f8d29bec82b5",
            "placeholder": "​",
            "style": "IPY_MODEL_24552e7f0d28450e8455517fbb43ff8a",
            "value": " 50000/50000 [00:19&lt;00:00, 8415.79 examples/s]"
          }
        },
        "7c4743e6a8614133af3066fc331b5e2b": {
          "model_module": "@jupyter-widgets/base",
          "model_name": "LayoutModel",
          "model_module_version": "1.2.0",
          "state": {
            "_model_module": "@jupyter-widgets/base",
            "_model_module_version": "1.2.0",
            "_model_name": "LayoutModel",
            "_view_count": null,
            "_view_module": "@jupyter-widgets/base",
            "_view_module_version": "1.2.0",
            "_view_name": "LayoutView",
            "align_content": null,
            "align_items": null,
            "align_self": null,
            "border": null,
            "bottom": null,
            "display": null,
            "flex": null,
            "flex_flow": null,
            "grid_area": null,
            "grid_auto_columns": null,
            "grid_auto_flow": null,
            "grid_auto_rows": null,
            "grid_column": null,
            "grid_gap": null,
            "grid_row": null,
            "grid_template_areas": null,
            "grid_template_columns": null,
            "grid_template_rows": null,
            "height": null,
            "justify_content": null,
            "justify_items": null,
            "left": null,
            "margin": null,
            "max_height": null,
            "max_width": null,
            "min_height": null,
            "min_width": null,
            "object_fit": null,
            "object_position": null,
            "order": null,
            "overflow": null,
            "overflow_x": null,
            "overflow_y": null,
            "padding": null,
            "right": null,
            "top": null,
            "visibility": "hidden",
            "width": null
          }
        },
        "27cd3138ce3c4cff8c389b4a3c38c717": {
          "model_module": "@jupyter-widgets/base",
          "model_name": "LayoutModel",
          "model_module_version": "1.2.0",
          "state": {
            "_model_module": "@jupyter-widgets/base",
            "_model_module_version": "1.2.0",
            "_model_name": "LayoutModel",
            "_view_count": null,
            "_view_module": "@jupyter-widgets/base",
            "_view_module_version": "1.2.0",
            "_view_name": "LayoutView",
            "align_content": null,
            "align_items": null,
            "align_self": null,
            "border": null,
            "bottom": null,
            "display": null,
            "flex": null,
            "flex_flow": null,
            "grid_area": null,
            "grid_auto_columns": null,
            "grid_auto_flow": null,
            "grid_auto_rows": null,
            "grid_column": null,
            "grid_gap": null,
            "grid_row": null,
            "grid_template_areas": null,
            "grid_template_columns": null,
            "grid_template_rows": null,
            "height": null,
            "justify_content": null,
            "justify_items": null,
            "left": null,
            "margin": null,
            "max_height": null,
            "max_width": null,
            "min_height": null,
            "min_width": null,
            "object_fit": null,
            "object_position": null,
            "order": null,
            "overflow": null,
            "overflow_x": null,
            "overflow_y": null,
            "padding": null,
            "right": null,
            "top": null,
            "visibility": null,
            "width": null
          }
        },
        "26b501ede4b542e49253bb707cb018df": {
          "model_module": "@jupyter-widgets/controls",
          "model_name": "DescriptionStyleModel",
          "model_module_version": "1.5.0",
          "state": {
            "_model_module": "@jupyter-widgets/controls",
            "_model_module_version": "1.5.0",
            "_model_name": "DescriptionStyleModel",
            "_view_count": null,
            "_view_module": "@jupyter-widgets/base",
            "_view_module_version": "1.2.0",
            "_view_name": "StyleView",
            "description_width": ""
          }
        },
        "38a90979344a411f807f0bca9b011d6f": {
          "model_module": "@jupyter-widgets/base",
          "model_name": "LayoutModel",
          "model_module_version": "1.2.0",
          "state": {
            "_model_module": "@jupyter-widgets/base",
            "_model_module_version": "1.2.0",
            "_model_name": "LayoutModel",
            "_view_count": null,
            "_view_module": "@jupyter-widgets/base",
            "_view_module_version": "1.2.0",
            "_view_name": "LayoutView",
            "align_content": null,
            "align_items": null,
            "align_self": null,
            "border": null,
            "bottom": null,
            "display": null,
            "flex": null,
            "flex_flow": null,
            "grid_area": null,
            "grid_auto_columns": null,
            "grid_auto_flow": null,
            "grid_auto_rows": null,
            "grid_column": null,
            "grid_gap": null,
            "grid_row": null,
            "grid_template_areas": null,
            "grid_template_columns": null,
            "grid_template_rows": null,
            "height": null,
            "justify_content": null,
            "justify_items": null,
            "left": null,
            "margin": null,
            "max_height": null,
            "max_width": null,
            "min_height": null,
            "min_width": null,
            "object_fit": null,
            "object_position": null,
            "order": null,
            "overflow": null,
            "overflow_x": null,
            "overflow_y": null,
            "padding": null,
            "right": null,
            "top": null,
            "visibility": null,
            "width": null
          }
        },
        "3bc84bfbcefd4f838b7806e3ec85e35a": {
          "model_module": "@jupyter-widgets/controls",
          "model_name": "ProgressStyleModel",
          "model_module_version": "1.5.0",
          "state": {
            "_model_module": "@jupyter-widgets/controls",
            "_model_module_version": "1.5.0",
            "_model_name": "ProgressStyleModel",
            "_view_count": null,
            "_view_module": "@jupyter-widgets/base",
            "_view_module_version": "1.2.0",
            "_view_name": "StyleView",
            "bar_color": null,
            "description_width": ""
          }
        },
        "ae9af49ee9354e278268f8d29bec82b5": {
          "model_module": "@jupyter-widgets/base",
          "model_name": "LayoutModel",
          "model_module_version": "1.2.0",
          "state": {
            "_model_module": "@jupyter-widgets/base",
            "_model_module_version": "1.2.0",
            "_model_name": "LayoutModel",
            "_view_count": null,
            "_view_module": "@jupyter-widgets/base",
            "_view_module_version": "1.2.0",
            "_view_name": "LayoutView",
            "align_content": null,
            "align_items": null,
            "align_self": null,
            "border": null,
            "bottom": null,
            "display": null,
            "flex": null,
            "flex_flow": null,
            "grid_area": null,
            "grid_auto_columns": null,
            "grid_auto_flow": null,
            "grid_auto_rows": null,
            "grid_column": null,
            "grid_gap": null,
            "grid_row": null,
            "grid_template_areas": null,
            "grid_template_columns": null,
            "grid_template_rows": null,
            "height": null,
            "justify_content": null,
            "justify_items": null,
            "left": null,
            "margin": null,
            "max_height": null,
            "max_width": null,
            "min_height": null,
            "min_width": null,
            "object_fit": null,
            "object_position": null,
            "order": null,
            "overflow": null,
            "overflow_x": null,
            "overflow_y": null,
            "padding": null,
            "right": null,
            "top": null,
            "visibility": null,
            "width": null
          }
        },
        "24552e7f0d28450e8455517fbb43ff8a": {
          "model_module": "@jupyter-widgets/controls",
          "model_name": "DescriptionStyleModel",
          "model_module_version": "1.5.0",
          "state": {
            "_model_module": "@jupyter-widgets/controls",
            "_model_module_version": "1.5.0",
            "_model_name": "DescriptionStyleModel",
            "_view_count": null,
            "_view_module": "@jupyter-widgets/base",
            "_view_module_version": "1.2.0",
            "_view_name": "StyleView",
            "description_width": ""
          }
        },
        "c7212a0d63164ef8a9e12b39c46f89e4": {
          "model_module": "@jupyter-widgets/controls",
          "model_name": "HBoxModel",
          "model_module_version": "1.5.0",
          "state": {
            "_dom_classes": [],
            "_model_module": "@jupyter-widgets/controls",
            "_model_module_version": "1.5.0",
            "_model_name": "HBoxModel",
            "_view_count": null,
            "_view_module": "@jupyter-widgets/controls",
            "_view_module_version": "1.5.0",
            "_view_name": "HBoxView",
            "box_style": "",
            "children": [
              "IPY_MODEL_bd5cc60412bf4fa3bbc6a14d8aa434ea",
              "IPY_MODEL_fa0d6b8bc9f241338e12abb6fffc7381",
              "IPY_MODEL_5c2269ad418640a5a14c5b908f6be4e7"
            ],
            "layout": "IPY_MODEL_b2faf6f698b24a86981b711316824b1b"
          }
        },
        "bd5cc60412bf4fa3bbc6a14d8aa434ea": {
          "model_module": "@jupyter-widgets/controls",
          "model_name": "HTMLModel",
          "model_module_version": "1.5.0",
          "state": {
            "_dom_classes": [],
            "_model_module": "@jupyter-widgets/controls",
            "_model_module_version": "1.5.0",
            "_model_name": "HTMLModel",
            "_view_count": null,
            "_view_module": "@jupyter-widgets/controls",
            "_view_module_version": "1.5.0",
            "_view_name": "HTMLView",
            "description": "",
            "description_tooltip": null,
            "layout": "IPY_MODEL_3a26de25c0ab4da195945cfcfde842cc",
            "placeholder": "​",
            "style": "IPY_MODEL_5fd6f8a5d8eb438d9563eb9df5710a48",
            "value": "100%"
          }
        },
        "fa0d6b8bc9f241338e12abb6fffc7381": {
          "model_module": "@jupyter-widgets/controls",
          "model_name": "FloatProgressModel",
          "model_module_version": "1.5.0",
          "state": {
            "_dom_classes": [],
            "_model_module": "@jupyter-widgets/controls",
            "_model_module_version": "1.5.0",
            "_model_name": "FloatProgressModel",
            "_view_count": null,
            "_view_module": "@jupyter-widgets/controls",
            "_view_module_version": "1.5.0",
            "_view_name": "ProgressView",
            "bar_style": "success",
            "description": "",
            "description_tooltip": null,
            "layout": "IPY_MODEL_ab6b5f42b815499ab3f54dd317913016",
            "max": 3,
            "min": 0,
            "orientation": "horizontal",
            "style": "IPY_MODEL_b064b25bd5db4ba8a600ec51732934d3",
            "value": 3
          }
        },
        "5c2269ad418640a5a14c5b908f6be4e7": {
          "model_module": "@jupyter-widgets/controls",
          "model_name": "HTMLModel",
          "model_module_version": "1.5.0",
          "state": {
            "_dom_classes": [],
            "_model_module": "@jupyter-widgets/controls",
            "_model_module_version": "1.5.0",
            "_model_name": "HTMLModel",
            "_view_count": null,
            "_view_module": "@jupyter-widgets/controls",
            "_view_module_version": "1.5.0",
            "_view_name": "HTMLView",
            "description": "",
            "description_tooltip": null,
            "layout": "IPY_MODEL_2a3fbb282be14505bf2b26b9d215237f",
            "placeholder": "​",
            "style": "IPY_MODEL_6cb0f06230834ec690678d82c677cfed",
            "value": " 3/3 [00:00&lt;00:00, 92.94it/s]"
          }
        },
        "b2faf6f698b24a86981b711316824b1b": {
          "model_module": "@jupyter-widgets/base",
          "model_name": "LayoutModel",
          "model_module_version": "1.2.0",
          "state": {
            "_model_module": "@jupyter-widgets/base",
            "_model_module_version": "1.2.0",
            "_model_name": "LayoutModel",
            "_view_count": null,
            "_view_module": "@jupyter-widgets/base",
            "_view_module_version": "1.2.0",
            "_view_name": "LayoutView",
            "align_content": null,
            "align_items": null,
            "align_self": null,
            "border": null,
            "bottom": null,
            "display": null,
            "flex": null,
            "flex_flow": null,
            "grid_area": null,
            "grid_auto_columns": null,
            "grid_auto_flow": null,
            "grid_auto_rows": null,
            "grid_column": null,
            "grid_gap": null,
            "grid_row": null,
            "grid_template_areas": null,
            "grid_template_columns": null,
            "grid_template_rows": null,
            "height": null,
            "justify_content": null,
            "justify_items": null,
            "left": null,
            "margin": null,
            "max_height": null,
            "max_width": null,
            "min_height": null,
            "min_width": null,
            "object_fit": null,
            "object_position": null,
            "order": null,
            "overflow": null,
            "overflow_x": null,
            "overflow_y": null,
            "padding": null,
            "right": null,
            "top": null,
            "visibility": null,
            "width": null
          }
        },
        "3a26de25c0ab4da195945cfcfde842cc": {
          "model_module": "@jupyter-widgets/base",
          "model_name": "LayoutModel",
          "model_module_version": "1.2.0",
          "state": {
            "_model_module": "@jupyter-widgets/base",
            "_model_module_version": "1.2.0",
            "_model_name": "LayoutModel",
            "_view_count": null,
            "_view_module": "@jupyter-widgets/base",
            "_view_module_version": "1.2.0",
            "_view_name": "LayoutView",
            "align_content": null,
            "align_items": null,
            "align_self": null,
            "border": null,
            "bottom": null,
            "display": null,
            "flex": null,
            "flex_flow": null,
            "grid_area": null,
            "grid_auto_columns": null,
            "grid_auto_flow": null,
            "grid_auto_rows": null,
            "grid_column": null,
            "grid_gap": null,
            "grid_row": null,
            "grid_template_areas": null,
            "grid_template_columns": null,
            "grid_template_rows": null,
            "height": null,
            "justify_content": null,
            "justify_items": null,
            "left": null,
            "margin": null,
            "max_height": null,
            "max_width": null,
            "min_height": null,
            "min_width": null,
            "object_fit": null,
            "object_position": null,
            "order": null,
            "overflow": null,
            "overflow_x": null,
            "overflow_y": null,
            "padding": null,
            "right": null,
            "top": null,
            "visibility": null,
            "width": null
          }
        },
        "5fd6f8a5d8eb438d9563eb9df5710a48": {
          "model_module": "@jupyter-widgets/controls",
          "model_name": "DescriptionStyleModel",
          "model_module_version": "1.5.0",
          "state": {
            "_model_module": "@jupyter-widgets/controls",
            "_model_module_version": "1.5.0",
            "_model_name": "DescriptionStyleModel",
            "_view_count": null,
            "_view_module": "@jupyter-widgets/base",
            "_view_module_version": "1.2.0",
            "_view_name": "StyleView",
            "description_width": ""
          }
        },
        "ab6b5f42b815499ab3f54dd317913016": {
          "model_module": "@jupyter-widgets/base",
          "model_name": "LayoutModel",
          "model_module_version": "1.2.0",
          "state": {
            "_model_module": "@jupyter-widgets/base",
            "_model_module_version": "1.2.0",
            "_model_name": "LayoutModel",
            "_view_count": null,
            "_view_module": "@jupyter-widgets/base",
            "_view_module_version": "1.2.0",
            "_view_name": "LayoutView",
            "align_content": null,
            "align_items": null,
            "align_self": null,
            "border": null,
            "bottom": null,
            "display": null,
            "flex": null,
            "flex_flow": null,
            "grid_area": null,
            "grid_auto_columns": null,
            "grid_auto_flow": null,
            "grid_auto_rows": null,
            "grid_column": null,
            "grid_gap": null,
            "grid_row": null,
            "grid_template_areas": null,
            "grid_template_columns": null,
            "grid_template_rows": null,
            "height": null,
            "justify_content": null,
            "justify_items": null,
            "left": null,
            "margin": null,
            "max_height": null,
            "max_width": null,
            "min_height": null,
            "min_width": null,
            "object_fit": null,
            "object_position": null,
            "order": null,
            "overflow": null,
            "overflow_x": null,
            "overflow_y": null,
            "padding": null,
            "right": null,
            "top": null,
            "visibility": null,
            "width": null
          }
        },
        "b064b25bd5db4ba8a600ec51732934d3": {
          "model_module": "@jupyter-widgets/controls",
          "model_name": "ProgressStyleModel",
          "model_module_version": "1.5.0",
          "state": {
            "_model_module": "@jupyter-widgets/controls",
            "_model_module_version": "1.5.0",
            "_model_name": "ProgressStyleModel",
            "_view_count": null,
            "_view_module": "@jupyter-widgets/base",
            "_view_module_version": "1.2.0",
            "_view_name": "StyleView",
            "bar_color": null,
            "description_width": ""
          }
        },
        "2a3fbb282be14505bf2b26b9d215237f": {
          "model_module": "@jupyter-widgets/base",
          "model_name": "LayoutModel",
          "model_module_version": "1.2.0",
          "state": {
            "_model_module": "@jupyter-widgets/base",
            "_model_module_version": "1.2.0",
            "_model_name": "LayoutModel",
            "_view_count": null,
            "_view_module": "@jupyter-widgets/base",
            "_view_module_version": "1.2.0",
            "_view_name": "LayoutView",
            "align_content": null,
            "align_items": null,
            "align_self": null,
            "border": null,
            "bottom": null,
            "display": null,
            "flex": null,
            "flex_flow": null,
            "grid_area": null,
            "grid_auto_columns": null,
            "grid_auto_flow": null,
            "grid_auto_rows": null,
            "grid_column": null,
            "grid_gap": null,
            "grid_row": null,
            "grid_template_areas": null,
            "grid_template_columns": null,
            "grid_template_rows": null,
            "height": null,
            "justify_content": null,
            "justify_items": null,
            "left": null,
            "margin": null,
            "max_height": null,
            "max_width": null,
            "min_height": null,
            "min_width": null,
            "object_fit": null,
            "object_position": null,
            "order": null,
            "overflow": null,
            "overflow_x": null,
            "overflow_y": null,
            "padding": null,
            "right": null,
            "top": null,
            "visibility": null,
            "width": null
          }
        },
        "6cb0f06230834ec690678d82c677cfed": {
          "model_module": "@jupyter-widgets/controls",
          "model_name": "DescriptionStyleModel",
          "model_module_version": "1.5.0",
          "state": {
            "_model_module": "@jupyter-widgets/controls",
            "_model_module_version": "1.5.0",
            "_model_name": "DescriptionStyleModel",
            "_view_count": null,
            "_view_module": "@jupyter-widgets/base",
            "_view_module_version": "1.2.0",
            "_view_name": "StyleView",
            "description_width": ""
          }
        },
        "d3f10370ab184af7b8fc76ef59b685e4": {
          "model_module": "@jupyter-widgets/controls",
          "model_name": "HBoxModel",
          "model_module_version": "1.5.0",
          "state": {
            "_dom_classes": [],
            "_model_module": "@jupyter-widgets/controls",
            "_model_module_version": "1.5.0",
            "_model_name": "HBoxModel",
            "_view_count": null,
            "_view_module": "@jupyter-widgets/controls",
            "_view_module_version": "1.5.0",
            "_view_name": "HBoxView",
            "box_style": "",
            "children": [
              "IPY_MODEL_275701879bc2423bb04b98aff8e64557",
              "IPY_MODEL_5bdc026387d5461b9d34e8dddcf01edf",
              "IPY_MODEL_e939eb6702584a098bb4c1fde3d0a963"
            ],
            "layout": "IPY_MODEL_339731df76f54f348d5c7ff38991e443"
          }
        },
        "275701879bc2423bb04b98aff8e64557": {
          "model_module": "@jupyter-widgets/controls",
          "model_name": "HTMLModel",
          "model_module_version": "1.5.0",
          "state": {
            "_dom_classes": [],
            "_model_module": "@jupyter-widgets/controls",
            "_model_module_version": "1.5.0",
            "_model_name": "HTMLModel",
            "_view_count": null,
            "_view_module": "@jupyter-widgets/controls",
            "_view_module_version": "1.5.0",
            "_view_name": "HTMLView",
            "description": "",
            "description_tooltip": null,
            "layout": "IPY_MODEL_e33a1819910f4537973adc87018c5364",
            "placeholder": "​",
            "style": "IPY_MODEL_4fbd69ba317f4ef1ac93983c7c7f95b3",
            "value": "Downloading: 100%"
          }
        },
        "5bdc026387d5461b9d34e8dddcf01edf": {
          "model_module": "@jupyter-widgets/controls",
          "model_name": "FloatProgressModel",
          "model_module_version": "1.5.0",
          "state": {
            "_dom_classes": [],
            "_model_module": "@jupyter-widgets/controls",
            "_model_module_version": "1.5.0",
            "_model_name": "FloatProgressModel",
            "_view_count": null,
            "_view_module": "@jupyter-widgets/controls",
            "_view_module_version": "1.5.0",
            "_view_name": "ProgressView",
            "bar_style": "success",
            "description": "",
            "description_tooltip": null,
            "layout": "IPY_MODEL_77ac26cc9eba413aaab68cc02599c02a",
            "max": 363423424,
            "min": 0,
            "orientation": "horizontal",
            "style": "IPY_MODEL_c409371f321b4e2087742e40d587571f",
            "value": 363423424
          }
        },
        "e939eb6702584a098bb4c1fde3d0a963": {
          "model_module": "@jupyter-widgets/controls",
          "model_name": "HTMLModel",
          "model_module_version": "1.5.0",
          "state": {
            "_dom_classes": [],
            "_model_module": "@jupyter-widgets/controls",
            "_model_module_version": "1.5.0",
            "_model_name": "HTMLModel",
            "_view_count": null,
            "_view_module": "@jupyter-widgets/controls",
            "_view_module_version": "1.5.0",
            "_view_name": "HTMLView",
            "description": "",
            "description_tooltip": null,
            "layout": "IPY_MODEL_4bfa8bb8bbe04fca98397016ab410ede",
            "placeholder": "​",
            "style": "IPY_MODEL_23f1fffa19ab4750a5cebc9721aa5f2e",
            "value": " 363M/363M [00:05&lt;00:00, 61.9MB/s]"
          }
        },
        "339731df76f54f348d5c7ff38991e443": {
          "model_module": "@jupyter-widgets/base",
          "model_name": "LayoutModel",
          "model_module_version": "1.2.0",
          "state": {
            "_model_module": "@jupyter-widgets/base",
            "_model_module_version": "1.2.0",
            "_model_name": "LayoutModel",
            "_view_count": null,
            "_view_module": "@jupyter-widgets/base",
            "_view_module_version": "1.2.0",
            "_view_name": "LayoutView",
            "align_content": null,
            "align_items": null,
            "align_self": null,
            "border": null,
            "bottom": null,
            "display": null,
            "flex": null,
            "flex_flow": null,
            "grid_area": null,
            "grid_auto_columns": null,
            "grid_auto_flow": null,
            "grid_auto_rows": null,
            "grid_column": null,
            "grid_gap": null,
            "grid_row": null,
            "grid_template_areas": null,
            "grid_template_columns": null,
            "grid_template_rows": null,
            "height": null,
            "justify_content": null,
            "justify_items": null,
            "left": null,
            "margin": null,
            "max_height": null,
            "max_width": null,
            "min_height": null,
            "min_width": null,
            "object_fit": null,
            "object_position": null,
            "order": null,
            "overflow": null,
            "overflow_x": null,
            "overflow_y": null,
            "padding": null,
            "right": null,
            "top": null,
            "visibility": null,
            "width": null
          }
        },
        "e33a1819910f4537973adc87018c5364": {
          "model_module": "@jupyter-widgets/base",
          "model_name": "LayoutModel",
          "model_module_version": "1.2.0",
          "state": {
            "_model_module": "@jupyter-widgets/base",
            "_model_module_version": "1.2.0",
            "_model_name": "LayoutModel",
            "_view_count": null,
            "_view_module": "@jupyter-widgets/base",
            "_view_module_version": "1.2.0",
            "_view_name": "LayoutView",
            "align_content": null,
            "align_items": null,
            "align_self": null,
            "border": null,
            "bottom": null,
            "display": null,
            "flex": null,
            "flex_flow": null,
            "grid_area": null,
            "grid_auto_columns": null,
            "grid_auto_flow": null,
            "grid_auto_rows": null,
            "grid_column": null,
            "grid_gap": null,
            "grid_row": null,
            "grid_template_areas": null,
            "grid_template_columns": null,
            "grid_template_rows": null,
            "height": null,
            "justify_content": null,
            "justify_items": null,
            "left": null,
            "margin": null,
            "max_height": null,
            "max_width": null,
            "min_height": null,
            "min_width": null,
            "object_fit": null,
            "object_position": null,
            "order": null,
            "overflow": null,
            "overflow_x": null,
            "overflow_y": null,
            "padding": null,
            "right": null,
            "top": null,
            "visibility": null,
            "width": null
          }
        },
        "4fbd69ba317f4ef1ac93983c7c7f95b3": {
          "model_module": "@jupyter-widgets/controls",
          "model_name": "DescriptionStyleModel",
          "model_module_version": "1.5.0",
          "state": {
            "_model_module": "@jupyter-widgets/controls",
            "_model_module_version": "1.5.0",
            "_model_name": "DescriptionStyleModel",
            "_view_count": null,
            "_view_module": "@jupyter-widgets/base",
            "_view_module_version": "1.2.0",
            "_view_name": "StyleView",
            "description_width": ""
          }
        },
        "77ac26cc9eba413aaab68cc02599c02a": {
          "model_module": "@jupyter-widgets/base",
          "model_name": "LayoutModel",
          "model_module_version": "1.2.0",
          "state": {
            "_model_module": "@jupyter-widgets/base",
            "_model_module_version": "1.2.0",
            "_model_name": "LayoutModel",
            "_view_count": null,
            "_view_module": "@jupyter-widgets/base",
            "_view_module_version": "1.2.0",
            "_view_name": "LayoutView",
            "align_content": null,
            "align_items": null,
            "align_self": null,
            "border": null,
            "bottom": null,
            "display": null,
            "flex": null,
            "flex_flow": null,
            "grid_area": null,
            "grid_auto_columns": null,
            "grid_auto_flow": null,
            "grid_auto_rows": null,
            "grid_column": null,
            "grid_gap": null,
            "grid_row": null,
            "grid_template_areas": null,
            "grid_template_columns": null,
            "grid_template_rows": null,
            "height": null,
            "justify_content": null,
            "justify_items": null,
            "left": null,
            "margin": null,
            "max_height": null,
            "max_width": null,
            "min_height": null,
            "min_width": null,
            "object_fit": null,
            "object_position": null,
            "order": null,
            "overflow": null,
            "overflow_x": null,
            "overflow_y": null,
            "padding": null,
            "right": null,
            "top": null,
            "visibility": null,
            "width": null
          }
        },
        "c409371f321b4e2087742e40d587571f": {
          "model_module": "@jupyter-widgets/controls",
          "model_name": "ProgressStyleModel",
          "model_module_version": "1.5.0",
          "state": {
            "_model_module": "@jupyter-widgets/controls",
            "_model_module_version": "1.5.0",
            "_model_name": "ProgressStyleModel",
            "_view_count": null,
            "_view_module": "@jupyter-widgets/base",
            "_view_module_version": "1.2.0",
            "_view_name": "StyleView",
            "bar_color": null,
            "description_width": ""
          }
        },
        "4bfa8bb8bbe04fca98397016ab410ede": {
          "model_module": "@jupyter-widgets/base",
          "model_name": "LayoutModel",
          "model_module_version": "1.2.0",
          "state": {
            "_model_module": "@jupyter-widgets/base",
            "_model_module_version": "1.2.0",
            "_model_name": "LayoutModel",
            "_view_count": null,
            "_view_module": "@jupyter-widgets/base",
            "_view_module_version": "1.2.0",
            "_view_name": "LayoutView",
            "align_content": null,
            "align_items": null,
            "align_self": null,
            "border": null,
            "bottom": null,
            "display": null,
            "flex": null,
            "flex_flow": null,
            "grid_area": null,
            "grid_auto_columns": null,
            "grid_auto_flow": null,
            "grid_auto_rows": null,
            "grid_column": null,
            "grid_gap": null,
            "grid_row": null,
            "grid_template_areas": null,
            "grid_template_columns": null,
            "grid_template_rows": null,
            "height": null,
            "justify_content": null,
            "justify_items": null,
            "left": null,
            "margin": null,
            "max_height": null,
            "max_width": null,
            "min_height": null,
            "min_width": null,
            "object_fit": null,
            "object_position": null,
            "order": null,
            "overflow": null,
            "overflow_x": null,
            "overflow_y": null,
            "padding": null,
            "right": null,
            "top": null,
            "visibility": null,
            "width": null
          }
        },
        "23f1fffa19ab4750a5cebc9721aa5f2e": {
          "model_module": "@jupyter-widgets/controls",
          "model_name": "DescriptionStyleModel",
          "model_module_version": "1.5.0",
          "state": {
            "_model_module": "@jupyter-widgets/controls",
            "_model_module_version": "1.5.0",
            "_model_name": "DescriptionStyleModel",
            "_view_count": null,
            "_view_module": "@jupyter-widgets/base",
            "_view_module_version": "1.2.0",
            "_view_name": "StyleView",
            "description_width": ""
          }
        }
      }
    }
  },
  "nbformat": 4,
  "nbformat_minor": 0
}